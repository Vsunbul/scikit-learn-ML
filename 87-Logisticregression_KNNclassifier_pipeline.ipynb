{
 "cells": [
  {
   "cell_type": "markdown",
   "id": "3f0886bc",
   "metadata": {},
   "source": [
    "\n",
    "Recall the dataset given in Exercise2DataSet, that includes 14 features representing the clinical conditions of 500 ICU patients and the target variable death representing whether the patient died (=1) in the ICU or discharged alive (=0). Using the same dataset, now try Regularized Logistic Regression (both L1 and L2 penalties and different C values), KNN classifier (different numbers of neighbors you believe to be reasonable), random forests (different numbers of trees and different numbers of features to select at each split of your selection) and gradient boosting classifier (different numbers of trees and learning rates of your selection). BE CAREFUL that the best model should be selected using cross validation hence you should never evaluate methods using the test set during the model selection. Also, be very careful that the standardization needs to be carefully done during cross validation not to end up with data snooping (recall the pipe approach discussed in the class). \n",
    "Once you decide on the final method and the set of best parameters, refit your model on the standardized training set and evaluate the performance (accuracy) on the standardized test set. Also provide the test confusion matrix, as well as test ROC-AUC score of the best model.  \n"
   ]
  },
  {
   "cell_type": "code",
   "execution_count": 48,
   "id": "3ca86d9e",
   "metadata": {},
   "outputs": [],
   "source": [
    "import numpy as np\n",
    "import pandas as pd\n",
    "import seaborn as sns\n",
    "import matplotlib.pyplot as plt\n",
    "from sklearn.model_selection import train_test_split\n",
    "from sklearn.linear_model import LogisticRegression\n"
   ]
  },
  {
   "cell_type": "code",
   "execution_count": 2,
   "id": "02106a4d",
   "metadata": {},
   "outputs": [
    {
     "data": {
      "text/html": [
       "<div>\n",
       "<style scoped>\n",
       "    .dataframe tbody tr th:only-of-type {\n",
       "        vertical-align: middle;\n",
       "    }\n",
       "\n",
       "    .dataframe tbody tr th {\n",
       "        vertical-align: top;\n",
       "    }\n",
       "\n",
       "    .dataframe thead th {\n",
       "        text-align: right;\n",
       "    }\n",
       "</style>\n",
       "<table border=\"1\" class=\"dataframe\">\n",
       "  <thead>\n",
       "    <tr style=\"text-align: right;\">\n",
       "      <th></th>\n",
       "      <th>age</th>\n",
       "      <th>LOS</th>\n",
       "      <th>previous_LOS</th>\n",
       "      <th>previous_ICU_stays</th>\n",
       "      <th>cvc_status</th>\n",
       "      <th>SIRS_48_hour</th>\n",
       "      <th>MV_24_hour</th>\n",
       "      <th>Initial_SOFA</th>\n",
       "      <th>Discharge_SOFA</th>\n",
       "      <th>Max_SOFA</th>\n",
       "      <th>AdmitApache</th>\n",
       "      <th>DischargeApache</th>\n",
       "      <th>sex</th>\n",
       "      <th>Type</th>\n",
       "      <th>death</th>\n",
       "    </tr>\n",
       "  </thead>\n",
       "  <tbody>\n",
       "    <tr>\n",
       "      <th>0</th>\n",
       "      <td>86</td>\n",
       "      <td>160.983333</td>\n",
       "      <td>1.800000</td>\n",
       "      <td>0</td>\n",
       "      <td>0</td>\n",
       "      <td>0</td>\n",
       "      <td>0</td>\n",
       "      <td>6</td>\n",
       "      <td>3</td>\n",
       "      <td>6</td>\n",
       "      <td>66</td>\n",
       "      <td>57</td>\n",
       "      <td>F</td>\n",
       "      <td>Surgical</td>\n",
       "      <td>0</td>\n",
       "    </tr>\n",
       "    <tr>\n",
       "      <th>1</th>\n",
       "      <td>61</td>\n",
       "      <td>103.533333</td>\n",
       "      <td>11.433333</td>\n",
       "      <td>0</td>\n",
       "      <td>1</td>\n",
       "      <td>1</td>\n",
       "      <td>0</td>\n",
       "      <td>7</td>\n",
       "      <td>4</td>\n",
       "      <td>7</td>\n",
       "      <td>80</td>\n",
       "      <td>73</td>\n",
       "      <td>F</td>\n",
       "      <td>Surgical</td>\n",
       "      <td>0</td>\n",
       "    </tr>\n",
       "    <tr>\n",
       "      <th>2</th>\n",
       "      <td>22</td>\n",
       "      <td>572.383333</td>\n",
       "      <td>14.450000</td>\n",
       "      <td>0</td>\n",
       "      <td>1</td>\n",
       "      <td>1</td>\n",
       "      <td>0</td>\n",
       "      <td>10</td>\n",
       "      <td>4</td>\n",
       "      <td>12</td>\n",
       "      <td>90</td>\n",
       "      <td>74</td>\n",
       "      <td>F</td>\n",
       "      <td>Surgical</td>\n",
       "      <td>0</td>\n",
       "    </tr>\n",
       "    <tr>\n",
       "      <th>3</th>\n",
       "      <td>58</td>\n",
       "      <td>51.200000</td>\n",
       "      <td>0.000000</td>\n",
       "      <td>0</td>\n",
       "      <td>1</td>\n",
       "      <td>1</td>\n",
       "      <td>1</td>\n",
       "      <td>7</td>\n",
       "      <td>3</td>\n",
       "      <td>7</td>\n",
       "      <td>78</td>\n",
       "      <td>64</td>\n",
       "      <td>M</td>\n",
       "      <td>Medical</td>\n",
       "      <td>0</td>\n",
       "    </tr>\n",
       "    <tr>\n",
       "      <th>4</th>\n",
       "      <td>18</td>\n",
       "      <td>35.116667</td>\n",
       "      <td>0.000000</td>\n",
       "      <td>0</td>\n",
       "      <td>0</td>\n",
       "      <td>1</td>\n",
       "      <td>1</td>\n",
       "      <td>7</td>\n",
       "      <td>2</td>\n",
       "      <td>7</td>\n",
       "      <td>73</td>\n",
       "      <td>49</td>\n",
       "      <td>M</td>\n",
       "      <td>Medical</td>\n",
       "      <td>0</td>\n",
       "    </tr>\n",
       "  </tbody>\n",
       "</table>\n",
       "</div>"
      ],
      "text/plain": [
       "   age         LOS  previous_LOS  previous_ICU_stays  cvc_status  \\\n",
       "0   86  160.983333      1.800000                   0           0   \n",
       "1   61  103.533333     11.433333                   0           1   \n",
       "2   22  572.383333     14.450000                   0           1   \n",
       "3   58   51.200000      0.000000                   0           1   \n",
       "4   18   35.116667      0.000000                   0           0   \n",
       "\n",
       "   SIRS_48_hour  MV_24_hour  Initial_SOFA  Discharge_SOFA  Max_SOFA  \\\n",
       "0             0           0             6               3         6   \n",
       "1             1           0             7               4         7   \n",
       "2             1           0            10               4        12   \n",
       "3             1           1             7               3         7   \n",
       "4             1           1             7               2         7   \n",
       "\n",
       "   AdmitApache  DischargeApache sex      Type  death  \n",
       "0           66               57   F  Surgical      0  \n",
       "1           80               73   F  Surgical      0  \n",
       "2           90               74   F  Surgical      0  \n",
       "3           78               64   M   Medical      0  \n",
       "4           73               49   M   Medical      0  "
      ]
     },
     "execution_count": 2,
     "metadata": {},
     "output_type": "execute_result"
    }
   ],
   "source": [
    "# Read data\n",
    "df = pd.read_csv(\"Exercise2DataSet.csv\")\n",
    "\n",
    "# see of the data\n",
    "df.head()"
   ]
  },
  {
   "cell_type": "code",
   "execution_count": 46,
   "id": "07bed8bf",
   "metadata": {},
   "outputs": [],
   "source": [
    "# Create of the independed and depended variables\n",
    "X = df.drop(\"death\", axis = 1)\n",
    "y = df[\"death\"]"
   ]
  },
  {
   "cell_type": "code",
   "execution_count": 47,
   "id": "d803a3d5",
   "metadata": {},
   "outputs": [],
   "source": [
    "# Dropping sex and Type columns.\n",
    "X.drop(X[[\"sex\", \"Type\"]], axis = 1, inplace = True)"
   ]
  },
  {
   "cell_type": "code",
   "execution_count": 5,
   "id": "5c7f6186",
   "metadata": {},
   "outputs": [
    {
     "data": {
      "text/plain": [
       "sex_M            0\n",
       "Type_Surgical    0\n",
       "dtype: int64"
      ]
     },
     "execution_count": 5,
     "metadata": {},
     "output_type": "execute_result"
    }
   ],
   "source": [
    "# Convert categorical variables to dummy variables\n",
    "dummies = pd.get_dummies(df[[\"sex\", \"Type\"]]).astype(\"int\")\n",
    "\n",
    "# Drop specific dummy variables\n",
    "dummies.drop(dummies[[\"sex_F\", \"Type_Medical\"]], axis = 1, inplace = True)\n",
    "\n",
    "# Check for any null values\n",
    "dummies.isnull().sum()"
   ]
  },
  {
   "cell_type": "code",
   "execution_count": 6,
   "id": "a5de86ec",
   "metadata": {},
   "outputs": [],
   "source": [
    "# Split data into training and test sets\n",
    "X_train, X_test, y_train, y_test = train_test_split(X, y, test_size=0.2, random_state=1)"
   ]
  },
  {
   "cell_type": "code",
   "execution_count": 53,
   "id": "38fcd593",
   "metadata": {},
   "outputs": [],
   "source": [
    "from sklearn.pipeline import Pipeline\n",
    "from sklearn.model_selection import cross_val_score\n",
    "from sklearn.model_selection import LeaveOneOut\n",
    "from sklearn.neighbors import KNeighborsClassifier\n",
    "from sklearn.preprocessing import StandardScaler\n",
    "from sklearn.model_selection import GridSearchCV\n",
    "from sklearn.metrics import accuracy_score, roc_auc_score, roc_curve"
   ]
  },
  {
   "cell_type": "code",
   "execution_count": 45,
   "id": "32233a67",
   "metadata": {},
   "outputs": [],
   "source": [
    "# Create a StandardScaler object\n",
    "scaler = StandardScaler()\n",
    "\n",
    "# Fit the scaler on the training data\n",
    "scaler.fit(X_train)\n",
    "\n",
    "# Transform the training data using the fitted scaler\n",
    "X_trainStandard = scaler.transform(X_train)\n",
    "\n",
    "# Transform the test data using the same scaler fitted on the training data\n",
    "X_testStandard = scaler.transform(X_test)"
   ]
  },
  {
   "cell_type": "code",
   "execution_count": 43,
   "id": "6f11a0da",
   "metadata": {},
   "outputs": [
    {
     "name": "stdout",
     "output_type": "stream",
     "text": [
      "Fitting 10 folds for each of 186 candidates, totalling 1860 fits\n",
      "best model and parameters: LogisticRegression(C=0.1, max_iter=50, solver='liblinear')\n"
     ]
    }
   ],
   "source": [
    "# Create a pipeline\n",
    "pipe = Pipeline([('scaler', preprocessing.StandardScaler()),('model',LogisticRegression())])\n",
    "\n",
    "# Create space of candidate learning algorithms and their hyperparameters\n",
    "grid_search = [{\"model\": [LogisticRegression(solver = \"liblinear\")],\n",
    "               \"model__max_iter\": [50,100,200,300,400,500,600,700,800,900,1000],\n",
    "               \"model__penalty\": [\"l1\", \"l2\"],\n",
    "               \"model__C\": [0.001,0.01,0.1,1,10,100,1000,10000]},\n",
    "               {\"model\": [KNeighborsClassifier()],\n",
    "               \"model__n_neighbors\": np.arange(2,12)}]\n",
    "\n",
    "# Create grid search\n",
    "grid = GridSearchCV(pipe, grid_search, verbose = 2, cv = 10, scoring='accuracy', n_jobs = -1 )\n",
    "\n",
    "# Fitting grid search\n",
    "best_model = grid.fit(X_train, y_train)\n",
    "\n",
    "# View best model\n",
    "print(\"best model and parameters:\", best_model.best_estimator_.get_params()['model'])\n"
   ]
  },
  {
   "cell_type": "code",
   "execution_count": 44,
   "id": "398d0c58",
   "metadata": {},
   "outputs": [
    {
     "name": "stdout",
     "output_type": "stream",
     "text": [
      "Best Model Score: 0.91\n"
     ]
    }
   ],
   "source": [
    "# Create the final logistic regression model with the best parameters found\n",
    "last_model = LogisticRegression(C = 0.1, max_iter = 50, solver = \"liblinear\")\n",
    "\n",
    "# Predict the labels for the standardized test data\n",
    "last_model.fit(X_trainStandard, y_train)\n",
    "\n",
    "# Predict the labels for the standardized test data\n",
    "ypred = last_model.predict(X_testStandard)\n",
    "\n",
    "# Print the accuracy score of the predictions\n",
    "print(\"Best Model Score:\", accuracy_score(y_test, ypred))"
   ]
  },
  {
   "cell_type": "code",
   "execution_count": 64,
   "id": "26b7de15",
   "metadata": {},
   "outputs": [
    {
     "data": {
      "text/plain": [
       "array([[78,  4],\n",
       "       [ 5, 13]], dtype=int64)"
      ]
     },
     "execution_count": 64,
     "metadata": {},
     "output_type": "execute_result"
    }
   ],
   "source": [
    "from sklearn.metrics import confusion_matrix\n",
    "# Calculate the confusion matrix\n",
    "confusion = confusion_matrix(y_test, ypred)\n",
    "\n",
    "# Display the confusion matrix\n",
    "confusion"
   ]
  },
  {
   "cell_type": "code",
   "execution_count": 63,
   "id": "5fb08874",
   "metadata": {},
   "outputs": [
    {
     "data": {
      "image/png": "[encoded data removed]",
      "text/plain": [
       "<Figure size 640x480 with 1 Axes>"
      ]
     },
     "metadata": {},
     "output_type": "display_data"
    }
   ],
   "source": [
    "# Calculate the ROC curve\n",
    "fpr, tpr, _ = roc_curve(y_test, ypred)\n",
    "\n",
    "# Plot the ROC curve\n",
    "plt.plot(fpr, tpr, label='AUC = ' + str(roc_auc_score(y_test, ypred)))\n",
    "plt.xlabel('False Positive Rate')\n",
    "plt.ylabel('True Positive Rate')\n",
    "plt.title('ROC Curve')\n",
    "plt.legend(loc=4)\n",
    "plt.show()\n",
    "\n"
   ]
  },
  {
   "cell_type": "code",
   "execution_count": null,
   "id": "ca525db0",
   "metadata": {},
   "outputs": [],
   "source": []
  }
 ],
 "metadata": {
  "kernelspec": {
   "display_name": "Python 3 (ipykernel)",
   "language": "python",
   "name": "python3"
  },
  "language_info": {
   "codemirror_mode": {
    "name": "ipython",
    "version": 3
   },
   "file_extension": ".py",
   "mimetype": "text/x-python",
   "name": "python",
   "nbconvert_exporter": "python",
   "pygments_lexer": "ipython3",
   "version": "3.11.5"
  }
 },
 "nbformat": 4,
 "nbformat_minor": 5
}
