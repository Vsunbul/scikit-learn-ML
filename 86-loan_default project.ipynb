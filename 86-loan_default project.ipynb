{
 "cells": [
  {
   "cell_type": "markdown",
   "id": "d8363c54",
   "metadata": {},
   "source": [
    "## 1. Data Information\n",
    "\n",
    "Loan Default Prediction Dataset This dataset contains information about customer loans, including customer demographics, loan details, and default status. The dataset can be used for various data analysis and machine learning tasks, such as predicting loan default risk. "
   ]
  },
  {
   "cell_type": "markdown",
   "id": "e9e553c8-ec9c-40a3-8137-3b9db7993f89",
   "metadata": {},
   "source": [
    "  ## 2. Goal\n",
    "\n",
    "* Building a machine learning model to predict DEFAULT and NO DEFAULT states based on Current_loan_status variable in the data set. \n",
    "\n",
    "\n",
    "* Examining the bank\"s profit situation in case the customer gives a loan considering the risk of default or rejects the customer\"s loan request.(customer policy analysis)"
   ]
  },
  {
   "cell_type": "markdown",
   "id": "9c29f525",
   "metadata": {
    "jp-MarkdownHeadingCollapsed": true
   },
   "source": [
    "## 3. Features\n",
    "\n",
    "* customer_id: Unique identifier for each customer \n",
    "* customer_age: Age of the customer\n",
    "* customer_income: Annual income of the customer \n",
    "* home_ownership: Home ownership status (e.g., RENT, OWN, MORTGAGE)\n",
    "* employment_duration: Duration of employment in months\n",
    "* loan_intent: Purpose of the loan (e.g., PERSONAL, EDUCATION, MEDICAL, VENTURE)\n",
    "* loan_grade: Grade assigned to the loan\n",
    "* loan_amnt: Loan amount requested\n",
    "* loan_int_rate: Interest rate of the loan\n",
    "* term_years: Loan term in years\n",
    "* historical_default: Indicates if the customer has a history of default (Y/N)\n",
    "* cred_hist_length: Length of the customer\"s credit history in years\n",
    "* Current_loan_status: Current status of the loan (DEFAULT, NO DEFAULT)"
   ]
  },
  {
   "cell_type": "markdown",
   "id": "50aadfaa-87bb-45df-a763-10d3dfd8b19c",
   "metadata": {},
   "source": [
    "## 4. Data Loading and Initial Overview"
   ]
  },
  {
   "cell_type": "code",
   "execution_count": 86,
   "id": "7b8ca113",
   "metadata": {},
   "outputs": [],
   "source": [
    "# Import necessary libraries\n",
    "\n",
    "import pandas as pd\n",
    "import numpy as np\n",
    "import seaborn as sns\n",
    "import matplotlib.pyplot as plt\n",
    "from sklearn.preprocessing import StandardScaler\n",
    "from sklearn.preprocessing import MinMaxScaler\n",
    "from sklearn.model_selection import train_test_split\n",
    "from sklearn.neighbors import KNeighborsClassifier\n",
    "from sklearn.tree import DecisionTreeClassifier\n",
    "from sklearn.ensemble import RandomForestClassifier\n",
    "from sklearn.ensemble import BaggingClassifier\n",
    "from sklearn.ensemble import GradientBoostingClassifier\n",
    "from sklearn.ensemble import AdaBoostClassifier\n",
    "from sklearn.linear_model import LogisticRegression\n",
    "from xgboost import XGBClassifier\n",
    "from sklearn.pipeline import Pipeline\n",
    "from sklearn.model_selection import GridSearchCV\n",
    "from sklearn.model_selection import RandomizedSearchCV\n",
    "from sklearn.model_selection import StratifiedKFold\n",
    "from sklearn.metrics import confusion_matrix, ConfusionMatrixDisplay\n",
    "from sklearn.metrics import roc_auc_score, roc_curve, f1_score, classification_report\n",
    "\n",
    "\n",
    "# ignore all warnings\n",
    "#import warnings\n",
    "#warnings.simplefilter(\"ignore\")\n"
   ]
  },
  {
   "cell_type": "code",
   "execution_count": 87,
   "id": "ad28aaa9",
   "metadata": {},
   "outputs": [],
   "source": [
    "# Load the dataset\n",
    "\n",
    "df = pd.read_csv(\"LoanDataset.csv\")"
   ]
  },
  {
   "cell_type": "code",
   "execution_count": 88,
   "id": "93632c8e",
   "metadata": {},
   "outputs": [
    {
     "data": {
      "text/html": [
       "<div>\n",
       "<style scoped>\n",
       "    .dataframe tbody tr th:only-of-type {\n",
       "        vertical-align: middle;\n",
       "    }\n",
       "\n",
       "    .dataframe tbody tr th {\n",
       "        vertical-align: top;\n",
       "    }\n",
       "\n",
       "    .dataframe thead th {\n",
       "        text-align: right;\n",
       "    }\n",
       "</style>\n",
       "<table border=\"1\" class=\"dataframe\">\n",
       "  <thead>\n",
       "    <tr style=\"text-align: right;\">\n",
       "      <th></th>\n",
       "      <th>customer_id</th>\n",
       "      <th>customer_age</th>\n",
       "      <th>customer_income</th>\n",
       "      <th>home_ownership</th>\n",
       "      <th>employment_duration</th>\n",
       "      <th>loan_intent</th>\n",
       "      <th>loan_grade</th>\n",
       "      <th>loan_amnt</th>\n",
       "      <th>loan_int_rate</th>\n",
       "      <th>term_years</th>\n",
       "      <th>historical_default</th>\n",
       "      <th>cred_hist_length</th>\n",
       "      <th>Current_loan_status</th>\n",
       "    </tr>\n",
       "  </thead>\n",
       "  <tbody>\n",
       "    <tr>\n",
       "      <th>0</th>\n",
       "      <td>1.0</td>\n",
       "      <td>22</td>\n",
       "      <td>59000</td>\n",
       "      <td>RENT</td>\n",
       "      <td>123.0</td>\n",
       "      <td>PERSONAL</td>\n",
       "      <td>C</td>\n",
       "      <td>£35,000.00</td>\n",
       "      <td>16.02</td>\n",
       "      <td>10</td>\n",
       "      <td>Y</td>\n",
       "      <td>3</td>\n",
       "      <td>DEFAULT</td>\n",
       "    </tr>\n",
       "    <tr>\n",
       "      <th>1</th>\n",
       "      <td>2.0</td>\n",
       "      <td>21</td>\n",
       "      <td>9600</td>\n",
       "      <td>OWN</td>\n",
       "      <td>5.0</td>\n",
       "      <td>EDUCATION</td>\n",
       "      <td>A</td>\n",
       "      <td>£1,000.00</td>\n",
       "      <td>11.14</td>\n",
       "      <td>1</td>\n",
       "      <td>NaN</td>\n",
       "      <td>2</td>\n",
       "      <td>NO DEFAULT</td>\n",
       "    </tr>\n",
       "    <tr>\n",
       "      <th>2</th>\n",
       "      <td>3.0</td>\n",
       "      <td>25</td>\n",
       "      <td>9600</td>\n",
       "      <td>MORTGAGE</td>\n",
       "      <td>1.0</td>\n",
       "      <td>MEDICAL</td>\n",
       "      <td>B</td>\n",
       "      <td>£5,500.00</td>\n",
       "      <td>12.87</td>\n",
       "      <td>5</td>\n",
       "      <td>N</td>\n",
       "      <td>3</td>\n",
       "      <td>DEFAULT</td>\n",
       "    </tr>\n",
       "    <tr>\n",
       "      <th>3</th>\n",
       "      <td>4.0</td>\n",
       "      <td>23</td>\n",
       "      <td>65500</td>\n",
       "      <td>RENT</td>\n",
       "      <td>4.0</td>\n",
       "      <td>MEDICAL</td>\n",
       "      <td>B</td>\n",
       "      <td>£35,000.00</td>\n",
       "      <td>15.23</td>\n",
       "      <td>10</td>\n",
       "      <td>N</td>\n",
       "      <td>2</td>\n",
       "      <td>DEFAULT</td>\n",
       "    </tr>\n",
       "    <tr>\n",
       "      <th>4</th>\n",
       "      <td>5.0</td>\n",
       "      <td>24</td>\n",
       "      <td>54400</td>\n",
       "      <td>RENT</td>\n",
       "      <td>8.0</td>\n",
       "      <td>MEDICAL</td>\n",
       "      <td>B</td>\n",
       "      <td>£35,000.00</td>\n",
       "      <td>14.27</td>\n",
       "      <td>10</td>\n",
       "      <td>Y</td>\n",
       "      <td>4</td>\n",
       "      <td>DEFAULT</td>\n",
       "    </tr>\n",
       "  </tbody>\n",
       "</table>\n",
       "</div>"
      ],
      "text/plain": [
       "   customer_id  customer_age customer_income home_ownership  \\\n",
       "0          1.0            22           59000           RENT   \n",
       "1          2.0            21            9600            OWN   \n",
       "2          3.0            25            9600       MORTGAGE   \n",
       "3          4.0            23           65500           RENT   \n",
       "4          5.0            24           54400           RENT   \n",
       "\n",
       "   employment_duration loan_intent loan_grade   loan_amnt  loan_int_rate  \\\n",
       "0                123.0    PERSONAL          C  £35,000.00          16.02   \n",
       "1                  5.0   EDUCATION          A   £1,000.00          11.14   \n",
       "2                  1.0     MEDICAL          B   £5,500.00          12.87   \n",
       "3                  4.0     MEDICAL          B  £35,000.00          15.23   \n",
       "4                  8.0     MEDICAL          B  £35,000.00          14.27   \n",
       "\n",
       "   term_years historical_default  cred_hist_length Current_loan_status  \n",
       "0          10                  Y                 3             DEFAULT  \n",
       "1           1                NaN                 2          NO DEFAULT  \n",
       "2           5                  N                 3             DEFAULT  \n",
       "3          10                  N                 2             DEFAULT  \n",
       "4          10                  Y                 4             DEFAULT  "
      ]
     },
     "execution_count": 88,
     "metadata": {},
     "output_type": "execute_result"
    }
   ],
   "source": [
    "# Display the first 5 rows of the dataset\n",
    "\n",
    "df.head()"
   ]
  },
  {
   "cell_type": "code",
   "execution_count": 89,
   "id": "3670e1ea-0d23-43d6-a4fc-dbec10674f01",
   "metadata": {},
   "outputs": [
    {
     "name": "stdout",
     "output_type": "stream",
     "text": [
      "<class 'pandas.core.frame.DataFrame'>\n",
      "RangeIndex: 32586 entries, 0 to 32585\n",
      "Data columns (total 13 columns):\n",
      " #   Column               Non-Null Count  Dtype  \n",
      "---  ------               --------------  -----  \n",
      " 0   customer_id          32583 non-null  float64\n",
      " 1   customer_age         32586 non-null  int64  \n",
      " 2   customer_income      32586 non-null  object \n",
      " 3   home_ownership       32586 non-null  object \n",
      " 4   employment_duration  31691 non-null  float64\n",
      " 5   loan_intent          32586 non-null  object \n",
      " 6   loan_grade           32586 non-null  object \n",
      " 7   loan_amnt            32585 non-null  object \n",
      " 8   loan_int_rate        29470 non-null  float64\n",
      " 9   term_years           32586 non-null  int64  \n",
      " 10  historical_default   11849 non-null  object \n",
      " 11  cred_hist_length     32586 non-null  int64  \n",
      " 12  Current_loan_status  32582 non-null  object \n",
      "dtypes: float64(3), int64(3), object(7)\n",
      "memory usage: 3.2+ MB\n"
     ]
    }
   ],
   "source": [
    "# Get a summary of the dataset\n",
    "\n",
    "df.info()"
   ]
  },
  {
   "cell_type": "markdown",
   "id": "d3c86bc5-9469-469e-ba08-81548c78f6c1",
   "metadata": {},
   "source": [
    "## 5. Preparing Of The Data For Model"
   ]
  },
  {
   "cell_type": "markdown",
   "id": "292a205f-ad6f-458a-bf56-558ac5b396e2",
   "metadata": {},
   "source": [
    "## 5.a. Dropping Customer Id Column"
   ]
  },
  {
   "cell_type": "code",
   "execution_count": 90,
   "id": "dceac7b7",
   "metadata": {},
   "outputs": [
    {
     "data": {
      "text/html": [
       "<div>\n",
       "<style scoped>\n",
       "    .dataframe tbody tr th:only-of-type {\n",
       "        vertical-align: middle;\n",
       "    }\n",
       "\n",
       "    .dataframe tbody tr th {\n",
       "        vertical-align: top;\n",
       "    }\n",
       "\n",
       "    .dataframe thead th {\n",
       "        text-align: right;\n",
       "    }\n",
       "</style>\n",
       "<table border=\"1\" class=\"dataframe\">\n",
       "  <thead>\n",
       "    <tr style=\"text-align: right;\">\n",
       "      <th></th>\n",
       "      <th>customer_age</th>\n",
       "      <th>customer_income</th>\n",
       "      <th>home_ownership</th>\n",
       "      <th>employment_duration</th>\n",
       "      <th>loan_intent</th>\n",
       "      <th>loan_grade</th>\n",
       "      <th>loan_amnt</th>\n",
       "      <th>loan_int_rate</th>\n",
       "      <th>term_years</th>\n",
       "      <th>historical_default</th>\n",
       "      <th>cred_hist_length</th>\n",
       "      <th>Current_loan_status</th>\n",
       "    </tr>\n",
       "  </thead>\n",
       "  <tbody>\n",
       "    <tr>\n",
       "      <th>0</th>\n",
       "      <td>22</td>\n",
       "      <td>59000</td>\n",
       "      <td>RENT</td>\n",
       "      <td>123.0</td>\n",
       "      <td>PERSONAL</td>\n",
       "      <td>C</td>\n",
       "      <td>£35,000.00</td>\n",
       "      <td>16.02</td>\n",
       "      <td>10</td>\n",
       "      <td>Y</td>\n",
       "      <td>3</td>\n",
       "      <td>DEFAULT</td>\n",
       "    </tr>\n",
       "    <tr>\n",
       "      <th>1</th>\n",
       "      <td>21</td>\n",
       "      <td>9600</td>\n",
       "      <td>OWN</td>\n",
       "      <td>5.0</td>\n",
       "      <td>EDUCATION</td>\n",
       "      <td>A</td>\n",
       "      <td>£1,000.00</td>\n",
       "      <td>11.14</td>\n",
       "      <td>1</td>\n",
       "      <td>NaN</td>\n",
       "      <td>2</td>\n",
       "      <td>NO DEFAULT</td>\n",
       "    </tr>\n",
       "    <tr>\n",
       "      <th>2</th>\n",
       "      <td>25</td>\n",
       "      <td>9600</td>\n",
       "      <td>MORTGAGE</td>\n",
       "      <td>1.0</td>\n",
       "      <td>MEDICAL</td>\n",
       "      <td>B</td>\n",
       "      <td>£5,500.00</td>\n",
       "      <td>12.87</td>\n",
       "      <td>5</td>\n",
       "      <td>N</td>\n",
       "      <td>3</td>\n",
       "      <td>DEFAULT</td>\n",
       "    </tr>\n",
       "    <tr>\n",
       "      <th>3</th>\n",
       "      <td>23</td>\n",
       "      <td>65500</td>\n",
       "      <td>RENT</td>\n",
       "      <td>4.0</td>\n",
       "      <td>MEDICAL</td>\n",
       "      <td>B</td>\n",
       "      <td>£35,000.00</td>\n",
       "      <td>15.23</td>\n",
       "      <td>10</td>\n",
       "      <td>N</td>\n",
       "      <td>2</td>\n",
       "      <td>DEFAULT</td>\n",
       "    </tr>\n",
       "    <tr>\n",
       "      <th>4</th>\n",
       "      <td>24</td>\n",
       "      <td>54400</td>\n",
       "      <td>RENT</td>\n",
       "      <td>8.0</td>\n",
       "      <td>MEDICAL</td>\n",
       "      <td>B</td>\n",
       "      <td>£35,000.00</td>\n",
       "      <td>14.27</td>\n",
       "      <td>10</td>\n",
       "      <td>Y</td>\n",
       "      <td>4</td>\n",
       "      <td>DEFAULT</td>\n",
       "    </tr>\n",
       "  </tbody>\n",
       "</table>\n",
       "</div>"
      ],
      "text/plain": [
       "   customer_age customer_income home_ownership  employment_duration  \\\n",
       "0            22           59000           RENT                123.0   \n",
       "1            21            9600            OWN                  5.0   \n",
       "2            25            9600       MORTGAGE                  1.0   \n",
       "3            23           65500           RENT                  4.0   \n",
       "4            24           54400           RENT                  8.0   \n",
       "\n",
       "  loan_intent loan_grade   loan_amnt  loan_int_rate  term_years  \\\n",
       "0    PERSONAL          C  £35,000.00          16.02          10   \n",
       "1   EDUCATION          A   £1,000.00          11.14           1   \n",
       "2     MEDICAL          B   £5,500.00          12.87           5   \n",
       "3     MEDICAL          B  £35,000.00          15.23          10   \n",
       "4     MEDICAL          B  £35,000.00          14.27          10   \n",
       "\n",
       "  historical_default  cred_hist_length Current_loan_status  \n",
       "0                  Y                 3             DEFAULT  \n",
       "1                NaN                 2          NO DEFAULT  \n",
       "2                  N                 3             DEFAULT  \n",
       "3                  N                 2             DEFAULT  \n",
       "4                  Y                 4             DEFAULT  "
      ]
     },
     "execution_count": 90,
     "metadata": {},
     "output_type": "execute_result"
    }
   ],
   "source": [
    "# Drop the \"customer_id\" column from the DataFrame\n",
    "\n",
    "df.drop(columns = \"customer_id\", inplace = True)\n",
    "\n",
    "# Display the first 5 rows of the dataset\n",
    "df.head()"
   ]
  },
  {
   "cell_type": "markdown",
   "id": "53cfc982-b16c-436e-af24-048a026f8d17",
   "metadata": {},
   "source": [
    "## 5.b. Converting Binary Type Of The Depended Column"
   ]
  },
  {
   "cell_type": "code",
   "execution_count": 91,
   "id": "72417088",
   "metadata": {},
   "outputs": [
    {
     "data": {
      "text/plain": [
       "0    1.0\n",
       "1    0.0\n",
       "2    1.0\n",
       "3    1.0\n",
       "4    1.0\n",
       "Name: Current_loan_status, dtype: float64"
      ]
     },
     "execution_count": 91,
     "metadata": {},
     "output_type": "execute_result"
    }
   ],
   "source": [
    "def binary_convert(df, col_name):\n",
    "    \n",
    "    \"\"\"\n",
    "    ##################################################################\n",
    "    \n",
    "    Converts the values of \"DEFAULT\" and \"\"DEFAULT NO\" to 1 and 0 in the specified \n",
    "    column in the given DataFrame.\n",
    "    \n",
    "    Args:\n",
    "    df (pd. DataFrame): The DataFrame to act on.\n",
    "    column_name (str): The name of the column to be transformed.\n",
    "\n",
    "    Returns:\n",
    "    Pd. DataFrame: The DataFrame to which the values are converted.\n",
    "    \n",
    "    #####################################################################\n",
    "    \"\"\"\n",
    "    # Convert categorical variables to numerical values\n",
    "    df[col_name] = df[col_name].map({\"DEFAULT\": 1 ,\"NO DEFAULT\": 0})\n",
    "    \n",
    "    return df[col_name].head()\n",
    "\n",
    "# Applying the function to the DataFrame\n",
    "binary_convert(df, \"Current_loan_status\")\n"
   ]
  },
  {
   "cell_type": "markdown",
   "id": "667d44e7-7edf-4f03-b412-9ca903a462ac",
   "metadata": {},
   "source": [
    "## 5.c. Converting Ordinal Type Of The Loan Grade Column"
   ]
  },
  {
   "cell_type": "code",
   "execution_count": 92,
   "id": "2b07354c-5adf-4f11-a0b4-361856a4aee5",
   "metadata": {},
   "outputs": [
    {
     "data": {
      "image/png": "[encoded data removed]",
      "text/plain": [
       "<Figure size 1000x600 with 1 Axes>"
      ]
     },
     "metadata": {},
     "output_type": "display_data"
    }
   ],
   "source": [
    "# Create a count plot\n",
    "plt.figure(figsize=(10, 6))\n",
    "sns.countplot(data=df, x = \"loan_grade\", hue = \"Current_loan_status\")\n",
    "plt.title(\"Loan Grade Distribution by Current Loan Status\")\n",
    "plt.xlabel(\"Loan Grade\")\n",
    "plt.ylabel(\"Count\")\n",
    "plt.show()"
   ]
  },
  {
   "cell_type": "code",
   "execution_count": 93,
   "id": "00b4d3a5",
   "metadata": {},
   "outputs": [
    {
     "data": {
      "text/plain": [
       "loan_grade\n",
       "A    15661\n",
       "B     9065\n",
       "C     4926\n",
       "D     2629\n",
       "E      305\n",
       "Name: count, dtype: int64"
      ]
     },
     "execution_count": 93,
     "metadata": {},
     "output_type": "execute_result"
    }
   ],
   "source": [
    "# Determine the number of loan grade groups\n",
    "\n",
    "df.loan_grade.value_counts()"
   ]
  },
  {
   "cell_type": "code",
   "execution_count": 94,
   "id": "fa4b4abc-f99e-4c36-b79f-4f00fb7c71ef",
   "metadata": {},
   "outputs": [
    {
     "data": {
      "text/plain": [
       "loan_grade\n",
       "A     8.557445\n",
       "B    11.788434\n",
       "C    14.235495\n",
       "D    15.959060\n",
       "E    18.964103\n",
       "Name: loan_int_rate, dtype: float64"
      ]
     },
     "execution_count": 94,
     "metadata": {},
     "output_type": "execute_result"
    }
   ],
   "source": [
    "# Determine average interest rates by groups\n",
    "\n",
    "df.groupby(\"loan_grade\")[\"loan_int_rate\"].mean()"
   ]
  },
  {
   "cell_type": "markdown",
   "id": "344a0228-6a98-410a-b105-bbc7565b682f",
   "metadata": {},
   "source": [
    "When we examine the table and the average interest rates, we observe that the system is structured as follows: \"A\": 5, \"B\": 4, \"C\": 3, \"D\": 2, \"E\": 1."
   ]
  },
  {
   "cell_type": "code",
   "execution_count": 95,
   "id": "03d8034a",
   "metadata": {},
   "outputs": [
    {
     "data": {
      "text/html": [
       "<div>\n",
       "<style scoped>\n",
       "    .dataframe tbody tr th:only-of-type {\n",
       "        vertical-align: middle;\n",
       "    }\n",
       "\n",
       "    .dataframe tbody tr th {\n",
       "        vertical-align: top;\n",
       "    }\n",
       "\n",
       "    .dataframe thead th {\n",
       "        text-align: right;\n",
       "    }\n",
       "</style>\n",
       "<table border=\"1\" class=\"dataframe\">\n",
       "  <thead>\n",
       "    <tr style=\"text-align: right;\">\n",
       "      <th></th>\n",
       "      <th>customer_age</th>\n",
       "      <th>customer_income</th>\n",
       "      <th>home_ownership</th>\n",
       "      <th>employment_duration</th>\n",
       "      <th>loan_intent</th>\n",
       "      <th>loan_grade</th>\n",
       "      <th>loan_amnt</th>\n",
       "      <th>loan_int_rate</th>\n",
       "      <th>term_years</th>\n",
       "      <th>historical_default</th>\n",
       "      <th>cred_hist_length</th>\n",
       "      <th>Current_loan_status</th>\n",
       "    </tr>\n",
       "  </thead>\n",
       "  <tbody>\n",
       "    <tr>\n",
       "      <th>0</th>\n",
       "      <td>22</td>\n",
       "      <td>59000</td>\n",
       "      <td>RENT</td>\n",
       "      <td>123.0</td>\n",
       "      <td>PERSONAL</td>\n",
       "      <td>3</td>\n",
       "      <td>£35,000.00</td>\n",
       "      <td>16.02</td>\n",
       "      <td>10</td>\n",
       "      <td>Y</td>\n",
       "      <td>3</td>\n",
       "      <td>1.0</td>\n",
       "    </tr>\n",
       "    <tr>\n",
       "      <th>1</th>\n",
       "      <td>21</td>\n",
       "      <td>9600</td>\n",
       "      <td>OWN</td>\n",
       "      <td>5.0</td>\n",
       "      <td>EDUCATION</td>\n",
       "      <td>5</td>\n",
       "      <td>£1,000.00</td>\n",
       "      <td>11.14</td>\n",
       "      <td>1</td>\n",
       "      <td>NaN</td>\n",
       "      <td>2</td>\n",
       "      <td>0.0</td>\n",
       "    </tr>\n",
       "    <tr>\n",
       "      <th>2</th>\n",
       "      <td>25</td>\n",
       "      <td>9600</td>\n",
       "      <td>MORTGAGE</td>\n",
       "      <td>1.0</td>\n",
       "      <td>MEDICAL</td>\n",
       "      <td>4</td>\n",
       "      <td>£5,500.00</td>\n",
       "      <td>12.87</td>\n",
       "      <td>5</td>\n",
       "      <td>N</td>\n",
       "      <td>3</td>\n",
       "      <td>1.0</td>\n",
       "    </tr>\n",
       "    <tr>\n",
       "      <th>3</th>\n",
       "      <td>23</td>\n",
       "      <td>65500</td>\n",
       "      <td>RENT</td>\n",
       "      <td>4.0</td>\n",
       "      <td>MEDICAL</td>\n",
       "      <td>4</td>\n",
       "      <td>£35,000.00</td>\n",
       "      <td>15.23</td>\n",
       "      <td>10</td>\n",
       "      <td>N</td>\n",
       "      <td>2</td>\n",
       "      <td>1.0</td>\n",
       "    </tr>\n",
       "    <tr>\n",
       "      <th>4</th>\n",
       "      <td>24</td>\n",
       "      <td>54400</td>\n",
       "      <td>RENT</td>\n",
       "      <td>8.0</td>\n",
       "      <td>MEDICAL</td>\n",
       "      <td>4</td>\n",
       "      <td>£35,000.00</td>\n",
       "      <td>14.27</td>\n",
       "      <td>10</td>\n",
       "      <td>Y</td>\n",
       "      <td>4</td>\n",
       "      <td>1.0</td>\n",
       "    </tr>\n",
       "  </tbody>\n",
       "</table>\n",
       "</div>"
      ],
      "text/plain": [
       "   customer_age customer_income home_ownership  employment_duration  \\\n",
       "0            22           59000           RENT                123.0   \n",
       "1            21            9600            OWN                  5.0   \n",
       "2            25            9600       MORTGAGE                  1.0   \n",
       "3            23           65500           RENT                  4.0   \n",
       "4            24           54400           RENT                  8.0   \n",
       "\n",
       "  loan_intent  loan_grade   loan_amnt  loan_int_rate  term_years  \\\n",
       "0    PERSONAL           3  £35,000.00          16.02          10   \n",
       "1   EDUCATION           5   £1,000.00          11.14           1   \n",
       "2     MEDICAL           4   £5,500.00          12.87           5   \n",
       "3     MEDICAL           4  £35,000.00          15.23          10   \n",
       "4     MEDICAL           4  £35,000.00          14.27          10   \n",
       "\n",
       "  historical_default  cred_hist_length  Current_loan_status  \n",
       "0                  Y                 3                  1.0  \n",
       "1                NaN                 2                  0.0  \n",
       "2                  N                 3                  1.0  \n",
       "3                  N                 2                  1.0  \n",
       "4                  Y                 4                  1.0  "
      ]
     },
     "execution_count": 95,
     "metadata": {},
     "output_type": "execute_result"
    }
   ],
   "source": [
    "def ordinary_convert(df, col_name):\n",
    "    \n",
    "    \"\"\"\n",
    "    ##################################################################\n",
    "    Converts the values of \"A,B,C,D,E\" to 5,4,3,2,1 in the specified \n",
    "    column in the given DataFrame.\n",
    "    \n",
    "    Args:\n",
    "    df (pd. DataFrame): The DataFrame to act on.\n",
    "    column_name (str): The name of the column to be transformed.\n",
    "\n",
    "    Returns:\n",
    "    Pd. DataFrame: The DataFrame to which the values are converted.\n",
    "    \n",
    "    ##################################################################\n",
    "    \"\"\"\n",
    "    # Convert string type values ​​to ordinary type values\n",
    "    df[col_name] = df[col_name].map({\"A\": 5, \"B\": 4, \"C\": 3, \"D\": 2, \"E\": 1})\n",
    "\n",
    "    # Return DataFrame\n",
    "    return df\n",
    "\n",
    "# Applying the function to the DataFrame\n",
    "ordinary_convert(df, \"loan_grade\").head()"
   ]
  },
  {
   "cell_type": "markdown",
   "id": "32e97a41-7ab9-43e4-a321-73506104e4ce",
   "metadata": {},
   "source": [
    "## 5.d. Converting Integer Value Of The Customer Income Column"
   ]
  },
  {
   "cell_type": "code",
   "execution_count": 96,
   "id": "4a8bfe63",
   "metadata": {},
   "outputs": [
    {
     "name": "stdout",
     "output_type": "stream",
     "text": [
      "customer_income data type:  float64\n"
     ]
    }
   ],
   "source": [
    "# Remove commas and whitespace from \"customer_income\" column\n",
    "df[\"customer_income\"] = df[\"customer_income\"].str.replace(\",\", \"\").str.strip()\n",
    "\n",
    "# Convert \"customer_income\" column to integers\n",
    "df[\"customer_income\"] = df[\"customer_income\"].astype(\"float64\")\n",
    "\n",
    "# Print the data type of \"customer_income\" column\n",
    "print(\"customer_income data type: \", df[\"customer_income\"].dtype)"
   ]
  },
  {
   "cell_type": "markdown",
   "id": "c6ec87fc-56c3-402a-9b8b-664751c9173d",
   "metadata": {},
   "source": [
    "## 5.e. Converting Integer Value Of The Loan Amount Column"
   ]
  },
  {
   "cell_type": "code",
   "execution_count": 97,
   "id": "318b35a2-fd60-4dc8-ba7e-200a4837448a",
   "metadata": {},
   "outputs": [
    {
     "name": "stdout",
     "output_type": "stream",
     "text": [
      "loan_amnt data type:  float64\n"
     ]
    }
   ],
   "source": [
    "# Remove commas and currency symbols from \"loan_amnt\" column\n",
    "df[\"loan_amnt\"] = df[\"loan_amnt\"].str.replace(\",\", \"\").str.strip(\"£\")\n",
    "\n",
    "# Convert \"loan_amnt\" column to float\n",
    "df[\"loan_amnt\"] = df[\"loan_amnt\"].astype(\"float64\")\n",
    "\n",
    "# Print the data type of \"customer_income\" column\n",
    "print(\"loan_amnt data type: \", df[\"loan_amnt\"].dtype)"
   ]
  },
  {
   "cell_type": "code",
   "execution_count": 98,
   "id": "922d486f-c4dd-43e4-9fcf-c4d050dda0ba",
   "metadata": {},
   "outputs": [
    {
     "data": {
      "image/png": "[encoded data removed]",
      "text/plain": [
       "<Figure size 640x480 with 1 Axes>"
      ]
     },
     "metadata": {},
     "output_type": "display_data"
    },
    {
     "data": {
      "image/png": "[encoded data removed]",
      "text/plain": [
       "<Figure size 640x480 with 1 Axes>"
      ]
     },
     "metadata": {},
     "output_type": "display_data"
    },
    {
     "data": {
      "image/png": "[encoded data removed]",
      "text/plain": [
       "<Figure size 640x480 with 1 Axes>"
      ]
     },
     "metadata": {},
     "output_type": "display_data"
    }
   ],
   "source": [
    "# Defining categorical columns\n",
    "cat_cols = [col for col in df.columns if df[col].dtypes == \"O\"]\n",
    "\n",
    "for i in cat_cols:\n",
    "    plt.figure()\n",
    "    sns.countplot(data = df, x = i, hue = i, palette = \"tab10\")\n",
    "    plt.title(i)\n",
    "    plt.ylabel(\"Count\")\n",
    "    plt.xticks(rotation = 45, ha = \"right\")\n",
    "    plt.tight_layout()\n",
    "    plt.show()\n",
    "    "
   ]
  },
  {
   "cell_type": "code",
   "execution_count": 99,
   "id": "76883786-d009-4a36-a790-1ad7c6e72b75",
   "metadata": {
    "scrolled": true
   },
   "outputs": [
    {
     "data": {
      "text/html": [
       "<div>\n",
       "<style scoped>\n",
       "    .dataframe tbody tr th:only-of-type {\n",
       "        vertical-align: middle;\n",
       "    }\n",
       "\n",
       "    .dataframe tbody tr th {\n",
       "        vertical-align: top;\n",
       "    }\n",
       "\n",
       "    .dataframe thead th {\n",
       "        text-align: right;\n",
       "    }\n",
       "</style>\n",
       "<table border=\"1\" class=\"dataframe\">\n",
       "  <thead>\n",
       "    <tr style=\"text-align: right;\">\n",
       "      <th></th>\n",
       "      <th>count</th>\n",
       "      <th>mean</th>\n",
       "      <th>std</th>\n",
       "      <th>min</th>\n",
       "      <th>25%</th>\n",
       "      <th>50%</th>\n",
       "      <th>75%</th>\n",
       "      <th>max</th>\n",
       "    </tr>\n",
       "  </thead>\n",
       "  <tbody>\n",
       "    <tr>\n",
       "      <th>customer_age</th>\n",
       "      <td>32586.0</td>\n",
       "      <td>27.732769</td>\n",
       "      <td>6.360528</td>\n",
       "      <td>3.00</td>\n",
       "      <td>23.0</td>\n",
       "      <td>26.00</td>\n",
       "      <td>30.00</td>\n",
       "      <td>144.00</td>\n",
       "    </tr>\n",
       "    <tr>\n",
       "      <th>customer_income</th>\n",
       "      <td>32586.0</td>\n",
       "      <td>66076.371386</td>\n",
       "      <td>61980.289734</td>\n",
       "      <td>4000.00</td>\n",
       "      <td>38500.0</td>\n",
       "      <td>55000.00</td>\n",
       "      <td>79200.00</td>\n",
       "      <td>6000000.00</td>\n",
       "    </tr>\n",
       "    <tr>\n",
       "      <th>employment_duration</th>\n",
       "      <td>31691.0</td>\n",
       "      <td>4.790161</td>\n",
       "      <td>4.142746</td>\n",
       "      <td>0.00</td>\n",
       "      <td>2.0</td>\n",
       "      <td>4.00</td>\n",
       "      <td>7.00</td>\n",
       "      <td>123.00</td>\n",
       "    </tr>\n",
       "    <tr>\n",
       "      <th>loan_grade</th>\n",
       "      <td>32586.0</td>\n",
       "      <td>4.139999</td>\n",
       "      <td>1.009535</td>\n",
       "      <td>1.00</td>\n",
       "      <td>4.0</td>\n",
       "      <td>4.00</td>\n",
       "      <td>5.00</td>\n",
       "      <td>5.00</td>\n",
       "    </tr>\n",
       "    <tr>\n",
       "      <th>loan_amnt</th>\n",
       "      <td>32585.0</td>\n",
       "      <td>9756.246739</td>\n",
       "      <td>21771.851498</td>\n",
       "      <td>500.00</td>\n",
       "      <td>5000.0</td>\n",
       "      <td>8000.00</td>\n",
       "      <td>12200.00</td>\n",
       "      <td>3500000.00</td>\n",
       "    </tr>\n",
       "    <tr>\n",
       "      <th>loan_int_rate</th>\n",
       "      <td>29470.0</td>\n",
       "      <td>11.011553</td>\n",
       "      <td>3.240440</td>\n",
       "      <td>5.42</td>\n",
       "      <td>7.9</td>\n",
       "      <td>10.99</td>\n",
       "      <td>13.47</td>\n",
       "      <td>23.22</td>\n",
       "    </tr>\n",
       "    <tr>\n",
       "      <th>term_years</th>\n",
       "      <td>32586.0</td>\n",
       "      <td>4.761738</td>\n",
       "      <td>2.471107</td>\n",
       "      <td>1.00</td>\n",
       "      <td>3.0</td>\n",
       "      <td>4.00</td>\n",
       "      <td>7.00</td>\n",
       "      <td>10.00</td>\n",
       "    </tr>\n",
       "    <tr>\n",
       "      <th>cred_hist_length</th>\n",
       "      <td>32586.0</td>\n",
       "      <td>5.804026</td>\n",
       "      <td>4.055078</td>\n",
       "      <td>2.00</td>\n",
       "      <td>3.0</td>\n",
       "      <td>4.00</td>\n",
       "      <td>8.00</td>\n",
       "      <td>30.00</td>\n",
       "    </tr>\n",
       "    <tr>\n",
       "      <th>Current_loan_status</th>\n",
       "      <td>32582.0</td>\n",
       "      <td>0.209932</td>\n",
       "      <td>0.407266</td>\n",
       "      <td>0.00</td>\n",
       "      <td>0.0</td>\n",
       "      <td>0.00</td>\n",
       "      <td>0.00</td>\n",
       "      <td>1.00</td>\n",
       "    </tr>\n",
       "  </tbody>\n",
       "</table>\n",
       "</div>"
      ],
      "text/plain": [
       "                       count          mean           std      min      25%  \\\n",
       "customer_age         32586.0     27.732769      6.360528     3.00     23.0   \n",
       "customer_income      32586.0  66076.371386  61980.289734  4000.00  38500.0   \n",
       "employment_duration  31691.0      4.790161      4.142746     0.00      2.0   \n",
       "loan_grade           32586.0      4.139999      1.009535     1.00      4.0   \n",
       "loan_amnt            32585.0   9756.246739  21771.851498   500.00   5000.0   \n",
       "loan_int_rate        29470.0     11.011553      3.240440     5.42      7.9   \n",
       "term_years           32586.0      4.761738      2.471107     1.00      3.0   \n",
       "cred_hist_length     32586.0      5.804026      4.055078     2.00      3.0   \n",
       "Current_loan_status  32582.0      0.209932      0.407266     0.00      0.0   \n",
       "\n",
       "                          50%       75%         max  \n",
       "customer_age            26.00     30.00      144.00  \n",
       "customer_income      55000.00  79200.00  6000000.00  \n",
       "employment_duration      4.00      7.00      123.00  \n",
       "loan_grade               4.00      5.00        5.00  \n",
       "loan_amnt             8000.00  12200.00  3500000.00  \n",
       "loan_int_rate           10.99     13.47       23.22  \n",
       "term_years               4.00      7.00       10.00  \n",
       "cred_hist_length         4.00      8.00       30.00  \n",
       "Current_loan_status      0.00      0.00        1.00  "
      ]
     },
     "execution_count": 99,
     "metadata": {},
     "output_type": "execute_result"
    }
   ],
   "source": [
    "# Summary statistics of numerical data\n",
    "\n",
    "df.describe().T"
   ]
  },
  {
   "cell_type": "markdown",
   "id": "d406819e-d319-4c40-94c3-289ac6459bbe",
   "metadata": {},
   "source": [
    "Anormal Values:\n",
    "\n",
    "customer_age:\n",
    "\n",
    "Values such as 144 years are unusually high. Such values are often due to data entry errors.\n",
    "\n",
    "customer_income:\n",
    "\n",
    "Values like 6,000,000 are anormally high. These values are typically due to data entry errors or outliers.\n",
    "\n",
    "\n",
    "employment_duration:\n",
    "\n",
    "A duration of 123 years is unrealistically long. A realistic employment duration cannot be this extensive.\n",
    "\n",
    "\n",
    "loan_amnt:\n",
    "\n",
    "Values like 3,500,000 are extremely high for loan amounts. These values might be outliers.\n",
    "\n",
    "\n",
    "cred_hist_length:\n",
    "\n",
    "Values such as 30 years are unusually long for credit history length. This kind of duration may be anormal."
   ]
  },
  {
   "cell_type": "code",
   "execution_count": 100,
   "id": "af1b4d1b-21fb-470e-af76-f42d51082baa",
   "metadata": {
    "scrolled": true
   },
   "outputs": [
    {
     "data": {
      "text/html": [
       "<div>\n",
       "<style scoped>\n",
       "    .dataframe tbody tr th:only-of-type {\n",
       "        vertical-align: middle;\n",
       "    }\n",
       "\n",
       "    .dataframe tbody tr th {\n",
       "        vertical-align: top;\n",
       "    }\n",
       "\n",
       "    .dataframe thead th {\n",
       "        text-align: right;\n",
       "    }\n",
       "</style>\n",
       "<table border=\"1\" class=\"dataframe\">\n",
       "  <thead>\n",
       "    <tr style=\"text-align: right;\">\n",
       "      <th></th>\n",
       "      <th>customer_age</th>\n",
       "      <th>customer_income</th>\n",
       "      <th>home_ownership</th>\n",
       "      <th>employment_duration</th>\n",
       "      <th>loan_intent</th>\n",
       "      <th>loan_grade</th>\n",
       "      <th>loan_amnt</th>\n",
       "      <th>loan_int_rate</th>\n",
       "      <th>term_years</th>\n",
       "      <th>historical_default</th>\n",
       "      <th>cred_hist_length</th>\n",
       "      <th>Current_loan_status</th>\n",
       "    </tr>\n",
       "  </thead>\n",
       "  <tbody>\n",
       "    <tr>\n",
       "      <th>81</th>\n",
       "      <td>144</td>\n",
       "      <td>250000.0</td>\n",
       "      <td>RENT</td>\n",
       "      <td>4.0</td>\n",
       "      <td>VENTURE</td>\n",
       "      <td>4</td>\n",
       "      <td>4800.0</td>\n",
       "      <td>13.57</td>\n",
       "      <td>4</td>\n",
       "      <td>NaN</td>\n",
       "      <td>3</td>\n",
       "      <td>0.0</td>\n",
       "    </tr>\n",
       "    <tr>\n",
       "      <th>183</th>\n",
       "      <td>144</td>\n",
       "      <td>200000.0</td>\n",
       "      <td>MORTGAGE</td>\n",
       "      <td>4.0</td>\n",
       "      <td>EDUCATION</td>\n",
       "      <td>5</td>\n",
       "      <td>6000.0</td>\n",
       "      <td>11.86</td>\n",
       "      <td>4</td>\n",
       "      <td>NaN</td>\n",
       "      <td>2</td>\n",
       "      <td>0.0</td>\n",
       "    </tr>\n",
       "    <tr>\n",
       "      <th>577</th>\n",
       "      <td>123</td>\n",
       "      <td>80004.0</td>\n",
       "      <td>RENT</td>\n",
       "      <td>2.0</td>\n",
       "      <td>EDUCATION</td>\n",
       "      <td>5</td>\n",
       "      <td>20400.0</td>\n",
       "      <td>10.25</td>\n",
       "      <td>9</td>\n",
       "      <td>NaN</td>\n",
       "      <td>3</td>\n",
       "      <td>0.0</td>\n",
       "    </tr>\n",
       "    <tr>\n",
       "      <th>749</th>\n",
       "      <td>123</td>\n",
       "      <td>78000.0</td>\n",
       "      <td>RENT</td>\n",
       "      <td>7.0</td>\n",
       "      <td>VENTURE</td>\n",
       "      <td>5</td>\n",
       "      <td>20000.0</td>\n",
       "      <td>NaN</td>\n",
       "      <td>9</td>\n",
       "      <td>NaN</td>\n",
       "      <td>4</td>\n",
       "      <td>0.0</td>\n",
       "    </tr>\n",
       "    <tr>\n",
       "      <th>32302</th>\n",
       "      <td>144</td>\n",
       "      <td>6000000.0</td>\n",
       "      <td>MORTGAGE</td>\n",
       "      <td>12.0</td>\n",
       "      <td>PERSONAL</td>\n",
       "      <td>3</td>\n",
       "      <td>5000.0</td>\n",
       "      <td>12.73</td>\n",
       "      <td>4</td>\n",
       "      <td>N</td>\n",
       "      <td>25</td>\n",
       "      <td>0.0</td>\n",
       "    </tr>\n",
       "  </tbody>\n",
       "</table>\n",
       "</div>"
      ],
      "text/plain": [
       "       customer_age  customer_income home_ownership  employment_duration  \\\n",
       "81              144         250000.0           RENT                  4.0   \n",
       "183             144         200000.0       MORTGAGE                  4.0   \n",
       "577             123          80004.0           RENT                  2.0   \n",
       "749             123          78000.0           RENT                  7.0   \n",
       "32302           144        6000000.0       MORTGAGE                 12.0   \n",
       "\n",
       "      loan_intent  loan_grade  loan_amnt  loan_int_rate  term_years  \\\n",
       "81        VENTURE           4     4800.0          13.57           4   \n",
       "183     EDUCATION           5     6000.0          11.86           4   \n",
       "577     EDUCATION           5    20400.0          10.25           9   \n",
       "749       VENTURE           5    20000.0            NaN           9   \n",
       "32302    PERSONAL           3     5000.0          12.73           4   \n",
       "\n",
       "      historical_default  cred_hist_length  Current_loan_status  \n",
       "81                   NaN                 3                  0.0  \n",
       "183                  NaN                 2                  0.0  \n",
       "577                  NaN                 3                  0.0  \n",
       "749                  NaN                 4                  0.0  \n",
       "32302                  N                25                  0.0  "
      ]
     },
     "execution_count": 100,
     "metadata": {},
     "output_type": "execute_result"
    }
   ],
   "source": [
    "# checkinc customer age colums for outlier or wrong values\n",
    "df[df[\"customer_age\"] > 100]"
   ]
  },
  {
   "cell_type": "code",
   "execution_count": 101,
   "id": "29d14318-0266-4631-964a-deb10ab8101b",
   "metadata": {},
   "outputs": [
    {
     "name": "stdout",
     "output_type": "stream",
     "text": [
      "max age: 40\n",
      "min age: 20\n"
     ]
    }
   ],
   "source": [
    " def remove_outliers(df, column):\n",
    "     \n",
    "    \"\"\"\n",
    "    \n",
    "    ##################################################################\n",
    "    Removes outliers from the specified column of the DataFrame using\n",
    "    the Interquartile Range (IQR) method.\n",
    "\n",
    "    Values outside these bounds are considered outliers and are removed from the DataFrame.\n",
    "\n",
    "    Returns:\n",
    "    DataFrame: The DataFrame with outliers removed from the specified column.\n",
    "    \n",
    "    ##################################################################\n",
    "\n",
    "    \n",
    "    \"\"\"\n",
    "    # lower quantile \n",
    "    Q1 = df[column].quantile(0.25)\n",
    "\n",
    "    # Upper quantile\n",
    "    Q3 = df[column].quantile(0.75)\n",
    "    IQR = Q3 - Q1\n",
    "    lower_bound = Q1 - 1.5 * IQR\n",
    "    upper_bound = Q3 + 1.5 * IQR\n",
    "\n",
    "    return df[(df[column] >= lower_bound) & (df[column] <= upper_bound)]\n",
    "\n",
    "\n",
    "\n",
    "# Apply the function to the required columns\n",
    "df = remove_outliers(df, \"customer_income\")\n",
    "df = remove_outliers(df, \"customer_age\")\n",
    "df = remove_outliers(df, \"employment_duration\")\n",
    "\n",
    "# Checking changes with customer_age column\n",
    "print(\"max age:\", df[\"customer_age\"].max())\n",
    "print(\"min age:\", df[\"customer_age\"].min())"
   ]
  },
  {
   "cell_type": "code",
   "execution_count": 102,
   "id": "0c5d71af-1c78-419d-a49f-27ff6564c2d9",
   "metadata": {},
   "outputs": [
    {
     "data": {
      "text/html": [
       "<div>\n",
       "<style scoped>\n",
       "    .dataframe tbody tr th:only-of-type {\n",
       "        vertical-align: middle;\n",
       "    }\n",
       "\n",
       "    .dataframe tbody tr th {\n",
       "        vertical-align: top;\n",
       "    }\n",
       "\n",
       "    .dataframe thead th {\n",
       "        text-align: right;\n",
       "    }\n",
       "</style>\n",
       "<table border=\"1\" class=\"dataframe\">\n",
       "  <thead>\n",
       "    <tr style=\"text-align: right;\">\n",
       "      <th></th>\n",
       "      <th>customer_age</th>\n",
       "      <th>customer_income</th>\n",
       "      <th>home_ownership</th>\n",
       "      <th>employment_duration</th>\n",
       "      <th>loan_intent</th>\n",
       "      <th>loan_grade</th>\n",
       "      <th>loan_amnt</th>\n",
       "      <th>loan_int_rate</th>\n",
       "      <th>term_years</th>\n",
       "      <th>historical_default</th>\n",
       "      <th>cred_hist_length</th>\n",
       "      <th>Current_loan_status</th>\n",
       "    </tr>\n",
       "  </thead>\n",
       "  <tbody>\n",
       "    <tr>\n",
       "      <th>1</th>\n",
       "      <td>21</td>\n",
       "      <td>9600.0</td>\n",
       "      <td>OWN</td>\n",
       "      <td>5.0</td>\n",
       "      <td>EDUCATION</td>\n",
       "      <td>5</td>\n",
       "      <td>1000.0</td>\n",
       "      <td>11.14</td>\n",
       "      <td>1</td>\n",
       "      <td>NaN</td>\n",
       "      <td>2</td>\n",
       "      <td>0.0</td>\n",
       "    </tr>\n",
       "    <tr>\n",
       "      <th>2</th>\n",
       "      <td>25</td>\n",
       "      <td>9600.0</td>\n",
       "      <td>MORTGAGE</td>\n",
       "      <td>1.0</td>\n",
       "      <td>MEDICAL</td>\n",
       "      <td>4</td>\n",
       "      <td>5500.0</td>\n",
       "      <td>12.87</td>\n",
       "      <td>5</td>\n",
       "      <td>N</td>\n",
       "      <td>3</td>\n",
       "      <td>1.0</td>\n",
       "    </tr>\n",
       "    <tr>\n",
       "      <th>3</th>\n",
       "      <td>23</td>\n",
       "      <td>65500.0</td>\n",
       "      <td>RENT</td>\n",
       "      <td>4.0</td>\n",
       "      <td>MEDICAL</td>\n",
       "      <td>4</td>\n",
       "      <td>35000.0</td>\n",
       "      <td>15.23</td>\n",
       "      <td>10</td>\n",
       "      <td>N</td>\n",
       "      <td>2</td>\n",
       "      <td>1.0</td>\n",
       "    </tr>\n",
       "    <tr>\n",
       "      <th>4</th>\n",
       "      <td>24</td>\n",
       "      <td>54400.0</td>\n",
       "      <td>RENT</td>\n",
       "      <td>8.0</td>\n",
       "      <td>MEDICAL</td>\n",
       "      <td>4</td>\n",
       "      <td>35000.0</td>\n",
       "      <td>14.27</td>\n",
       "      <td>10</td>\n",
       "      <td>Y</td>\n",
       "      <td>4</td>\n",
       "      <td>1.0</td>\n",
       "    </tr>\n",
       "    <tr>\n",
       "      <th>5</th>\n",
       "      <td>21</td>\n",
       "      <td>9900.0</td>\n",
       "      <td>OWN</td>\n",
       "      <td>2.0</td>\n",
       "      <td>VENTURE</td>\n",
       "      <td>5</td>\n",
       "      <td>2500.0</td>\n",
       "      <td>7.14</td>\n",
       "      <td>1</td>\n",
       "      <td>N</td>\n",
       "      <td>2</td>\n",
       "      <td>1.0</td>\n",
       "    </tr>\n",
       "  </tbody>\n",
       "</table>\n",
       "</div>"
      ],
      "text/plain": [
       "   customer_age  customer_income home_ownership  employment_duration  \\\n",
       "1            21           9600.0            OWN                  5.0   \n",
       "2            25           9600.0       MORTGAGE                  1.0   \n",
       "3            23          65500.0           RENT                  4.0   \n",
       "4            24          54400.0           RENT                  8.0   \n",
       "5            21           9900.0            OWN                  2.0   \n",
       "\n",
       "  loan_intent  loan_grade  loan_amnt  loan_int_rate  term_years  \\\n",
       "1   EDUCATION           5     1000.0          11.14           1   \n",
       "2     MEDICAL           4     5500.0          12.87           5   \n",
       "3     MEDICAL           4    35000.0          15.23          10   \n",
       "4     MEDICAL           4    35000.0          14.27          10   \n",
       "5     VENTURE           5     2500.0           7.14           1   \n",
       "\n",
       "  historical_default  cred_hist_length  Current_loan_status  \n",
       "1                NaN                 2                  0.0  \n",
       "2                  N                 3                  1.0  \n",
       "3                  N                 2                  1.0  \n",
       "4                  Y                 4                  1.0  \n",
       "5                  N                 2                  1.0  "
      ]
     },
     "execution_count": 102,
     "metadata": {},
     "output_type": "execute_result"
    }
   ],
   "source": [
    "df.head()"
   ]
  },
  {
   "cell_type": "markdown",
   "id": "17570d75-3d3b-4a00-adad-a5b4c4a0c343",
   "metadata": {},
   "source": [
    "## 6. Filling Missing Values In The Dataset"
   ]
  },
  {
   "cell_type": "code",
   "execution_count": 103,
   "id": "b70abd6d",
   "metadata": {},
   "outputs": [
    {
     "data": {
      "text/plain": [
       "customer_age               0\n",
       "customer_income            0\n",
       "home_ownership             0\n",
       "employment_duration        0\n",
       "loan_intent                0\n",
       "loan_grade                 0\n",
       "loan_amnt                  1\n",
       "loan_int_rate           2702\n",
       "term_years                 0\n",
       "historical_default     18317\n",
       "cred_hist_length           0\n",
       "Current_loan_status        4\n",
       "dtype: int64"
      ]
     },
     "execution_count": 103,
     "metadata": {},
     "output_type": "execute_result"
    }
   ],
   "source": [
    "# Check the missing values in the dataset\n",
    "\n",
    "df.isnull().sum()"
   ]
  },
  {
   "cell_type": "markdown",
   "id": "025159ed-76bc-4d1b-a23a-d590870923dd",
   "metadata": {},
   "source": [
    "## 6.a. Removing Missing Value Of The Loan Amount Column"
   ]
  },
  {
   "cell_type": "markdown",
   "id": "36b59456-412a-4bc7-815e-d2e9210e2915",
   "metadata": {},
   "source": [
    "Since the number of missing values is small, the deletion method was used instead of other methods."
   ]
  },
  {
   "cell_type": "code",
   "execution_count": 104,
   "id": "723eb044",
   "metadata": {},
   "outputs": [],
   "source": [
    "# Remove missing values from the \"loan_amnt\" column\n",
    "# Count of missing value = 1\n",
    "\n",
    "df.dropna(subset = [\"loan_amnt\"], inplace = True)"
   ]
  },
  {
   "cell_type": "markdown",
   "id": "dbca7122-93ce-42ed-bb82-d89d354e32f3",
   "metadata": {},
   "source": [
    "## 6.b. Filling NA Values Of The Historical Default Column"
   ]
  },
  {
   "cell_type": "code",
   "execution_count": 105,
   "id": "722ef132-dfd8-4583-929f-81c492cc8a35",
   "metadata": {},
   "outputs": [
    {
     "name": "stdout",
     "output_type": "stream",
     "text": [
      "historical_default\n",
      "NaN    18317\n",
      "Y       5357\n",
      "N       4581\n",
      "Name: count, dtype: int64\n"
     ]
    }
   ],
   "source": [
    "# Count occurrences of \"Y\", \"N\", and missing values\n",
    "\n",
    "print(df[\"historical_default\"].value_counts(dropna = False))"
   ]
  },
  {
   "cell_type": "markdown",
   "id": "4a01bb17-23f3-42bc-b561-9657657b27a9",
   "metadata": {},
   "source": [
    "print(df[\"Current_default_status\"])"
   ]
  },
  {
   "cell_type": "code",
   "execution_count": 106,
   "id": "fb67a25a-e97d-4ef8-a135-1863b24cb36d",
   "metadata": {},
   "outputs": [
    {
     "name": "stdout",
     "output_type": "stream",
     "text": [
      "Current_loan_status\n",
      "0.0    22155\n",
      "1.0     6096\n",
      "NaN        4\n",
      "Name: count, dtype: int64\n"
     ]
    }
   ],
   "source": [
    "# Count of values of the Current loan status column\n",
    "\n",
    "print(df[\"Current_loan_status\"].value_counts(dropna = False))"
   ]
  },
  {
   "cell_type": "markdown",
   "id": "22609be4-65aa-45eb-83ca-ed68910f7ab4",
   "metadata": {},
   "source": [
    "The customer\"s past credit default status (YES/NO). When we look at the current situation, the data entries are recorded as \"Y\": 62128 and \"N\": 5721. Considering the values in the \"Current loan status\" column, it is observed that giving the value \"N\" to all the entries does not cause a proportional change. Therefore, the NaN values have been filled with \"N\".\""
   ]
  },
  {
   "cell_type": "code",
   "execution_count": 107,
   "id": "2c55b6a4",
   "metadata": {},
   "outputs": [],
   "source": [
    "# Filling missing values with \"N\"\n",
    "# Count of missing value = 20737\n",
    "\n",
    "df[\"historical_default\"] = df[\"historical_default\"].fillna(\"N\")"
   ]
  },
  {
   "cell_type": "markdown",
   "id": "9f66a1bc-b20c-4672-8df9-bcf3f261e8eb",
   "metadata": {},
   "source": [
    "## 6.c. Filling Missing Values Of The Employement Duration Column"
   ]
  },
  {
   "cell_type": "code",
   "execution_count": 108,
   "id": "b4c9d37d-1c6b-4603-a82c-e8e955d061ab",
   "metadata": {},
   "outputs": [
    {
     "data": {
      "text/plain": [
       "25883"
      ]
     },
     "execution_count": 108,
     "metadata": {},
     "output_type": "execute_result"
    }
   ],
   "source": [
    "df[\"employment_duration\"].value_counts().head(10).sum()"
   ]
  },
  {
   "cell_type": "code",
   "execution_count": 109,
   "id": "5c1ed6a9-7624-4de9-a550-297774e2b0ad",
   "metadata": {},
   "outputs": [
    {
     "data": {
      "text/plain": [
       "employment_duration\n",
       "0.0    3784\n",
       "2.0    3538\n",
       "3.0    3175\n",
       "5.0    2714\n",
       "1.0    2695\n",
       "4.0    2628\n",
       "6.0    2509\n",
       "7.0    2073\n",
       "8.0    1538\n",
       "9.0    1229\n",
       "Name: count, dtype: int64"
      ]
     },
     "execution_count": 109,
     "metadata": {},
     "output_type": "execute_result"
    }
   ],
   "source": [
    "# Frequencies of values in the employment_duration column\n",
    "# Display most frequent 10 value\n",
    "\n",
    "df[\"employment_duration\"].value_counts().head(10)"
   ]
  },
  {
   "cell_type": "markdown",
   "id": "3c220d2d-c4f6-427c-9c2b-dc12616eeced",
   "metadata": {},
   "source": [
    "The missing values in the employment_duration column have been filled by calculating the probabilities of the top 10 most frequent values."
   ]
  },
  {
   "cell_type": "code",
   "execution_count": 110,
   "id": "df0e6176",
   "metadata": {},
   "outputs": [
    {
     "name": "stdout",
     "output_type": "stream",
     "text": [
      "Sum values of employment duration column: 0\n"
     ]
    }
   ],
   "source": [
    "def fill_missing_employment_duration(df):\n",
    "    \n",
    "    \"\"\"\n",
    "     \n",
    "    ############################################################\n",
    "    \n",
    "    Fills missing values in \"employment_duration\" column using \n",
    "    the most frequent values and their probabilities.\n",
    "\n",
    "    Parameters:\n",
    "    df DataFrame containing the \"employment_duration\" column.\n",
    "\n",
    "    Returns:\n",
    "    df DataFrame with filled missing values in \"employment_duration\".\n",
    "    \n",
    "    ############################################################\n",
    "    \n",
    "    \"\"\"\n",
    "    \n",
    "     # Calculate the 10 most frequent values in the \"employment_duration\" column\n",
    "    most_freq_value = df[\"employment_duration\"].value_counts().head(10)\n",
    "    \n",
    "    # Calculate the sum of the frequencies of these 10 most frequent values\n",
    "    most_freq_value_sum = most_freq_value.sum()\n",
    "    \n",
    "    # Calculate the probability of each of the 10 most frequent values\n",
    "    most_freq_value_probability = most_freq_value.apply(lambda row: row / most_freq_value_sum)\n",
    "\n",
    "    # Get the indices of the rows with missing values in \"employment_duration\"\n",
    "    missing_indices = df[df[\"employment_duration\"].isnull()].index\n",
    "    \n",
    "    # Fill the missing values using a random choice based on the calculated probabilities\n",
    "    df.loc[missing_indices, \"employment_duration\"] = np.random.choice(\n",
    "                                                     most_freq_value.index,  \n",
    "                                                     size = len(missing_indices),  \n",
    "                                                     p = most_freq_value_probability)\n",
    "    # Return DataFrame\n",
    "    return df\n",
    "\n",
    "# Applying the function to the DataFrame\n",
    "df = fill_missing_employment_duration(df)\n",
    "\n",
    "print(\"Sum values of employment duration column:\", df[\"employment_duration\"].isnull().sum())"
   ]
  },
  {
   "cell_type": "code",
   "execution_count": 111,
   "id": "6d0bcb73-e43d-4a21-a8be-83203f4d6118",
   "metadata": {},
   "outputs": [
    {
     "data": {
      "text/plain": [
       "employment_duration\n",
       "0.0    3784\n",
       "2.0    3538\n",
       "3.0    3175\n",
       "5.0    2714\n",
       "1.0    2695\n",
       "4.0    2628\n",
       "6.0    2509\n",
       "7.0    2073\n",
       "8.0    1538\n",
       "9.0    1229\n",
       "Name: count, dtype: int64"
      ]
     },
     "execution_count": 111,
     "metadata": {},
     "output_type": "execute_result"
    }
   ],
   "source": [
    "# Frequencies of values in the employment_duration column\n",
    "# count of missing value = 895\n",
    "\n",
    "df[\"employment_duration\"].value_counts().head(10)"
   ]
  },
  {
   "cell_type": "markdown",
   "id": "4053acc0-4ebf-4164-a9bf-0dcf879c1baf",
   "metadata": {},
   "source": [
    "## 6.d.Filling Missing Values Of The Loan In Rate Column"
   ]
  },
  {
   "cell_type": "markdown",
   "id": "efda534a-694e-410c-8b84-2bfe8521c8ad",
   "metadata": {},
   "source": [
    "Instead of filling missing values in the loan_int_rate column using the overall average, the average interest rates based on each loan_grade were used to fill the missing values."
   ]
  },
  {
   "cell_type": "code",
   "execution_count": 112,
   "id": "80f25c3c-ed3b-4ec4-a236-a4b7c7f8b348",
   "metadata": {},
   "outputs": [
    {
     "data": {
      "text/plain": [
       "loan_grade\n",
       "1    18.984605\n",
       "2    15.973780\n",
       "3    14.308842\n",
       "4    11.869601\n",
       "5     8.652127\n",
       "Name: loan_int_rate, dtype: float64"
      ]
     },
     "execution_count": 112,
     "metadata": {},
     "output_type": "execute_result"
    }
   ],
   "source": [
    "# Calculation of the average interest rates based on the average values for each loan grade\n",
    "\n",
    "df.groupby(\"loan_grade\")[\"loan_int_rate\"].mean()"
   ]
  },
  {
   "cell_type": "code",
   "execution_count": 113,
   "id": "6bb9a668-1043-432e-9f5b-2124dcd93d80",
   "metadata": {},
   "outputs": [],
   "source": [
    "def fill_missing_loan_int_rate(df):\n",
    "    \n",
    "    \"\"\"\n",
    "\n",
    "    ##################################################################\n",
    "    \n",
    "    Fills missing values in \"loan_int_rate\" column with the mean value\n",
    "    of \"loan_int_rate\" for each \"loan_grade\".\n",
    "\n",
    "    Parameters:\n",
    "    df DataFrame , \"loan_int_rate\" and \"loan_grade\" columns.\n",
    "\n",
    "    Returns:\n",
    "    df DataFrame with filled missing values in \"loan_int_rate\".\n",
    "    \n",
    "    ###################################################################\n",
    "    \n",
    "    \"\"\"\n",
    "    \n",
    "        \n",
    "    # Calculate mean values by loan_grade\n",
    "    mean_by_grade = df.groupby(\"loan_grade\")[\"loan_int_rate\"].mean()\n",
    "\n",
    "    # Fill missing values in loan_int_rate\n",
    "    df[\"loan_int_rate\"] = df.apply(\n",
    "        lambda row: mean_by_grade[row[\"loan_grade\"]] \n",
    "        if pd.isna(row[\"loan_int_rate\"]) else row[\"loan_int_rate\"],\n",
    "        axis=1\n",
    "    )\n",
    "    \n",
    "    # Return DataFrame\n",
    "    return df  \n",
    "    \n",
    "# Applying the function to the DataFrame\n",
    "df = fill_missing_loan_int_rate(df)"
   ]
  },
  {
   "cell_type": "markdown",
   "id": "eb10867d-6b43-45ab-a8a9-05c62d950388",
   "metadata": {},
   "source": [
    "## 6.e. Dropping Missing Values Of the Current Loan Status Column"
   ]
  },
  {
   "cell_type": "markdown",
   "id": "cf54b755-181b-4354-9933-430d448ad281",
   "metadata": {},
   "source": [
    "Since the number of missing values is small, the deletion method was used instead of other methods."
   ]
  },
  {
   "cell_type": "code",
   "execution_count": 114,
   "id": "9890e02d",
   "metadata": {},
   "outputs": [],
   "source": [
    "# Dropping missing values\n",
    "# Count of missing value = 4\n",
    "\n",
    "df.dropna(subset=[\"Current_loan_status\"], inplace=True)"
   ]
  },
  {
   "cell_type": "code",
   "execution_count": 115,
   "id": "f2722d99",
   "metadata": {},
   "outputs": [
    {
     "data": {
      "text/plain": [
       "customer_age           0\n",
       "customer_income        0\n",
       "home_ownership         0\n",
       "employment_duration    0\n",
       "loan_intent            0\n",
       "loan_grade             0\n",
       "loan_amnt              0\n",
       "loan_int_rate          0\n",
       "term_years             0\n",
       "historical_default     0\n",
       "cred_hist_length       0\n",
       "Current_loan_status    0\n",
       "dtype: int64"
      ]
     },
     "execution_count": 115,
     "metadata": {},
     "output_type": "execute_result"
    }
   ],
   "source": [
    "# Checking Missing values of dataframe\n",
    "\n",
    "df.isnull().sum()"
   ]
  },
  {
   "cell_type": "code",
   "execution_count": 116,
   "id": "3c1187f7",
   "metadata": {},
   "outputs": [
    {
     "data": {
      "text/html": [
       "<div>\n",
       "<style scoped>\n",
       "    .dataframe tbody tr th:only-of-type {\n",
       "        vertical-align: middle;\n",
       "    }\n",
       "\n",
       "    .dataframe tbody tr th {\n",
       "        vertical-align: top;\n",
       "    }\n",
       "\n",
       "    .dataframe thead th {\n",
       "        text-align: right;\n",
       "    }\n",
       "</style>\n",
       "<table border=\"1\" class=\"dataframe\">\n",
       "  <thead>\n",
       "    <tr style=\"text-align: right;\">\n",
       "      <th></th>\n",
       "      <th>customer_age</th>\n",
       "      <th>customer_income</th>\n",
       "      <th>home_ownership</th>\n",
       "      <th>employment_duration</th>\n",
       "      <th>loan_intent</th>\n",
       "      <th>loan_grade</th>\n",
       "      <th>loan_amnt</th>\n",
       "      <th>loan_int_rate</th>\n",
       "      <th>term_years</th>\n",
       "      <th>historical_default</th>\n",
       "      <th>cred_hist_length</th>\n",
       "      <th>Current_loan_status</th>\n",
       "    </tr>\n",
       "  </thead>\n",
       "  <tbody>\n",
       "    <tr>\n",
       "      <th>1</th>\n",
       "      <td>21</td>\n",
       "      <td>9600.0</td>\n",
       "      <td>OWN</td>\n",
       "      <td>5.0</td>\n",
       "      <td>EDUCATION</td>\n",
       "      <td>5</td>\n",
       "      <td>1000.0</td>\n",
       "      <td>11.14</td>\n",
       "      <td>1</td>\n",
       "      <td>N</td>\n",
       "      <td>2</td>\n",
       "      <td>0.0</td>\n",
       "    </tr>\n",
       "    <tr>\n",
       "      <th>2</th>\n",
       "      <td>25</td>\n",
       "      <td>9600.0</td>\n",
       "      <td>MORTGAGE</td>\n",
       "      <td>1.0</td>\n",
       "      <td>MEDICAL</td>\n",
       "      <td>4</td>\n",
       "      <td>5500.0</td>\n",
       "      <td>12.87</td>\n",
       "      <td>5</td>\n",
       "      <td>N</td>\n",
       "      <td>3</td>\n",
       "      <td>1.0</td>\n",
       "    </tr>\n",
       "    <tr>\n",
       "      <th>3</th>\n",
       "      <td>23</td>\n",
       "      <td>65500.0</td>\n",
       "      <td>RENT</td>\n",
       "      <td>4.0</td>\n",
       "      <td>MEDICAL</td>\n",
       "      <td>4</td>\n",
       "      <td>35000.0</td>\n",
       "      <td>15.23</td>\n",
       "      <td>10</td>\n",
       "      <td>N</td>\n",
       "      <td>2</td>\n",
       "      <td>1.0</td>\n",
       "    </tr>\n",
       "    <tr>\n",
       "      <th>4</th>\n",
       "      <td>24</td>\n",
       "      <td>54400.0</td>\n",
       "      <td>RENT</td>\n",
       "      <td>8.0</td>\n",
       "      <td>MEDICAL</td>\n",
       "      <td>4</td>\n",
       "      <td>35000.0</td>\n",
       "      <td>14.27</td>\n",
       "      <td>10</td>\n",
       "      <td>Y</td>\n",
       "      <td>4</td>\n",
       "      <td>1.0</td>\n",
       "    </tr>\n",
       "    <tr>\n",
       "      <th>5</th>\n",
       "      <td>21</td>\n",
       "      <td>9900.0</td>\n",
       "      <td>OWN</td>\n",
       "      <td>2.0</td>\n",
       "      <td>VENTURE</td>\n",
       "      <td>5</td>\n",
       "      <td>2500.0</td>\n",
       "      <td>7.14</td>\n",
       "      <td>1</td>\n",
       "      <td>N</td>\n",
       "      <td>2</td>\n",
       "      <td>1.0</td>\n",
       "    </tr>\n",
       "  </tbody>\n",
       "</table>\n",
       "</div>"
      ],
      "text/plain": [
       "   customer_age  customer_income home_ownership  employment_duration  \\\n",
       "1            21           9600.0            OWN                  5.0   \n",
       "2            25           9600.0       MORTGAGE                  1.0   \n",
       "3            23          65500.0           RENT                  4.0   \n",
       "4            24          54400.0           RENT                  8.0   \n",
       "5            21           9900.0            OWN                  2.0   \n",
       "\n",
       "  loan_intent  loan_grade  loan_amnt  loan_int_rate  term_years  \\\n",
       "1   EDUCATION           5     1000.0          11.14           1   \n",
       "2     MEDICAL           4     5500.0          12.87           5   \n",
       "3     MEDICAL           4    35000.0          15.23          10   \n",
       "4     MEDICAL           4    35000.0          14.27          10   \n",
       "5     VENTURE           5     2500.0           7.14           1   \n",
       "\n",
       "  historical_default  cred_hist_length  Current_loan_status  \n",
       "1                  N                 2                  0.0  \n",
       "2                  N                 3                  1.0  \n",
       "3                  N                 2                  1.0  \n",
       "4                  Y                 4                  1.0  \n",
       "5                  N                 2                  1.0  "
      ]
     },
     "execution_count": 116,
     "metadata": {},
     "output_type": "execute_result"
    }
   ],
   "source": [
    "# Display the first 5 rows of the dataset\n",
    "\n",
    "df.head(5)"
   ]
  },
  {
   "cell_type": "markdown",
   "id": "8176513b-6b97-4c4c-9d4d-7d5da025e223",
   "metadata": {},
   "source": [
    "## 7. Model Building\n"
   ]
  },
  {
   "cell_type": "markdown",
   "id": "9698bfa3-7cfd-441c-bb33-62a54bf12692",
   "metadata": {},
   "source": [
    "## 7.1. Preparing DataFrame Before Modelling"
   ]
  },
  {
   "cell_type": "code",
   "execution_count": null,
   "id": "cd784f96-5715-429e-a6e6-ba65d129f8a8",
   "metadata": {},
   "outputs": [],
   "source": []
  },
  {
   "cell_type": "code",
   "execution_count": 159,
   "id": "3e317144",
   "metadata": {},
   "outputs": [],
   "source": [
    "# Defining depended features and target values\n",
    "\n",
    "X = df.drop(\"Current_loan_status\", axis = 1)\n",
    "y = df[\"Current_loan_status\"].astype(int)"
   ]
  },
  {
   "cell_type": "code",
   "execution_count": 161,
   "id": "25042a6e-9ec9-4b04-9350-decc4bf3ae05",
   "metadata": {},
   "outputs": [],
   "source": [
    "X.drop([\"home_ownership\", \"historical_default\", \"loan_intent\"], axis = 1, inplace = True)"
   ]
  },
  {
   "cell_type": "markdown",
   "id": "61e8d8d7-c6b8-44c5-b375-61092561243a",
   "metadata": {},
   "source": [
    "## 7.2. Converting Binary Type Of The Categorical Values"
   ]
  },
  {
   "cell_type": "code",
   "execution_count": 162,
   "id": "aedf1394",
   "metadata": {},
   "outputs": [
    {
     "name": "stdout",
     "output_type": "stream",
     "text": [
      "categorical columns : []\n",
      "numerical columns : ['customer_age', 'customer_income', 'employment_duration', 'loan_grade', 'loan_amnt', 'loan_int_rate', 'term_years', 'cred_hist_length']\n"
     ]
    }
   ],
   "source": [
    "# Defining categorical columns\n",
    "cat_cols = [col for col in X.columns if X[col].dtypes == \"O\"]\n",
    "num_cols = [col for col in X.columns if X[col].dtypes != \"O\"]\n",
    "\n",
    "# Printing categorcal and numerical column names\n",
    "print(\"categorical columns :\", cat_cols)\n",
    "print(\"numerical columns :\", num_cols)"
   ]
  },
  {
   "cell_type": "code",
   "execution_count": 163,
   "id": "f18d8e70",
   "metadata": {},
   "outputs": [
    {
     "ename": "ValueError",
     "evalue": "No objects to concatenate",
     "output_type": "error",
     "traceback": [
      "\u001b[1;31m---------------------------------------------------------------------------\u001b[0m",
      "\u001b[1;31mValueError\u001b[0m                                Traceback (most recent call last)",
      "Cell \u001b[1;32mIn[163], line 2\u001b[0m\n\u001b[0;32m      1\u001b[0m \u001b[38;5;66;03m# Convert categorical columns to numerical using one-hot encoding\u001b[39;00m\n\u001b[1;32m----> 2\u001b[0m dummies \u001b[38;5;241m=\u001b[39m pd\u001b[38;5;241m.\u001b[39mget_dummies(X[cat_cols], drop_first \u001b[38;5;241m=\u001b[39m \u001b[38;5;28;01mTrue\u001b[39;00m)\u001b[38;5;241m.\u001b[39mastype(\u001b[38;5;28mint\u001b[39m)\n\u001b[0;32m      4\u001b[0m \u001b[38;5;66;03m# Display 5 rows\u001b[39;00m\n\u001b[0;32m      5\u001b[0m dummies\u001b[38;5;241m.\u001b[39mhead(\u001b[38;5;241m5\u001b[39m)\n",
      "File \u001b[1;32m~\\anaconda\\Lib\\site-packages\\pandas\\core\\reshape\\encoding.py:224\u001b[0m, in \u001b[0;36mget_dummies\u001b[1;34m(data, prefix, prefix_sep, dummy_na, columns, sparse, drop_first, dtype)\u001b[0m\n\u001b[0;32m    214\u001b[0m         dummy \u001b[38;5;241m=\u001b[39m _get_dummies_1d(\n\u001b[0;32m    215\u001b[0m             col[\u001b[38;5;241m1\u001b[39m],\n\u001b[0;32m    216\u001b[0m             prefix\u001b[38;5;241m=\u001b[39mpre,\n\u001b[1;32m   (...)\u001b[0m\n\u001b[0;32m    221\u001b[0m             dtype\u001b[38;5;241m=\u001b[39mdtype,\n\u001b[0;32m    222\u001b[0m         )\n\u001b[0;32m    223\u001b[0m         with_dummies\u001b[38;5;241m.\u001b[39mappend(dummy)\n\u001b[1;32m--> 224\u001b[0m     result \u001b[38;5;241m=\u001b[39m concat(with_dummies, axis\u001b[38;5;241m=\u001b[39m\u001b[38;5;241m1\u001b[39m)\n\u001b[0;32m    225\u001b[0m \u001b[38;5;28;01melse\u001b[39;00m:\n\u001b[0;32m    226\u001b[0m     result \u001b[38;5;241m=\u001b[39m _get_dummies_1d(\n\u001b[0;32m    227\u001b[0m         data,\n\u001b[0;32m    228\u001b[0m         prefix,\n\u001b[1;32m   (...)\u001b[0m\n\u001b[0;32m    233\u001b[0m         dtype\u001b[38;5;241m=\u001b[39mdtype,\n\u001b[0;32m    234\u001b[0m     )\n",
      "File \u001b[1;32m~\\anaconda\\Lib\\site-packages\\pandas\\core\\reshape\\concat.py:382\u001b[0m, in \u001b[0;36mconcat\u001b[1;34m(objs, axis, join, ignore_index, keys, levels, names, verify_integrity, sort, copy)\u001b[0m\n\u001b[0;32m    379\u001b[0m \u001b[38;5;28;01melif\u001b[39;00m copy \u001b[38;5;129;01mand\u001b[39;00m using_copy_on_write():\n\u001b[0;32m    380\u001b[0m     copy \u001b[38;5;241m=\u001b[39m \u001b[38;5;28;01mFalse\u001b[39;00m\n\u001b[1;32m--> 382\u001b[0m op \u001b[38;5;241m=\u001b[39m _Concatenator(\n\u001b[0;32m    383\u001b[0m     objs,\n\u001b[0;32m    384\u001b[0m     axis\u001b[38;5;241m=\u001b[39maxis,\n\u001b[0;32m    385\u001b[0m     ignore_index\u001b[38;5;241m=\u001b[39mignore_index,\n\u001b[0;32m    386\u001b[0m     join\u001b[38;5;241m=\u001b[39mjoin,\n\u001b[0;32m    387\u001b[0m     keys\u001b[38;5;241m=\u001b[39mkeys,\n\u001b[0;32m    388\u001b[0m     levels\u001b[38;5;241m=\u001b[39mlevels,\n\u001b[0;32m    389\u001b[0m     names\u001b[38;5;241m=\u001b[39mnames,\n\u001b[0;32m    390\u001b[0m     verify_integrity\u001b[38;5;241m=\u001b[39mverify_integrity,\n\u001b[0;32m    391\u001b[0m     copy\u001b[38;5;241m=\u001b[39mcopy,\n\u001b[0;32m    392\u001b[0m     sort\u001b[38;5;241m=\u001b[39msort,\n\u001b[0;32m    393\u001b[0m )\n\u001b[0;32m    395\u001b[0m \u001b[38;5;28;01mreturn\u001b[39;00m op\u001b[38;5;241m.\u001b[39mget_result()\n",
      "File \u001b[1;32m~\\anaconda\\Lib\\site-packages\\pandas\\core\\reshape\\concat.py:445\u001b[0m, in \u001b[0;36m_Concatenator.__init__\u001b[1;34m(self, objs, axis, join, keys, levels, names, ignore_index, verify_integrity, copy, sort)\u001b[0m\n\u001b[0;32m    442\u001b[0m \u001b[38;5;28mself\u001b[39m\u001b[38;5;241m.\u001b[39mverify_integrity \u001b[38;5;241m=\u001b[39m verify_integrity\n\u001b[0;32m    443\u001b[0m \u001b[38;5;28mself\u001b[39m\u001b[38;5;241m.\u001b[39mcopy \u001b[38;5;241m=\u001b[39m copy\n\u001b[1;32m--> 445\u001b[0m objs, keys \u001b[38;5;241m=\u001b[39m \u001b[38;5;28mself\u001b[39m\u001b[38;5;241m.\u001b[39m_clean_keys_and_objs(objs, keys)\n\u001b[0;32m    447\u001b[0m \u001b[38;5;66;03m# figure out what our result ndim is going to be\u001b[39;00m\n\u001b[0;32m    448\u001b[0m ndims \u001b[38;5;241m=\u001b[39m \u001b[38;5;28mself\u001b[39m\u001b[38;5;241m.\u001b[39m_get_ndims(objs)\n",
      "File \u001b[1;32m~\\anaconda\\Lib\\site-packages\\pandas\\core\\reshape\\concat.py:507\u001b[0m, in \u001b[0;36m_Concatenator._clean_keys_and_objs\u001b[1;34m(self, objs, keys)\u001b[0m\n\u001b[0;32m    504\u001b[0m     objs_list \u001b[38;5;241m=\u001b[39m \u001b[38;5;28mlist\u001b[39m(objs)\n\u001b[0;32m    506\u001b[0m \u001b[38;5;28;01mif\u001b[39;00m \u001b[38;5;28mlen\u001b[39m(objs_list) \u001b[38;5;241m==\u001b[39m \u001b[38;5;241m0\u001b[39m:\n\u001b[1;32m--> 507\u001b[0m     \u001b[38;5;28;01mraise\u001b[39;00m \u001b[38;5;167;01mValueError\u001b[39;00m(\u001b[38;5;124m\"\u001b[39m\u001b[38;5;124mNo objects to concatenate\u001b[39m\u001b[38;5;124m\"\u001b[39m)\n\u001b[0;32m    509\u001b[0m \u001b[38;5;28;01mif\u001b[39;00m keys \u001b[38;5;129;01mis\u001b[39;00m \u001b[38;5;28;01mNone\u001b[39;00m:\n\u001b[0;32m    510\u001b[0m     objs_list \u001b[38;5;241m=\u001b[39m \u001b[38;5;28mlist\u001b[39m(com\u001b[38;5;241m.\u001b[39mnot_none(\u001b[38;5;241m*\u001b[39mobjs_list))\n",
      "\u001b[1;31mValueError\u001b[0m: No objects to concatenate"
     ]
    }
   ],
   "source": [
    "# Convert categorical columns to numerical using one-hot encoding\n",
    "dummies = pd.get_dummies(X[cat_cols], drop_first = True).astype(int)\n",
    "\n",
    "# Display 5 rows\n",
    "dummies.head(5)"
   ]
  },
  {
   "cell_type": "code",
   "execution_count": null,
   "id": "eeab79e6",
   "metadata": {},
   "outputs": [],
   "source": [
    "# Drop the categorical columns from the X\n",
    "\n",
    "X.drop(cat_cols, axis = 1, inplace = True)"
   ]
  },
  {
   "cell_type": "code",
   "execution_count": null,
   "id": "3f396729",
   "metadata": {},
   "outputs": [],
   "source": [
    "# Concatenate the DataFrame X with the dummies\n",
    "X = pd.concat([X, dummies], axis = 1)\n",
    "\n",
    "\n",
    "# Display 5 rows\n",
    "X.head(5)"
   ]
  },
  {
   "cell_type": "markdown",
   "id": "f1bd3f44-0210-49a6-b31e-47b52d8a9e29",
   "metadata": {},
   "source": [
    "## 7.3. Splitting Test And Train Data"
   ]
  },
  {
   "cell_type": "code",
   "execution_count": 164,
   "id": "b446ec3a-22a6-42cc-adac-f1a0333fdbb7",
   "metadata": {},
   "outputs": [],
   "source": [
    "# Splitting data into train and test data\n",
    "\n",
    "X_train, X_test, y_train, y_test = train_test_split(X, y, test_size = 0.2, random_state = 42)"
   ]
  },
  {
   "cell_type": "code",
   "execution_count": 165,
   "id": "5de2e95b-3d80-4f41-a6e7-be8d902b1193",
   "metadata": {},
   "outputs": [],
   "source": [
    "scaler = StandardScaler()\n",
    "X_train = scaler.fit_transform(X_train) \n",
    "X_test = scaler.transform(X_test)    "
   ]
  },
  {
   "cell_type": "code",
   "execution_count": 166,
   "id": "1c428c5c-830f-4923-9f56-258b1365c09a",
   "metadata": {},
   "outputs": [
    {
     "data": {
      "text/plain": [
       "(22600, 8)"
      ]
     },
     "execution_count": 166,
     "metadata": {},
     "output_type": "execute_result"
    }
   ],
   "source": [
    "X_train.shape\n"
   ]
  },
  {
   "cell_type": "code",
   "execution_count": 167,
   "id": "89c29aec-6be1-47bc-8237-5d5bc002f9ef",
   "metadata": {},
   "outputs": [
    {
     "data": {
      "text/plain": [
       "(22600,)"
      ]
     },
     "execution_count": 167,
     "metadata": {},
     "output_type": "execute_result"
    }
   ],
   "source": [
    "y_train.shape"
   ]
  },
  {
   "cell_type": "code",
   "execution_count": 168,
   "id": "cd70c1cd-b129-4609-9306-6fd930febecc",
   "metadata": {},
   "outputs": [
    {
     "data": {
      "text/plain": [
       "24358    0\n",
       "8861     0\n",
       "24921    0\n",
       "26941    1\n",
       "5929     0\n",
       "        ..\n",
       "23210    1\n",
       "5806     0\n",
       "1049     0\n",
       "16764    0\n",
       "25434    0\n",
       "Name: Current_loan_status, Length: 22600, dtype: int32"
      ]
     },
     "execution_count": 168,
     "metadata": {},
     "output_type": "execute_result"
    }
   ],
   "source": [
    "y_train"
   ]
  },
  {
   "cell_type": "code",
   "execution_count": 169,
   "id": "60a40bf0-5ced-40a9-86db-51f533931fd2",
   "metadata": {},
   "outputs": [
    {
     "data": {
      "text/plain": [
       "1        0\n",
       "2        1\n",
       "3        1\n",
       "4        1\n",
       "5        1\n",
       "        ..\n",
       "32292    1\n",
       "32294    0\n",
       "32295    0\n",
       "32298    0\n",
       "32301    1\n",
       "Name: Current_loan_status, Length: 28251, dtype: int32"
      ]
     },
     "execution_count": 169,
     "metadata": {},
     "output_type": "execute_result"
    }
   ],
   "source": [
    "y"
   ]
  },
  {
   "cell_type": "code",
   "execution_count": 170,
   "id": "e887e12b-5447-4874-8be8-70437d8c42f9",
   "metadata": {},
   "outputs": [
    {
     "data": {
      "image/png": "[encoded data removed]",
      "text/plain": [
       "<Figure size 1200x800 with 1 Axes>"
      ]
     },
     "metadata": {},
     "output_type": "display_data"
    }
   ],
   "source": [
    "import matplotlib.pyplot as plt\n",
    "import pandas as pd\n",
    "import numpy as np\n",
    "from sklearn.ensemble import RandomForestClassifier\n",
    "\n",
    "def plot_feature_importances(model, feature_names):\n",
    "    \"\"\"\n",
    "    Özelliklerin önem derecelerini görselleştiren fonksiyon.\n",
    "    \n",
    "    Args:\n",
    "        model: Özelliklerin önem derecelerini sağlayan model (örneğin, RandomForestClassifier).\n",
    "        feature_names: Özellik adlarını içeren liste veya dizi.\n",
    "        \n",
    "    Returns:\n",
    "        None\n",
    "    \"\"\"\n",
    "    # Özelliklerin önem derecelerini al\n",
    "    importances = model.feature_importances_\n",
    "    \n",
    "    # Özellikler ve önem derecelerini bir DataFrame'e dönüştür\n",
    "    feature_importances = pd.DataFrame({\n",
    "        'Feature': feature_names,\n",
    "        'Importance': importances\n",
    "    })\n",
    "    \n",
    "    # Önem derecelerini azalan sıraya göre sırala\n",
    "    feature_importances = feature_importances.sort_values(by='Importance', ascending=False)\n",
    "    \n",
    "    # Görselleştirme\n",
    "    plt.figure(figsize=(12, 8))\n",
    "    plt.barh(feature_importances['Feature'], feature_importances['Importance'], color='skyblue')\n",
    "    plt.xlabel('Importance')\n",
    "    plt.title('Feature Importances')\n",
    "    plt.gca().invert_yaxis()\n",
    "    plt.show()\n",
    "\n",
    "\n",
    "\n",
    "# Özellik adlarını tanımla (eğer veri bir NumPy dizisi ise)\n",
    "feature_names = X.columns\n",
    "# Modeli eğit\n",
    "model = RandomForestClassifier(random_state=42)\n",
    "model.fit(X_train, y_train)\n",
    "\n",
    "# Özelliklerin önem derecelerini görselleştir\n",
    "plot_feature_importances(model, feature_names)\n"
   ]
  },
  {
   "cell_type": "code",
   "execution_count": null,
   "id": "49933fe7-7832-4981-a5ce-8740cb4050a6",
   "metadata": {},
   "outputs": [],
   "source": []
  },
  {
   "cell_type": "markdown",
   "id": "c68dbe3a-3aff-40bc-a31d-88615cff7247",
   "metadata": {},
   "source": [
    "## 7.4. Generate Model"
   ]
  },
  {
   "cell_type": "code",
   "execution_count": 171,
   "id": "ed783dfb-9242-43f9-8926-7a4792f36d13",
   "metadata": {},
   "outputs": [],
   "source": [
    "search_space = [\n",
    "   \n",
    "    \n",
    "    # Random Forest Classifier\n",
    "    {\n",
    "        \"classifier\": [RandomForestClassifier(random_state=42)],\n",
    "        \"classifier__n_estimators\": [100, 200, 300, 500, 1000],\n",
    "        \"classifier__max_depth\": [5, 10, 20, 50],\n",
    "        \"classifier__min_samples_split\": [2, 4, 6, 10],\n",
    "        \"classifier__min_samples_leaf\": [2, 4, 6, 10]\n",
    "    }\n",
    "\n",
    "\n",
    "    \n",
    "]\n"
   ]
  },
  {
   "cell_type": "code",
   "execution_count": 172,
   "id": "2deac402-6554-45f9-9d91-76a439d23caa",
   "metadata": {},
   "outputs": [],
   "source": [
    "# Creating a Pipeline for odels\n",
    "# In the pipeline there are data standardization and \"classifier\" model.\n",
    "\n",
    "pipe = Pipeline([(\"scaler\", StandardScaler()), (\"classifier\", RandomForestClassifier(random_state = 42))])"
   ]
  },
  {
   "cell_type": "code",
   "execution_count": 173,
   "id": "34299840-cd57-42c9-b748-4e11848a8d24",
   "metadata": {},
   "outputs": [
    {
     "name": "stdout",
     "output_type": "stream",
     "text": [
      "Fitting 5 folds for each of 320 candidates, totalling 1600 fits\n"
     ]
    }
   ],
   "source": [
    "# Creating GridSearchCv \n",
    "# Using search_space variables\n",
    "# Selected StratifiedKFold cros validation. Maintains class proportions at each layer.\n",
    "\n",
    "clf = GridSearchCV(pipe, search_space, cv = StratifiedKFold(n_splits = 5, shuffle = True, random_state = 42),\n",
    "                                            scoring = \"accuracy\", verbose = 2, n_jobs = -1)\n",
    "\n",
    "\n",
    "# The GridSearchCV process is run on the training data.\n",
    "best_model = clf.fit(X_train, y_train)"
   ]
  },
  {
   "cell_type": "code",
   "execution_count": 174,
   "id": "27618943-8b17-49de-84b5-10baad8548e5",
   "metadata": {},
   "outputs": [
    {
     "data": {
      "text/plain": [
       "{'memory': None,\n",
       " 'steps': [('scaler', StandardScaler()),\n",
       "  ('classifier',\n",
       "   RandomForestClassifier(max_depth=50, min_samples_leaf=2, n_estimators=1000,\n",
       "                          random_state=42))],\n",
       " 'verbose': False,\n",
       " 'scaler': StandardScaler(),\n",
       " 'classifier': RandomForestClassifier(max_depth=50, min_samples_leaf=2, n_estimators=1000,\n",
       "                        random_state=42),\n",
       " 'scaler__copy': True,\n",
       " 'scaler__with_mean': True,\n",
       " 'scaler__with_std': True,\n",
       " 'classifier__bootstrap': True,\n",
       " 'classifier__ccp_alpha': 0.0,\n",
       " 'classifier__class_weight': None,\n",
       " 'classifier__criterion': 'gini',\n",
       " 'classifier__max_depth': 50,\n",
       " 'classifier__max_features': 'sqrt',\n",
       " 'classifier__max_leaf_nodes': None,\n",
       " 'classifier__max_samples': None,\n",
       " 'classifier__min_impurity_decrease': 0.0,\n",
       " 'classifier__min_samples_leaf': 2,\n",
       " 'classifier__min_samples_split': 2,\n",
       " 'classifier__min_weight_fraction_leaf': 0.0,\n",
       " 'classifier__monotonic_cst': None,\n",
       " 'classifier__n_estimators': 1000,\n",
       " 'classifier__n_jobs': None,\n",
       " 'classifier__oob_score': False,\n",
       " 'classifier__random_state': 42,\n",
       " 'classifier__verbose': 0,\n",
       " 'classifier__warm_start': False}"
      ]
     },
     "execution_count": 174,
     "metadata": {},
     "output_type": "execute_result"
    }
   ],
   "source": [
    "# We get the hyperparameters of the best model \n",
    "\n",
    "best_model.best_estimator_.get_params()"
   ]
  },
  {
   "cell_type": "code",
   "execution_count": 175,
   "id": "aa7c7876-c0c0-4ffd-93a5-231ce13e99a5",
   "metadata": {},
   "outputs": [
    {
     "data": {
      "text/html": [
       "<div>\n",
       "<style scoped>\n",
       "    .dataframe tbody tr th:only-of-type {\n",
       "        vertical-align: middle;\n",
       "    }\n",
       "\n",
       "    .dataframe tbody tr th {\n",
       "        vertical-align: top;\n",
       "    }\n",
       "\n",
       "    .dataframe thead th {\n",
       "        text-align: right;\n",
       "    }\n",
       "</style>\n",
       "<table border=\"1\" class=\"dataframe\">\n",
       "  <thead>\n",
       "    <tr style=\"text-align: right;\">\n",
       "      <th></th>\n",
       "      <th>mean_fit_time</th>\n",
       "      <th>std_fit_time</th>\n",
       "      <th>mean_score_time</th>\n",
       "      <th>std_score_time</th>\n",
       "      <th>param_classifier</th>\n",
       "      <th>param_classifier__max_depth</th>\n",
       "      <th>param_classifier__min_samples_leaf</th>\n",
       "      <th>param_classifier__min_samples_split</th>\n",
       "      <th>param_classifier__n_estimators</th>\n",
       "      <th>params</th>\n",
       "      <th>split0_test_score</th>\n",
       "      <th>split1_test_score</th>\n",
       "      <th>split2_test_score</th>\n",
       "      <th>split3_test_score</th>\n",
       "      <th>split4_test_score</th>\n",
       "      <th>mean_test_score</th>\n",
       "      <th>std_test_score</th>\n",
       "      <th>rank_test_score</th>\n",
       "    </tr>\n",
       "  </thead>\n",
       "  <tbody>\n",
       "    <tr>\n",
       "      <th>0</th>\n",
       "      <td>1.410487</td>\n",
       "      <td>0.007658</td>\n",
       "      <td>0.038184</td>\n",
       "      <td>0.006253</td>\n",
       "      <td>RandomForestClassifier(random_state=42)</td>\n",
       "      <td>5</td>\n",
       "      <td>2</td>\n",
       "      <td>2</td>\n",
       "      <td>100</td>\n",
       "      <td>{'classifier': RandomForestClassifier(random_s...</td>\n",
       "      <td>0.840708</td>\n",
       "      <td>0.844469</td>\n",
       "      <td>0.833407</td>\n",
       "      <td>0.829204</td>\n",
       "      <td>0.840929</td>\n",
       "      <td>0.837743</td>\n",
       "      <td>0.005584</td>\n",
       "      <td>266</td>\n",
       "    </tr>\n",
       "    <tr>\n",
       "      <th>1</th>\n",
       "      <td>2.672185</td>\n",
       "      <td>0.038313</td>\n",
       "      <td>0.083300</td>\n",
       "      <td>0.009484</td>\n",
       "      <td>RandomForestClassifier(random_state=42)</td>\n",
       "      <td>5</td>\n",
       "      <td>2</td>\n",
       "      <td>2</td>\n",
       "      <td>200</td>\n",
       "      <td>{'classifier': RandomForestClassifier(random_s...</td>\n",
       "      <td>0.838053</td>\n",
       "      <td>0.846239</td>\n",
       "      <td>0.834292</td>\n",
       "      <td>0.827434</td>\n",
       "      <td>0.840265</td>\n",
       "      <td>0.837257</td>\n",
       "      <td>0.006255</td>\n",
       "      <td>315</td>\n",
       "    </tr>\n",
       "    <tr>\n",
       "      <th>2</th>\n",
       "      <td>3.939781</td>\n",
       "      <td>0.062900</td>\n",
       "      <td>0.113447</td>\n",
       "      <td>0.004126</td>\n",
       "      <td>RandomForestClassifier(random_state=42)</td>\n",
       "      <td>5</td>\n",
       "      <td>2</td>\n",
       "      <td>2</td>\n",
       "      <td>300</td>\n",
       "      <td>{'classifier': RandomForestClassifier(random_s...</td>\n",
       "      <td>0.838938</td>\n",
       "      <td>0.846018</td>\n",
       "      <td>0.834292</td>\n",
       "      <td>0.827655</td>\n",
       "      <td>0.840044</td>\n",
       "      <td>0.837389</td>\n",
       "      <td>0.006136</td>\n",
       "      <td>300</td>\n",
       "    </tr>\n",
       "    <tr>\n",
       "      <th>3</th>\n",
       "      <td>6.492667</td>\n",
       "      <td>0.081472</td>\n",
       "      <td>0.187536</td>\n",
       "      <td>0.009729</td>\n",
       "      <td>RandomForestClassifier(random_state=42)</td>\n",
       "      <td>5</td>\n",
       "      <td>2</td>\n",
       "      <td>2</td>\n",
       "      <td>500</td>\n",
       "      <td>{'classifier': RandomForestClassifier(random_s...</td>\n",
       "      <td>0.839159</td>\n",
       "      <td>0.846903</td>\n",
       "      <td>0.835841</td>\n",
       "      <td>0.827212</td>\n",
       "      <td>0.839602</td>\n",
       "      <td>0.837743</td>\n",
       "      <td>0.006385</td>\n",
       "      <td>266</td>\n",
       "    </tr>\n",
       "    <tr>\n",
       "      <th>4</th>\n",
       "      <td>13.036535</td>\n",
       "      <td>0.156464</td>\n",
       "      <td>0.385084</td>\n",
       "      <td>0.013355</td>\n",
       "      <td>RandomForestClassifier(random_state=42)</td>\n",
       "      <td>5</td>\n",
       "      <td>2</td>\n",
       "      <td>2</td>\n",
       "      <td>1000</td>\n",
       "      <td>{'classifier': RandomForestClassifier(random_s...</td>\n",
       "      <td>0.841372</td>\n",
       "      <td>0.846018</td>\n",
       "      <td>0.836062</td>\n",
       "      <td>0.827434</td>\n",
       "      <td>0.841150</td>\n",
       "      <td>0.838407</td>\n",
       "      <td>0.006327</td>\n",
       "      <td>250</td>\n",
       "    </tr>\n",
       "  </tbody>\n",
       "</table>\n",
       "</div>"
      ],
      "text/plain": [
       "   mean_fit_time  std_fit_time  mean_score_time  std_score_time  \\\n",
       "0       1.410487      0.007658         0.038184        0.006253   \n",
       "1       2.672185      0.038313         0.083300        0.009484   \n",
       "2       3.939781      0.062900         0.113447        0.004126   \n",
       "3       6.492667      0.081472         0.187536        0.009729   \n",
       "4      13.036535      0.156464         0.385084        0.013355   \n",
       "\n",
       "                          param_classifier param_classifier__max_depth  \\\n",
       "0  RandomForestClassifier(random_state=42)                           5   \n",
       "1  RandomForestClassifier(random_state=42)                           5   \n",
       "2  RandomForestClassifier(random_state=42)                           5   \n",
       "3  RandomForestClassifier(random_state=42)                           5   \n",
       "4  RandomForestClassifier(random_state=42)                           5   \n",
       "\n",
       "  param_classifier__min_samples_leaf param_classifier__min_samples_split  \\\n",
       "0                                  2                                   2   \n",
       "1                                  2                                   2   \n",
       "2                                  2                                   2   \n",
       "3                                  2                                   2   \n",
       "4                                  2                                   2   \n",
       "\n",
       "  param_classifier__n_estimators  \\\n",
       "0                            100   \n",
       "1                            200   \n",
       "2                            300   \n",
       "3                            500   \n",
       "4                           1000   \n",
       "\n",
       "                                              params  split0_test_score  \\\n",
       "0  {'classifier': RandomForestClassifier(random_s...           0.840708   \n",
       "1  {'classifier': RandomForestClassifier(random_s...           0.838053   \n",
       "2  {'classifier': RandomForestClassifier(random_s...           0.838938   \n",
       "3  {'classifier': RandomForestClassifier(random_s...           0.839159   \n",
       "4  {'classifier': RandomForestClassifier(random_s...           0.841372   \n",
       "\n",
       "   split1_test_score  split2_test_score  split3_test_score  split4_test_score  \\\n",
       "0           0.844469           0.833407           0.829204           0.840929   \n",
       "1           0.846239           0.834292           0.827434           0.840265   \n",
       "2           0.846018           0.834292           0.827655           0.840044   \n",
       "3           0.846903           0.835841           0.827212           0.839602   \n",
       "4           0.846018           0.836062           0.827434           0.841150   \n",
       "\n",
       "   mean_test_score  std_test_score  rank_test_score  \n",
       "0         0.837743        0.005584              266  \n",
       "1         0.837257        0.006255              315  \n",
       "2         0.837389        0.006136              300  \n",
       "3         0.837743        0.006385              266  \n",
       "4         0.838407        0.006327              250  "
      ]
     },
     "execution_count": 175,
     "metadata": {},
     "output_type": "execute_result"
    }
   ],
   "source": [
    "# Converting DataFrame best model results.\n",
    "models = pd.DataFrame(best_model.cv_results_)\n",
    "\n",
    "# Display 5 rows\n",
    "models.head()"
   ]
  },
  {
   "cell_type": "code",
   "execution_count": 176,
   "id": "b536228a-c53f-402f-92f3-36173444cdbe",
   "metadata": {},
   "outputs": [
    {
     "name": "stdout",
     "output_type": "stream",
     "text": [
      "         param_classifier  mean_test_score\n",
      "1  RandomForestClassifier         0.873407\n"
     ]
    }
   ],
   "source": [
    "\n",
    "def summarize_grid_search_results(grid_search):\n",
    "    \n",
    "    \"\"\"\n",
    "    \n",
    "    ##################################################################\n",
    "    \n",
    "    Summarizes the results of a GridSearchCV object by extracting \n",
    "    the mean test scores for each classifier and selecting the best \n",
    "    results based on accuracy score. \n",
    "\n",
    "    Parameters:\n",
    "    grid_search: GridSearchCV object\n",
    "        The GridSearchCV object containing the cross-validation results.\n",
    "\n",
    "    Returns:\n",
    "    pd.DataFrame\n",
    "        A DataFrame containing the classifier names and their corresponding \n",
    "        mean test scores.\n",
    "    \n",
    "    ###################################################################\n",
    "    \n",
    "    \"\"\"\n",
    "    \n",
    "    # Converting DataFrame\n",
    "    models = pd.DataFrame(grid_search.cv_results_)\n",
    "    \n",
    "    # Selecting columns\n",
    "    models = models[[\"param_classifier\", \"mean_test_score\"]]\n",
    "    \n",
    "    # Splitting model names\n",
    "    models[\"param_classifier\"] = models[\"param_classifier\"].astype(str).apply(lambda x: x.split(\"(\")[0])\n",
    "    \n",
    "    # Selecting best accuracy scores\n",
    "    best_results = models.loc[models.groupby(\"param_classifier\")[\"mean_test_score\"].idxmax()]\n",
    "    \n",
    "    # Sorting consequences\n",
    "    best_results = best_results.sort_values(by = \"mean_test_score\", ascending=False).reset_index(drop = True)\n",
    "    \n",
    "    # Setting index\n",
    "    best_results.index = best_results.index + 1\n",
    "\n",
    "    # Returning best result\n",
    "    return best_results\n",
    "\n",
    "# Applying the function to the DataFrame\n",
    "best_summary_df = summarize_grid_search_results(best_model)\n",
    "print(best_summary_df)"
   ]
  },
  {
   "cell_type": "code",
   "execution_count": 177,
   "id": "4a5a8ba6-aa2e-4f6e-9536-5d09eb280309",
   "metadata": {
    "scrolled": true
   },
   "outputs": [
    {
     "data": {
      "image/png": "[encoded data removed]",
      "text/plain": [
       "<Figure size 640x480 with 1 Axes>"
      ]
     },
     "metadata": {},
     "output_type": "display_data"
    }
   ],
   "source": [
    "# Create a bar plot to examine the models\n",
    "plt.figure()\n",
    "bar_plot = sns.barplot(data = best_summary_df, x = \"param_classifier\", y = \"mean_test_score\", hue = \"param_classifier\")\n",
    "plt.ylim(0.80, 0.95)\n",
    "plt.title(\"Model Comparison According To Accuracy\")\n",
    "plt.xlabel(\"Models\")\n",
    "plt.ylabel(\"Accuracy\")\n",
    "plt.xticks(rotation = 45, ha = \"right\")\n",
    "\n",
    "# Annotate each bar with its value\n",
    "for p in bar_plot.patches:\n",
    "    height = p.get_height()\n",
    "    bar_plot.annotate(f\"{height:.3}\", (p.get_x() + p.get_width() / 2, height),\n",
    "                      ha=\"center\", va=\"center\", fontsize = 10)\n",
    "\n",
    "plt.tight_layout()\n",
    "plt.show()\n"
   ]
  },
  {
   "cell_type": "markdown",
   "id": "11e7ae00-f934-46bb-a65e-8d13e7c0d125",
   "metadata": {},
   "source": [
    "GridSearchCV determined the best model as GradientBoostingClassifier. As a result of the modeling, the Accuracy score: 0.930018. \n",
    "* The best model parameters determined were: GradientBoostingClassifier(max_depth=10, n_estimators=500, random_state=42)."
   ]
  },
  {
   "cell_type": "markdown",
   "id": "ff66627d-2181-479f-b21e-32e38b5c5626",
   "metadata": {},
   "source": [
    "## 7.5. Remodelling With Best Model"
   ]
  },
  {
   "cell_type": "code",
   "execution_count": null,
   "id": "332c91cc-d227-4acd-a601-269298fced85",
   "metadata": {},
   "outputs": [],
   "source": [
    "# Build  GdradientBoostingClassifier model\n",
    "selected_model = GradientBoostingClassifier(max_depth = 10, n_estimators = 500, random_state = 42)\n",
    "\n",
    "# Fit model\n",
    "selected_model.fit(X_train, y_train)\n",
    "\n",
    "# Predicting y_pred using X_test values\n",
    "y_pred = selected_model.predict(X_test)\n",
    "\n",
    "# Calculate the model\"s predicted probabilities\n",
    "y_proba = selected_model.predict_proba(X_test)"
   ]
  },
  {
   "cell_type": "markdown",
   "id": "517a9f69-f2da-49cc-9ce8-bc003d8a3d3e",
   "metadata": {},
   "source": [
    "## 7.6. Generate and Visualize Confusion Matrix"
   ]
  },
  {
   "cell_type": "code",
   "execution_count": null,
   "id": "cb33c5f3-39d5-43cb-9e9d-faf72bc6831e",
   "metadata": {},
   "outputs": [],
   "source": [
    "# Create a classification report to interpret the results\n",
    "report = classification_report(y_test, y_pred, output_dict = True)\n",
    "\n",
    "# Convert DataFrame\n",
    "report_df = pd.DataFrame(report).transpose()\n",
    "report_df"
   ]
  },
  {
   "cell_type": "markdown",
   "id": "674ac90a-c5d9-4cf5-a94b-42ae2b9d0669",
   "metadata": {},
   "source": [
    "\r\n",
    "Confusion matrix is ​​used to measure the performance of your classification model\n",
    " The confusion matrix used when determining a bank\"s lending strategy can be interpreted as follows:\r\n",
    "\n",
    "\n",
    "\r\n",
    "True Positives (TP): The model accurately predicts customers who will repay the lo\n",
    "\n",
    "\n",
    "an.\r\n",
    "True Negatives (TN): The model accurately predicts customers who will not repay the l\n",
    "\n",
    "\n",
    "oan.\r\n",
    "False Positives (FP): The model grants loans to customers who will not repay the loan (bad credit r\n",
    "\n",
    "\n",
    "isk).\r\n",
    "False Negatives (FN): The model does not grant loans to customers who will repay the loan (loss of potential pro\n",
    "fits)."
   ]
  },
  {
   "cell_type": "code",
   "execution_count": null,
   "id": "5275a53a-a44f-43fe-bb5a-8db16c3cbbe5",
   "metadata": {},
   "outputs": [],
   "source": [
    "# Create confusion matrix\n",
    "cm = confusion_matrix(y_test, y_pred)\n",
    "\n",
    "# Display confusion matrix \n",
    "disp = ConfusionMatrixDisplay(confusion_matrix = cm, display_labels = selected_model.classes_)\n",
    "disp.plot(cmap = plt.cm.Reds, colorbar = False)\n",
    "plt.show()"
   ]
  },
  {
   "cell_type": "code",
   "execution_count": null,
   "id": "1728ae07-c3f1-4d7d-81c1-0b00770ed5de",
   "metadata": {},
   "outputs": [],
   "source": [
    "# Calculate ROC Curve\n",
    "fpr, tpr, thresholds = roc_curve(y_test, y_proba[:, 1])\n",
    "roc_auc = auc(fpr, tpr)\n",
    "\n",
    "#  Drawing ROC curve \n",
    "plt.figure()\n",
    "plt.plot(fpr, tpr, color = \"orange\",  label = f\"ROC curve (area = {roc_auc:.2f})\")\n",
    "plt.plot([0, 1], [0, 1], color = \"blue\",  linestyle = \"--\")\n",
    "plt.xlim([0.0, 1.0])\n",
    "plt.ylim([0.0, 1.05])\n",
    "plt.xlabel(\"False Positive Rate\")\n",
    "plt.ylabel(\"True Positive Rate\")\n",
    "plt.title(\"Receiver Operating Characteristic (ROC)\")\n",
    "plt.legend(loc = \"lower right\")\n",
    "plt.show()\n"
   ]
  },
  {
   "cell_type": "code",
   "execution_count": null,
   "id": "1191992b-5018-4d0c-b52f-86c512600168",
   "metadata": {},
   "outputs": [],
   "source": [
    "# Find best treshold\n",
    "optimal_idx = np.argmax(tpr - fpr)\n",
    "optimal_threshold = thresholds[optimal_idx]\n",
    "print(f\"Optimal threshold: {optimal_threshold}\")"
   ]
  },
  {
   "cell_type": "code",
   "execution_count": null,
   "id": "b6303812-f96a-4de6-a277-1c4cf5dfcf71",
   "metadata": {},
   "outputs": [],
   "source": [
    "\n",
    "# Tahmin edilen olasılıkları hesapla\n",
    "selected_model = GradientBoostingClassifier(max_depth=10, n_estimators=500, random_state=42)\n",
    "selected_model.fit(X_train, y_train)\n",
    "y_proba = selected_model.predict_proba(X_test)\n",
    "\n",
    "# Optimal threshold\"u kullanarak tahminler yapma\n",
    "optimal_threshold = 0.022290952030143734\n",
    "y_pred = np.where(y_proba[:, 1] >= optimal_threshold, 1, 0)\n",
    "\n",
    "# Confusion matrix oluşturma ve gösterme\n",
    "cm = confusion_matrix(y_test, y_pred)\n",
    "disp = ConfusionMatrixDisplay(confusion_matrix=cm, display_labels=selected_model.classes_)\n",
    "disp.plot(cmap=plt.cm.Reds, colorbar=False)\n",
    "plt.show()\n",
    "\n",
    "# ROC Curve için hesaplamalar\n",
    "fpr, tpr, thresholds = roc_curve(y_test, y_proba[:, 1])\n",
    "roc_auc = auc(fpr, tpr)\n",
    "\n",
    "# ROC eğrisini çizme\n",
    "plt.figure()\n",
    "plt.plot(fpr, tpr, color=\"orange\",  label=f\"ROC curve (area = {roc_auc:.2f})\")\n",
    "plt.plot([0, 1], [0, 1], color=\"blue\", linestyle=\"--\")\n",
    "plt.xlim([0.0, 1.0])\n",
    "plt.ylim([0.0, 1.05])\n",
    "plt.xlabel(\"False Positive Rate\")\n",
    "plt.ylabel(\"True Positive Rate\")\n",
    "plt.title(\"Receiver Operating Characteristic (ROC)\")\n",
    "plt.legend(loc=\"lower right\")\n",
    "plt.show()\n",
    "\n",
    "# Sonuçları yorumlamak için classification report oluşturma\n",
    "report = classification_report(y_test, y_pred, output_dict=True)\n",
    "report_df = pd.DataFrame(report).transpose()\n",
    "print(report_df)\n"
   ]
  },
  {
   "cell_type": "markdown",
   "id": "c2396c8f-ad3c-4a3c-b16f-794b94f4070a",
   "metadata": {},
   "source": [
    "When we examine the new confusion matrix and its associated metrics after threshold optimization, we can observe improvements in certain aspects of our model\"s performance.\n",
    "\n",
    "### Analysis of New Results\n",
    "\n",
    "* True Negatives (TN): Decreased from 5065 to 4730\n",
    "* False Positives (FP): Increased from 84 to 419\n",
    "* False Negatives (FN): Decreased from 346 to 211\n",
    "* True Positives (TP): Increased from 1022 to 1157\n",
    "\n",
    "### Comparison of Metrics\n",
    "\n",
    "#### Old Metrics:\n",
    "* Precision: 0.924\n",
    "* Recall: 0.747\n",
    "* F1-score: 0.826\n",
    "\n",
    "#### New Metrics:\n",
    "\n",
    "* Precision: 0.734\n",
    "* Recall: 0.846\n",
    "* F1-score: 0.786\n",
    "### Interpretation of the Change\n",
    "\n",
    "#### Decrease in Precision: \n",
    "\n",
    "The increase in false positives (FP) led to a decrease in precision. This means the model is producing more false alarms (false positives).\n",
    "#### Increase in Recall:\n",
    "\n",
    "The decrease in false negatives (FN) led to an increase in recall. This indicates that the model is capturing more true positives.\n",
    "\n",
    "#### F1-score:\n",
    "Despite the decrease in precision due to the increase in recall, we observed a general improvement in the F1-score.(F1-score is the harmonic mean of precision and recall)"
   ]
  },
  {
   "cell_type": "markdown",
   "id": "a2b69655-9df2-4401-a422-de410a008147",
   "metadata": {},
   "source": [
    "## 8. Customer Policy Analysis"
   ]
  },
  {
   "cell_type": "code",
   "execution_count": null,
   "id": "9c77df81-1a1b-4902-a3ab-76201cb5b18d",
   "metadata": {},
   "outputs": [],
   "source": []
  },
  {
   "cell_type": "code",
   "execution_count": 44,
   "id": "e3192e67-077c-4c06-97aa-cc50f984e02c",
   "metadata": {},
   "outputs": [
    {
     "ename": "TypeError",
     "evalue": "float() argument must be a string or a real number, not 'ellipsis'",
     "output_type": "error",
     "traceback": [
      "\u001b[1;31m---------------------------------------------------------------------------\u001b[0m",
      "\u001b[1;31mTypeError\u001b[0m                                 Traceback (most recent call last)",
      "Cell \u001b[1;32mIn[44], line 45\u001b[0m\n\u001b[0;32m     43\u001b[0m \u001b[38;5;66;03m# Modeli eğit\u001b[39;00m\n\u001b[0;32m     44\u001b[0m model \u001b[38;5;241m=\u001b[39m RandomForestClassifier(random_state\u001b[38;5;241m=\u001b[39m\u001b[38;5;241m42\u001b[39m)\n\u001b[1;32m---> 45\u001b[0m model\u001b[38;5;241m.\u001b[39mfit(X_train, y_train)\n\u001b[0;32m     47\u001b[0m \u001b[38;5;66;03m# Özellik adlarını tanımla\u001b[39;00m\n\u001b[0;32m     48\u001b[0m feature_names \u001b[38;5;241m=\u001b[39m X\u001b[38;5;241m.\u001b[39mcolumns  \u001b[38;5;66;03m# Kendi özellik isimlerinizi buraya ekleyin\u001b[39;00m\n",
      "File \u001b[1;32m~\\anaconda\\Lib\\site-packages\\sklearn\\base.py:1474\u001b[0m, in \u001b[0;36m_fit_context.<locals>.decorator.<locals>.wrapper\u001b[1;34m(estimator, *args, **kwargs)\u001b[0m\n\u001b[0;32m   1467\u001b[0m     estimator\u001b[38;5;241m.\u001b[39m_validate_params()\n\u001b[0;32m   1469\u001b[0m \u001b[38;5;28;01mwith\u001b[39;00m config_context(\n\u001b[0;32m   1470\u001b[0m     skip_parameter_validation\u001b[38;5;241m=\u001b[39m(\n\u001b[0;32m   1471\u001b[0m         prefer_skip_nested_validation \u001b[38;5;129;01mor\u001b[39;00m global_skip_validation\n\u001b[0;32m   1472\u001b[0m     )\n\u001b[0;32m   1473\u001b[0m ):\n\u001b[1;32m-> 1474\u001b[0m     \u001b[38;5;28;01mreturn\u001b[39;00m fit_method(estimator, \u001b[38;5;241m*\u001b[39margs, \u001b[38;5;241m*\u001b[39m\u001b[38;5;241m*\u001b[39mkwargs)\n",
      "File \u001b[1;32m~\\anaconda\\Lib\\site-packages\\sklearn\\ensemble\\_forest.py:363\u001b[0m, in \u001b[0;36mBaseForest.fit\u001b[1;34m(self, X, y, sample_weight)\u001b[0m\n\u001b[0;32m    360\u001b[0m \u001b[38;5;28;01mif\u001b[39;00m issparse(y):\n\u001b[0;32m    361\u001b[0m     \u001b[38;5;28;01mraise\u001b[39;00m \u001b[38;5;167;01mValueError\u001b[39;00m(\u001b[38;5;124m\"\u001b[39m\u001b[38;5;124msparse multilabel-indicator for y is not supported.\u001b[39m\u001b[38;5;124m\"\u001b[39m)\n\u001b[1;32m--> 363\u001b[0m X, y \u001b[38;5;241m=\u001b[39m \u001b[38;5;28mself\u001b[39m\u001b[38;5;241m.\u001b[39m_validate_data(\n\u001b[0;32m    364\u001b[0m     X,\n\u001b[0;32m    365\u001b[0m     y,\n\u001b[0;32m    366\u001b[0m     multi_output\u001b[38;5;241m=\u001b[39m\u001b[38;5;28;01mTrue\u001b[39;00m,\n\u001b[0;32m    367\u001b[0m     accept_sparse\u001b[38;5;241m=\u001b[39m\u001b[38;5;124m\"\u001b[39m\u001b[38;5;124mcsc\u001b[39m\u001b[38;5;124m\"\u001b[39m,\n\u001b[0;32m    368\u001b[0m     dtype\u001b[38;5;241m=\u001b[39mDTYPE,\n\u001b[0;32m    369\u001b[0m     force_all_finite\u001b[38;5;241m=\u001b[39m\u001b[38;5;28;01mFalse\u001b[39;00m,\n\u001b[0;32m    370\u001b[0m )\n\u001b[0;32m    371\u001b[0m \u001b[38;5;66;03m# _compute_missing_values_in_feature_mask checks if X has missing values and\u001b[39;00m\n\u001b[0;32m    372\u001b[0m \u001b[38;5;66;03m# will raise an error if the underlying tree base estimator can't handle missing\u001b[39;00m\n\u001b[0;32m    373\u001b[0m \u001b[38;5;66;03m# values. Only the criterion is required to determine if the tree supports\u001b[39;00m\n\u001b[0;32m    374\u001b[0m \u001b[38;5;66;03m# missing values.\u001b[39;00m\n\u001b[0;32m    375\u001b[0m estimator \u001b[38;5;241m=\u001b[39m \u001b[38;5;28mtype\u001b[39m(\u001b[38;5;28mself\u001b[39m\u001b[38;5;241m.\u001b[39mestimator)(criterion\u001b[38;5;241m=\u001b[39m\u001b[38;5;28mself\u001b[39m\u001b[38;5;241m.\u001b[39mcriterion)\n",
      "File \u001b[1;32m~\\anaconda\\Lib\\site-packages\\sklearn\\base.py:650\u001b[0m, in \u001b[0;36mBaseEstimator._validate_data\u001b[1;34m(self, X, y, reset, validate_separately, cast_to_ndarray, **check_params)\u001b[0m\n\u001b[0;32m    648\u001b[0m         y \u001b[38;5;241m=\u001b[39m check_array(y, input_name\u001b[38;5;241m=\u001b[39m\u001b[38;5;124m\"\u001b[39m\u001b[38;5;124my\u001b[39m\u001b[38;5;124m\"\u001b[39m, \u001b[38;5;241m*\u001b[39m\u001b[38;5;241m*\u001b[39mcheck_y_params)\n\u001b[0;32m    649\u001b[0m     \u001b[38;5;28;01melse\u001b[39;00m:\n\u001b[1;32m--> 650\u001b[0m         X, y \u001b[38;5;241m=\u001b[39m check_X_y(X, y, \u001b[38;5;241m*\u001b[39m\u001b[38;5;241m*\u001b[39mcheck_params)\n\u001b[0;32m    651\u001b[0m     out \u001b[38;5;241m=\u001b[39m X, y\n\u001b[0;32m    653\u001b[0m \u001b[38;5;28;01mif\u001b[39;00m \u001b[38;5;129;01mnot\u001b[39;00m no_val_X \u001b[38;5;129;01mand\u001b[39;00m check_params\u001b[38;5;241m.\u001b[39mget(\u001b[38;5;124m\"\u001b[39m\u001b[38;5;124mensure_2d\u001b[39m\u001b[38;5;124m\"\u001b[39m, \u001b[38;5;28;01mTrue\u001b[39;00m):\n",
      "File \u001b[1;32m~\\anaconda\\Lib\\site-packages\\sklearn\\utils\\validation.py:1263\u001b[0m, in \u001b[0;36mcheck_X_y\u001b[1;34m(X, y, accept_sparse, accept_large_sparse, dtype, order, copy, force_all_finite, ensure_2d, allow_nd, multi_output, ensure_min_samples, ensure_min_features, y_numeric, estimator)\u001b[0m\n\u001b[0;32m   1258\u001b[0m         estimator_name \u001b[38;5;241m=\u001b[39m _check_estimator_name(estimator)\n\u001b[0;32m   1259\u001b[0m     \u001b[38;5;28;01mraise\u001b[39;00m \u001b[38;5;167;01mValueError\u001b[39;00m(\n\u001b[0;32m   1260\u001b[0m         \u001b[38;5;124mf\u001b[39m\u001b[38;5;124m\"\u001b[39m\u001b[38;5;132;01m{\u001b[39;00mestimator_name\u001b[38;5;132;01m}\u001b[39;00m\u001b[38;5;124m requires y to be passed, but the target y is None\u001b[39m\u001b[38;5;124m\"\u001b[39m\n\u001b[0;32m   1261\u001b[0m     )\n\u001b[1;32m-> 1263\u001b[0m X \u001b[38;5;241m=\u001b[39m check_array(\n\u001b[0;32m   1264\u001b[0m     X,\n\u001b[0;32m   1265\u001b[0m     accept_sparse\u001b[38;5;241m=\u001b[39maccept_sparse,\n\u001b[0;32m   1266\u001b[0m     accept_large_sparse\u001b[38;5;241m=\u001b[39maccept_large_sparse,\n\u001b[0;32m   1267\u001b[0m     dtype\u001b[38;5;241m=\u001b[39mdtype,\n\u001b[0;32m   1268\u001b[0m     order\u001b[38;5;241m=\u001b[39morder,\n\u001b[0;32m   1269\u001b[0m     copy\u001b[38;5;241m=\u001b[39mcopy,\n\u001b[0;32m   1270\u001b[0m     force_all_finite\u001b[38;5;241m=\u001b[39mforce_all_finite,\n\u001b[0;32m   1271\u001b[0m     ensure_2d\u001b[38;5;241m=\u001b[39mensure_2d,\n\u001b[0;32m   1272\u001b[0m     allow_nd\u001b[38;5;241m=\u001b[39mallow_nd,\n\u001b[0;32m   1273\u001b[0m     ensure_min_samples\u001b[38;5;241m=\u001b[39mensure_min_samples,\n\u001b[0;32m   1274\u001b[0m     ensure_min_features\u001b[38;5;241m=\u001b[39mensure_min_features,\n\u001b[0;32m   1275\u001b[0m     estimator\u001b[38;5;241m=\u001b[39mestimator,\n\u001b[0;32m   1276\u001b[0m     input_name\u001b[38;5;241m=\u001b[39m\u001b[38;5;124m\"\u001b[39m\u001b[38;5;124mX\u001b[39m\u001b[38;5;124m\"\u001b[39m,\n\u001b[0;32m   1277\u001b[0m )\n\u001b[0;32m   1279\u001b[0m y \u001b[38;5;241m=\u001b[39m _check_y(y, multi_output\u001b[38;5;241m=\u001b[39mmulti_output, y_numeric\u001b[38;5;241m=\u001b[39my_numeric, estimator\u001b[38;5;241m=\u001b[39mestimator)\n\u001b[0;32m   1281\u001b[0m check_consistent_length(X, y)\n",
      "File \u001b[1;32m~\\anaconda\\Lib\\site-packages\\sklearn\\utils\\validation.py:997\u001b[0m, in \u001b[0;36mcheck_array\u001b[1;34m(array, accept_sparse, accept_large_sparse, dtype, order, copy, force_all_finite, ensure_2d, allow_nd, ensure_min_samples, ensure_min_features, estimator, input_name)\u001b[0m\n\u001b[0;32m    995\u001b[0m         array \u001b[38;5;241m=\u001b[39m xp\u001b[38;5;241m.\u001b[39mastype(array, dtype, copy\u001b[38;5;241m=\u001b[39m\u001b[38;5;28;01mFalse\u001b[39;00m)\n\u001b[0;32m    996\u001b[0m     \u001b[38;5;28;01melse\u001b[39;00m:\n\u001b[1;32m--> 997\u001b[0m         array \u001b[38;5;241m=\u001b[39m _asarray_with_order(array, order\u001b[38;5;241m=\u001b[39morder, dtype\u001b[38;5;241m=\u001b[39mdtype, xp\u001b[38;5;241m=\u001b[39mxp)\n\u001b[0;32m    998\u001b[0m \u001b[38;5;28;01mexcept\u001b[39;00m ComplexWarning \u001b[38;5;28;01mas\u001b[39;00m complex_warning:\n\u001b[0;32m    999\u001b[0m     \u001b[38;5;28;01mraise\u001b[39;00m \u001b[38;5;167;01mValueError\u001b[39;00m(\n\u001b[0;32m   1000\u001b[0m         \u001b[38;5;124m\"\u001b[39m\u001b[38;5;124mComplex data not supported\u001b[39m\u001b[38;5;130;01m\\n\u001b[39;00m\u001b[38;5;132;01m{}\u001b[39;00m\u001b[38;5;130;01m\\n\u001b[39;00m\u001b[38;5;124m\"\u001b[39m\u001b[38;5;241m.\u001b[39mformat(array)\n\u001b[0;32m   1001\u001b[0m     ) \u001b[38;5;28;01mfrom\u001b[39;00m \u001b[38;5;21;01mcomplex_warning\u001b[39;00m\n",
      "File \u001b[1;32m~\\anaconda\\Lib\\site-packages\\sklearn\\utils\\_array_api.py:521\u001b[0m, in \u001b[0;36m_asarray_with_order\u001b[1;34m(array, dtype, order, copy, xp)\u001b[0m\n\u001b[0;32m    519\u001b[0m     array \u001b[38;5;241m=\u001b[39m numpy\u001b[38;5;241m.\u001b[39marray(array, order\u001b[38;5;241m=\u001b[39morder, dtype\u001b[38;5;241m=\u001b[39mdtype)\n\u001b[0;32m    520\u001b[0m \u001b[38;5;28;01melse\u001b[39;00m:\n\u001b[1;32m--> 521\u001b[0m     array \u001b[38;5;241m=\u001b[39m numpy\u001b[38;5;241m.\u001b[39masarray(array, order\u001b[38;5;241m=\u001b[39morder, dtype\u001b[38;5;241m=\u001b[39mdtype)\n\u001b[0;32m    523\u001b[0m \u001b[38;5;66;03m# At this point array is a NumPy ndarray. We convert it to an array\u001b[39;00m\n\u001b[0;32m    524\u001b[0m \u001b[38;5;66;03m# container that is consistent with the input's namespace.\u001b[39;00m\n\u001b[0;32m    525\u001b[0m \u001b[38;5;28;01mreturn\u001b[39;00m xp\u001b[38;5;241m.\u001b[39masarray(array)\n",
      "\u001b[1;31mTypeError\u001b[0m: float() argument must be a string or a real number, not 'ellipsis'"
     ]
    }
   ],
   "source": [
    "import matplotlib.pyplot as plt\n",
    "import pandas as pd\n",
    "import numpy as np\n",
    "\n",
    "def plot_feature_importances(model, feature_names):\n",
    "    \"\"\"\n",
    "    Özelliklerin önem derecelerini görselleştiren fonksiyon.\n",
    "    \n",
    "    Args:\n",
    "        model: Özelliklerin önem derecelerini sağlayan model (örneğin, RandomForestClassifier).\n",
    "        feature_names: Özellik adlarını içeren liste veya dizi.\n",
    "        \n",
    "    Returns:\n",
    "        None\n",
    "    \"\"\"\n",
    "    # Özelliklerin önem derecelerini al\n",
    "    importances = model.feature_importances_\n",
    "    \n",
    "    # Özellikler ve önem derecelerini bir DataFrame'e dönüştür\n",
    "    feature_importances = pd.DataFrame({\n",
    "        'Feature': feature_names,\n",
    "        'Importance': importances\n",
    "    })\n",
    "    \n",
    "    # Önem derecelerini azalan sıraya göre sırala\n",
    "    feature_importances = feature_importances.sort_values(by='Importance', ascending=False)\n",
    "    \n",
    "    # Görselleştirme\n",
    "    plt.figure(figsize=(12, 8))\n",
    "    plt.barh(feature_importances['Feature'], feature_importances['Importance'], color='skyblue')\n",
    "    plt.xlabel('Importance')\n",
    "    plt.title('Feature Importances')\n",
    "    plt.gca().invert_yaxis()\n",
    "    plt.show()\n",
    "\n",
    "# Örnek kullanım\n",
    "from sklearn.ensemble import RandomForestClassifier\n",
    "\n",
    "# Eğitim verileri ve etiketler\n",
    "X_train = ...  # Eğitim veri seti\n",
    "y_train = ...  # Eğitim etiketleri\n",
    "\n",
    "# Modeli eğit\n",
    "model = RandomForestClassifier(random_state=42)\n",
    "model.fit(X_train, y_train)\n",
    "\n",
    "# Özellik adlarını tanımla\n",
    "feature_names = X.columns  # Kendi özellik isimlerinizi buraya ekleyin\n",
    "\n",
    "# Özelliklerin önem derecelerini görselleştir\n",
    "plot_feature_importances(model, feature_names)\n"
   ]
  },
  {
   "cell_type": "code",
   "execution_count": null,
   "id": "523878a9-5443-4c22-8f20-5d87c66e6f0f",
   "metadata": {},
   "outputs": [],
   "source": [
    "df.head(3)"
   ]
  },
  {
   "cell_type": "code",
   "execution_count": null,
   "id": "49ed06b1-5f8a-4d42-9e8a-960deb165d25",
   "metadata": {},
   "outputs": [],
   "source": [
    "mean_loan_int_rate = df[\"loan_int_rate\"].mean()\n",
    "mean_loan_term_years = df[\"term_years\"].mean().round()\n",
    "mean_loan_amount = df[\"loan_amnt\"].mean()\n",
    "\n",
    "\n",
    "print(f\"mean loan int rate : {mean_loan_int_rate:.2f}\")\n",
    "print(f\"mean loan term years : {mean_loan_term_years}\")\n",
    "print(f\"mean loan amount : {mean_loan_amount:.2f}\")"
   ]
  },
  {
   "cell_type": "code",
   "execution_count": null,
   "id": "e9b17113-a918-4969-a7d3-3feeacfe8a2f",
   "metadata": {},
   "outputs": [],
   "source": [
    "\n"
   ]
  },
  {
   "cell_type": "code",
   "execution_count": null,
   "id": "1a82748c-93dd-4302-b422-f5693f210b93",
   "metadata": {},
   "outputs": [],
   "source": []
  }
 ],
 "metadata": {
  "kernelspec": {
   "display_name": "Python 3 (ipykernel)",
   "language": "python",
   "name": "python3"
  },
  "language_info": {
   "codemirror_mode": {
    "name": "ipython",
    "version": 3
   },
   "file_extension": ".py",
   "mimetype": "text/x-python",
   "name": "python",
   "nbconvert_exporter": "python",
   "pygments_lexer": "ipython3",
   "version": "3.12.4"
  }
 },
 "nbformat": 4,
 "nbformat_minor": 5
}
