{
 "cells": [
  {
   "cell_type": "code",
   "execution_count": 35,
   "id": "c8134244-c3a2-4da0-af78-65e63abfdf35",
   "metadata": {},
   "outputs": [],
   "source": [
    "import pandas as pd\n",
    "import numpy as np\n"
   ]
  },
  {
   "cell_type": "code",
   "execution_count": 56,
   "id": "2e259b30-d702-475f-944e-770a9f9074a8",
   "metadata": {},
   "outputs": [
    {
     "name": "stderr",
     "output_type": "stream",
     "text": [
      "C:\\Users\\Hefes\\AppData\\Local\\Temp\\ipykernel_17064\\1597605759.py:1: DtypeWarning: Columns (13,39,40,41) have mixed types. Specify dtype option on import or set low_memory=False.\n",
      "  df = pd.read_csv(\"Bulldozer.csv\")\n"
     ]
    }
   ],
   "source": [
    "df = pd.read_csv(\"Bulldozer.csv\")"
   ]
  },
  {
   "cell_type": "code",
   "execution_count": 37,
   "id": "529cce7b-53df-4035-b765-b6cd1de1b02f",
   "metadata": {},
   "outputs": [
    {
     "data": {
      "text/html": [
       "<div>\n",
       "<style scoped>\n",
       "    .dataframe tbody tr th:only-of-type {\n",
       "        vertical-align: middle;\n",
       "    }\n",
       "\n",
       "    .dataframe tbody tr th {\n",
       "        vertical-align: top;\n",
       "    }\n",
       "\n",
       "    .dataframe thead th {\n",
       "        text-align: right;\n",
       "    }\n",
       "</style>\n",
       "<table border=\"1\" class=\"dataframe\">\n",
       "  <thead>\n",
       "    <tr style=\"text-align: right;\">\n",
       "      <th></th>\n",
       "      <th>SalesID</th>\n",
       "      <th>SalePrice</th>\n",
       "      <th>MachineID</th>\n",
       "      <th>ModelID</th>\n",
       "      <th>datasource</th>\n",
       "      <th>auctioneerID</th>\n",
       "      <th>YearMade</th>\n",
       "      <th>MachineHoursCurrentMeter</th>\n",
       "      <th>UsageBand</th>\n",
       "      <th>saledate</th>\n",
       "      <th>...</th>\n",
       "      <th>Undercarriage_Pad_Width</th>\n",
       "      <th>Stick_Length</th>\n",
       "      <th>Thumb</th>\n",
       "      <th>Pattern_Changer</th>\n",
       "      <th>Grouser_Type</th>\n",
       "      <th>Backhoe_Mounting</th>\n",
       "      <th>Blade_Type</th>\n",
       "      <th>Travel_Controls</th>\n",
       "      <th>Differential_Type</th>\n",
       "      <th>Steering_Controls</th>\n",
       "    </tr>\n",
       "  </thead>\n",
       "  <tbody>\n",
       "    <tr>\n",
       "      <th>0</th>\n",
       "      <td>1139246</td>\n",
       "      <td>66000.0</td>\n",
       "      <td>999089</td>\n",
       "      <td>3157</td>\n",
       "      <td>121</td>\n",
       "      <td>3.0</td>\n",
       "      <td>2004</td>\n",
       "      <td>68.0</td>\n",
       "      <td>Low</td>\n",
       "      <td>11/16/2006 0:00</td>\n",
       "      <td>...</td>\n",
       "      <td>NaN</td>\n",
       "      <td>NaN</td>\n",
       "      <td>NaN</td>\n",
       "      <td>NaN</td>\n",
       "      <td>NaN</td>\n",
       "      <td>NaN</td>\n",
       "      <td>NaN</td>\n",
       "      <td>NaN</td>\n",
       "      <td>Standard</td>\n",
       "      <td>Conventional</td>\n",
       "    </tr>\n",
       "    <tr>\n",
       "      <th>1</th>\n",
       "      <td>1139248</td>\n",
       "      <td>57000.0</td>\n",
       "      <td>117657</td>\n",
       "      <td>77</td>\n",
       "      <td>121</td>\n",
       "      <td>3.0</td>\n",
       "      <td>1996</td>\n",
       "      <td>4640.0</td>\n",
       "      <td>Low</td>\n",
       "      <td>3/26/2004 0:00</td>\n",
       "      <td>...</td>\n",
       "      <td>NaN</td>\n",
       "      <td>NaN</td>\n",
       "      <td>NaN</td>\n",
       "      <td>NaN</td>\n",
       "      <td>NaN</td>\n",
       "      <td>NaN</td>\n",
       "      <td>NaN</td>\n",
       "      <td>NaN</td>\n",
       "      <td>Standard</td>\n",
       "      <td>Conventional</td>\n",
       "    </tr>\n",
       "    <tr>\n",
       "      <th>2</th>\n",
       "      <td>1139249</td>\n",
       "      <td>10000.0</td>\n",
       "      <td>434808</td>\n",
       "      <td>7009</td>\n",
       "      <td>121</td>\n",
       "      <td>3.0</td>\n",
       "      <td>2001</td>\n",
       "      <td>2838.0</td>\n",
       "      <td>High</td>\n",
       "      <td>2/26/2004 0:00</td>\n",
       "      <td>...</td>\n",
       "      <td>NaN</td>\n",
       "      <td>NaN</td>\n",
       "      <td>NaN</td>\n",
       "      <td>NaN</td>\n",
       "      <td>NaN</td>\n",
       "      <td>NaN</td>\n",
       "      <td>NaN</td>\n",
       "      <td>NaN</td>\n",
       "      <td>NaN</td>\n",
       "      <td>NaN</td>\n",
       "    </tr>\n",
       "    <tr>\n",
       "      <th>3</th>\n",
       "      <td>1139251</td>\n",
       "      <td>38500.0</td>\n",
       "      <td>1026470</td>\n",
       "      <td>332</td>\n",
       "      <td>121</td>\n",
       "      <td>3.0</td>\n",
       "      <td>2001</td>\n",
       "      <td>3486.0</td>\n",
       "      <td>High</td>\n",
       "      <td>5/19/2011 0:00</td>\n",
       "      <td>...</td>\n",
       "      <td>NaN</td>\n",
       "      <td>NaN</td>\n",
       "      <td>NaN</td>\n",
       "      <td>NaN</td>\n",
       "      <td>NaN</td>\n",
       "      <td>NaN</td>\n",
       "      <td>NaN</td>\n",
       "      <td>NaN</td>\n",
       "      <td>NaN</td>\n",
       "      <td>NaN</td>\n",
       "    </tr>\n",
       "    <tr>\n",
       "      <th>4</th>\n",
       "      <td>1139253</td>\n",
       "      <td>11000.0</td>\n",
       "      <td>1057373</td>\n",
       "      <td>17311</td>\n",
       "      <td>121</td>\n",
       "      <td>3.0</td>\n",
       "      <td>2007</td>\n",
       "      <td>722.0</td>\n",
       "      <td>Medium</td>\n",
       "      <td>7/23/2009 0:00</td>\n",
       "      <td>...</td>\n",
       "      <td>NaN</td>\n",
       "      <td>NaN</td>\n",
       "      <td>NaN</td>\n",
       "      <td>NaN</td>\n",
       "      <td>NaN</td>\n",
       "      <td>NaN</td>\n",
       "      <td>NaN</td>\n",
       "      <td>NaN</td>\n",
       "      <td>NaN</td>\n",
       "      <td>NaN</td>\n",
       "    </tr>\n",
       "  </tbody>\n",
       "</table>\n",
       "<p>5 rows × 53 columns</p>\n",
       "</div>"
      ],
      "text/plain": [
       "   SalesID  SalePrice  MachineID  ModelID  datasource  auctioneerID  YearMade  \\\n",
       "0  1139246    66000.0     999089     3157         121           3.0      2004   \n",
       "1  1139248    57000.0     117657       77         121           3.0      1996   \n",
       "2  1139249    10000.0     434808     7009         121           3.0      2001   \n",
       "3  1139251    38500.0    1026470      332         121           3.0      2001   \n",
       "4  1139253    11000.0    1057373    17311         121           3.0      2007   \n",
       "\n",
       "   MachineHoursCurrentMeter UsageBand         saledate  ...  \\\n",
       "0                      68.0       Low  11/16/2006 0:00  ...   \n",
       "1                    4640.0       Low   3/26/2004 0:00  ...   \n",
       "2                    2838.0      High   2/26/2004 0:00  ...   \n",
       "3                    3486.0      High   5/19/2011 0:00  ...   \n",
       "4                     722.0    Medium   7/23/2009 0:00  ...   \n",
       "\n",
       "  Undercarriage_Pad_Width Stick_Length Thumb Pattern_Changer Grouser_Type  \\\n",
       "0                     NaN          NaN   NaN             NaN          NaN   \n",
       "1                     NaN          NaN   NaN             NaN          NaN   \n",
       "2                     NaN          NaN   NaN             NaN          NaN   \n",
       "3                     NaN          NaN   NaN             NaN          NaN   \n",
       "4                     NaN          NaN   NaN             NaN          NaN   \n",
       "\n",
       "  Backhoe_Mounting Blade_Type Travel_Controls Differential_Type  \\\n",
       "0              NaN        NaN             NaN          Standard   \n",
       "1              NaN        NaN             NaN          Standard   \n",
       "2              NaN        NaN             NaN               NaN   \n",
       "3              NaN        NaN             NaN               NaN   \n",
       "4              NaN        NaN             NaN               NaN   \n",
       "\n",
       "  Steering_Controls  \n",
       "0      Conventional  \n",
       "1      Conventional  \n",
       "2               NaN  \n",
       "3               NaN  \n",
       "4               NaN  \n",
       "\n",
       "[5 rows x 53 columns]"
      ]
     },
     "execution_count": 37,
     "metadata": {},
     "output_type": "execute_result"
    }
   ],
   "source": [
    "df.head()"
   ]
  },
  {
   "cell_type": "code",
   "execution_count": 38,
   "id": "722d7976-2076-425b-821b-f5a16e158105",
   "metadata": {},
   "outputs": [
    {
     "name": "stdout",
     "output_type": "stream",
     "text": [
      "<class 'pandas.core.frame.DataFrame'>\n",
      "RangeIndex: 412698 entries, 0 to 412697\n",
      "Data columns (total 53 columns):\n",
      " #   Column                    Non-Null Count   Dtype  \n",
      "---  ------                    --------------   -----  \n",
      " 0   SalesID                   412698 non-null  int64  \n",
      " 1   SalePrice                 412698 non-null  float64\n",
      " 2   MachineID                 412698 non-null  int64  \n",
      " 3   ModelID                   412698 non-null  int64  \n",
      " 4   datasource                412698 non-null  int64  \n",
      " 5   auctioneerID              392562 non-null  float64\n",
      " 6   YearMade                  412698 non-null  int64  \n",
      " 7   MachineHoursCurrentMeter  147504 non-null  float64\n",
      " 8   UsageBand                 73670 non-null   object \n",
      " 9   saledate                  412698 non-null  object \n",
      " 10  fiModelDesc               412698 non-null  object \n",
      " 11  fiBaseModel               412698 non-null  object \n",
      " 12  fiSecondaryDesc           271971 non-null  object \n",
      " 13  fiModelSeries             58667 non-null   object \n",
      " 14  fiModelDescriptor         74816 non-null   object \n",
      " 15  ProductSize               196093 non-null  object \n",
      " 16  fiProductClassDesc        412698 non-null  object \n",
      " 17  state                     412698 non-null  object \n",
      " 18  ProductGroup              412698 non-null  object \n",
      " 19  ProductGroupDesc          412698 non-null  object \n",
      " 20  Drive_System              107087 non-null  object \n",
      " 21  Enclosure                 412364 non-null  object \n",
      " 22  Forks                     197715 non-null  object \n",
      " 23  Pad_Type                  81096 non-null   object \n",
      " 24  Ride_Control              152728 non-null  object \n",
      " 25  Stick                     81096 non-null   object \n",
      " 26  Transmission              188007 non-null  object \n",
      " 27  Turbocharged              81096 non-null   object \n",
      " 28  Blade_Extension           25983 non-null   object \n",
      " 29  Blade_Width               25983 non-null   object \n",
      " 30  Enclosure_Type            25983 non-null   object \n",
      " 31  Engine_Horsepower         25983 non-null   object \n",
      " 32  Hydraulics                330133 non-null  object \n",
      " 33  Pushblock                 25983 non-null   object \n",
      " 34  Ripper                    106945 non-null  object \n",
      " 35  Scarifier                 25994 non-null   object \n",
      " 36  Tip_Control               25983 non-null   object \n",
      " 37  Tire_Size                 97638 non-null   object \n",
      " 38  Coupler                   220679 non-null  object \n",
      " 39  Coupler_System            44974 non-null   object \n",
      " 40  Grouser_Tracks            44875 non-null   object \n",
      " 41  Hydraulics_Flow           44875 non-null   object \n",
      " 42  Track_Type                102193 non-null  object \n",
      " 43  Undercarriage_Pad_Width   102916 non-null  object \n",
      " 44  Stick_Length              102261 non-null  object \n",
      " 45  Thumb                     102332 non-null  object \n",
      " 46  Pattern_Changer           102261 non-null  object \n",
      " 47  Grouser_Type              102193 non-null  object \n",
      " 48  Backhoe_Mounting          80712 non-null   object \n",
      " 49  Blade_Type                81875 non-null   object \n",
      " 50  Travel_Controls           81877 non-null   object \n",
      " 51  Differential_Type         71564 non-null   object \n",
      " 52  Steering_Controls         71522 non-null   object \n",
      "dtypes: float64(3), int64(5), object(45)\n",
      "memory usage: 166.9+ MB\n"
     ]
    }
   ],
   "source": [
    "df.info()"
   ]
  },
  {
   "cell_type": "code",
   "execution_count": 39,
   "id": "7d10405f-d1b5-45bd-a155-e3d8fcda14ff",
   "metadata": {},
   "outputs": [
    {
     "data": {
      "text/plain": [
       "True"
      ]
     },
     "execution_count": 39,
     "metadata": {},
     "output_type": "execute_result"
    }
   ],
   "source": [
    "pd.api.types.is_object_dtype(df.saledate)"
   ]
  },
  {
   "cell_type": "code",
   "execution_count": 40,
   "id": "34311663-3382-4617-b6d9-dd14920060f4",
   "metadata": {},
   "outputs": [],
   "source": [
    "for col_name, content in df.items():\n",
    "    if pd.api.types.is_object_dtype(content):\n",
    "        df[col_name] = content.astype(\"category\")\n",
    "    "
   ]
  },
  {
   "cell_type": "code",
   "execution_count": 41,
   "id": "d45bd337-2480-4d47-91fc-96f83b59dc8c",
   "metadata": {},
   "outputs": [
    {
     "name": "stdout",
     "output_type": "stream",
     "text": [
      "<class 'pandas.core.frame.DataFrame'>\n",
      "RangeIndex: 412698 entries, 0 to 412697\n",
      "Data columns (total 53 columns):\n",
      " #   Column                    Non-Null Count   Dtype   \n",
      "---  ------                    --------------   -----   \n",
      " 0   SalesID                   412698 non-null  int64   \n",
      " 1   SalePrice                 412698 non-null  float64 \n",
      " 2   MachineID                 412698 non-null  int64   \n",
      " 3   ModelID                   412698 non-null  int64   \n",
      " 4   datasource                412698 non-null  int64   \n",
      " 5   auctioneerID              392562 non-null  float64 \n",
      " 6   YearMade                  412698 non-null  int64   \n",
      " 7   MachineHoursCurrentMeter  147504 non-null  float64 \n",
      " 8   UsageBand                 73670 non-null   category\n",
      " 9   saledate                  412698 non-null  category\n",
      " 10  fiModelDesc               412698 non-null  category\n",
      " 11  fiBaseModel               412698 non-null  category\n",
      " 12  fiSecondaryDesc           271971 non-null  category\n",
      " 13  fiModelSeries             58667 non-null   category\n",
      " 14  fiModelDescriptor         74816 non-null   category\n",
      " 15  ProductSize               196093 non-null  category\n",
      " 16  fiProductClassDesc        412698 non-null  category\n",
      " 17  state                     412698 non-null  category\n",
      " 18  ProductGroup              412698 non-null  category\n",
      " 19  ProductGroupDesc          412698 non-null  category\n",
      " 20  Drive_System              107087 non-null  category\n",
      " 21  Enclosure                 412364 non-null  category\n",
      " 22  Forks                     197715 non-null  category\n",
      " 23  Pad_Type                  81096 non-null   category\n",
      " 24  Ride_Control              152728 non-null  category\n",
      " 25  Stick                     81096 non-null   category\n",
      " 26  Transmission              188007 non-null  category\n",
      " 27  Turbocharged              81096 non-null   category\n",
      " 28  Blade_Extension           25983 non-null   category\n",
      " 29  Blade_Width               25983 non-null   category\n",
      " 30  Enclosure_Type            25983 non-null   category\n",
      " 31  Engine_Horsepower         25983 non-null   category\n",
      " 32  Hydraulics                330133 non-null  category\n",
      " 33  Pushblock                 25983 non-null   category\n",
      " 34  Ripper                    106945 non-null  category\n",
      " 35  Scarifier                 25994 non-null   category\n",
      " 36  Tip_Control               25983 non-null   category\n",
      " 37  Tire_Size                 97638 non-null   category\n",
      " 38  Coupler                   220679 non-null  category\n",
      " 39  Coupler_System            44974 non-null   category\n",
      " 40  Grouser_Tracks            44875 non-null   category\n",
      " 41  Hydraulics_Flow           44875 non-null   category\n",
      " 42  Track_Type                102193 non-null  category\n",
      " 43  Undercarriage_Pad_Width   102916 non-null  category\n",
      " 44  Stick_Length              102261 non-null  category\n",
      " 45  Thumb                     102332 non-null  category\n",
      " 46  Pattern_Changer           102261 non-null  category\n",
      " 47  Grouser_Type              102193 non-null  category\n",
      " 48  Backhoe_Mounting          80712 non-null   category\n",
      " 49  Blade_Type                81875 non-null   category\n",
      " 50  Travel_Controls           81877 non-null   category\n",
      " 51  Differential_Type         71564 non-null   category\n",
      " 52  Steering_Controls         71522 non-null   category\n",
      "dtypes: category(45), float64(3), int64(5)\n",
      "memory usage: 45.7 MB\n"
     ]
    }
   ],
   "source": [
    "df.info()"
   ]
  },
  {
   "cell_type": "code",
   "execution_count": 42,
   "id": "a3091ec4-69ce-4e2d-b1cd-aa724cb833a7",
   "metadata": {},
   "outputs": [
    {
     "data": {
      "text/plain": [
       "Index(['Limited Slip', 'Locking', 'No Spin', 'Standard'], dtype='object')"
      ]
     },
     "execution_count": 42,
     "metadata": {},
     "output_type": "execute_result"
    }
   ],
   "source": [
    "df.Differential_Type.cat.categories"
   ]
  },
  {
   "cell_type": "code",
   "execution_count": 43,
   "id": "2a5e17fc-1cd2-47e4-b90a-a88794d6d638",
   "metadata": {},
   "outputs": [
    {
     "data": {
      "text/plain": [
       "(array([-1,  0,  1,  2,  3], dtype=int8),\n",
       " array([341134,   1181,      2,    212,  70169], dtype=int64))"
      ]
     },
     "execution_count": 43,
     "metadata": {},
     "output_type": "execute_result"
    }
   ],
   "source": [
    "np.unique(df.Differential_Type.cat.codes,  return_counts = True)"
   ]
  },
  {
   "cell_type": "markdown",
   "id": "d0899cb0-b4bf-4bb8-af5d-02866e68dc2f",
   "metadata": {},
   "source": [
    "## NA değerleri doldurmak yerine bu Na değerleri girilmemiş veri olarak kategorize etmeye çalışacağız."
   ]
  },
  {
   "cell_type": "code",
   "execution_count": 44,
   "id": "dbffc624-d1a6-4086-8929-d1091be8e43e",
   "metadata": {},
   "outputs": [
    {
     "name": "stderr",
     "output_type": "stream",
     "text": [
      "C:\\Users\\Hefes\\AppData\\Local\\Temp\\ipykernel_17064\\1118601544.py:2: DeprecationWarning: is_categorical_dtype is deprecated and will be removed in a future version. Use isinstance(dtype, pd.CategoricalDtype) instead\n",
      "  if pd.api.types.is_categorical_dtype(content):\n"
     ]
    }
   ],
   "source": [
    "for col_name, content in df.items():\n",
    "    if pd.api.types.is_categorical_dtype(content):\n",
    "        df[col_name] = content.cat.codes"
   ]
  },
  {
   "cell_type": "code",
   "execution_count": 45,
   "id": "f716d8ca-af2e-495f-a5cd-e5393e22dca6",
   "metadata": {},
   "outputs": [
    {
     "name": "stdout",
     "output_type": "stream",
     "text": [
      "<class 'pandas.core.frame.DataFrame'>\n",
      "RangeIndex: 412698 entries, 0 to 412697\n",
      "Data columns (total 53 columns):\n",
      " #   Column                    Non-Null Count   Dtype  \n",
      "---  ------                    --------------   -----  \n",
      " 0   SalesID                   412698 non-null  int64  \n",
      " 1   SalePrice                 412698 non-null  float64\n",
      " 2   MachineID                 412698 non-null  int64  \n",
      " 3   ModelID                   412698 non-null  int64  \n",
      " 4   datasource                412698 non-null  int64  \n",
      " 5   auctioneerID              392562 non-null  float64\n",
      " 6   YearMade                  412698 non-null  int64  \n",
      " 7   MachineHoursCurrentMeter  147504 non-null  float64\n",
      " 8   UsageBand                 412698 non-null  int8   \n",
      " 9   saledate                  412698 non-null  int16  \n",
      " 10  fiModelDesc               412698 non-null  int16  \n",
      " 11  fiBaseModel               412698 non-null  int16  \n",
      " 12  fiSecondaryDesc           412698 non-null  int16  \n",
      " 13  fiModelSeries             412698 non-null  int16  \n",
      " 14  fiModelDescriptor         412698 non-null  int16  \n",
      " 15  ProductSize               412698 non-null  int8   \n",
      " 16  fiProductClassDesc        412698 non-null  int8   \n",
      " 17  state                     412698 non-null  int8   \n",
      " 18  ProductGroup              412698 non-null  int8   \n",
      " 19  ProductGroupDesc          412698 non-null  int8   \n",
      " 20  Drive_System              412698 non-null  int8   \n",
      " 21  Enclosure                 412698 non-null  int8   \n",
      " 22  Forks                     412698 non-null  int8   \n",
      " 23  Pad_Type                  412698 non-null  int8   \n",
      " 24  Ride_Control              412698 non-null  int8   \n",
      " 25  Stick                     412698 non-null  int8   \n",
      " 26  Transmission              412698 non-null  int8   \n",
      " 27  Turbocharged              412698 non-null  int8   \n",
      " 28  Blade_Extension           412698 non-null  int8   \n",
      " 29  Blade_Width               412698 non-null  int8   \n",
      " 30  Enclosure_Type            412698 non-null  int8   \n",
      " 31  Engine_Horsepower         412698 non-null  int8   \n",
      " 32  Hydraulics                412698 non-null  int8   \n",
      " 33  Pushblock                 412698 non-null  int8   \n",
      " 34  Ripper                    412698 non-null  int8   \n",
      " 35  Scarifier                 412698 non-null  int8   \n",
      " 36  Tip_Control               412698 non-null  int8   \n",
      " 37  Tire_Size                 412698 non-null  int8   \n",
      " 38  Coupler                   412698 non-null  int8   \n",
      " 39  Coupler_System            412698 non-null  int8   \n",
      " 40  Grouser_Tracks            412698 non-null  int8   \n",
      " 41  Hydraulics_Flow           412698 non-null  int8   \n",
      " 42  Track_Type                412698 non-null  int8   \n",
      " 43  Undercarriage_Pad_Width   412698 non-null  int8   \n",
      " 44  Stick_Length              412698 non-null  int8   \n",
      " 45  Thumb                     412698 non-null  int8   \n",
      " 46  Pattern_Changer           412698 non-null  int8   \n",
      " 47  Grouser_Type              412698 non-null  int8   \n",
      " 48  Backhoe_Mounting          412698 non-null  int8   \n",
      " 49  Blade_Type                412698 non-null  int8   \n",
      " 50  Travel_Controls           412698 non-null  int8   \n",
      " 51  Differential_Type         412698 non-null  int8   \n",
      " 52  Steering_Controls         412698 non-null  int8   \n",
      "dtypes: float64(3), int16(6), int64(5), int8(39)\n",
      "memory usage: 45.3 MB\n"
     ]
    }
   ],
   "source": [
    "df.info()"
   ]
  },
  {
   "cell_type": "code",
   "execution_count": 46,
   "id": "9046ff63-7f5a-4e44-9ac5-740fac4c714b",
   "metadata": {},
   "outputs": [],
   "source": [
    "df.sort_values(by = \"saledate\", inplace= True)"
   ]
  },
  {
   "cell_type": "code",
   "execution_count": 48,
   "id": "bb5e8919-510c-4f98-9987-4616cc893ea4",
   "metadata": {},
   "outputs": [
    {
     "data": {
      "text/plain": [
       "405675       0\n",
       "268962       1\n",
       "221519       1\n",
       "283617       1\n",
       "122970       1\n",
       "          ... \n",
       "19497     4011\n",
       "103424    4011\n",
       "19280     4011\n",
       "19335     4011\n",
       "22602     4012\n",
       "Name: saledate, Length: 412698, dtype: int16"
      ]
     },
     "execution_count": 48,
     "metadata": {},
     "output_type": "execute_result"
    }
   ],
   "source": [
    "df.saledate"
   ]
  },
  {
   "cell_type": "code",
   "execution_count": 57,
   "id": "1e94bd75-83b4-46a3-9b58-c54cf6079801",
   "metadata": {},
   "outputs": [],
   "source": [
    "df['saledate'] = pd.to_datetime(df['saledate'], errors='coerce')\n"
   ]
  },
  {
   "cell_type": "code",
   "execution_count": 59,
   "id": "c3f1dc0d-08bd-4688-8c80-240ed8883639",
   "metadata": {},
   "outputs": [
    {
     "data": {
      "text/plain": [
       "<bound method Series.sort_values of 0        2006-11-16\n",
       "1        2004-03-26\n",
       "2        2004-02-26\n",
       "3        2011-05-19\n",
       "4        2009-07-23\n",
       "            ...    \n",
       "412693   2012-03-07\n",
       "412694   2012-01-28\n",
       "412695   2012-01-28\n",
       "412696   2012-03-07\n",
       "412697   2012-01-28\n",
       "Name: saledate, Length: 412698, dtype: datetime64[ns]>"
      ]
     },
     "execution_count": 59,
     "metadata": {},
     "output_type": "execute_result"
    }
   ],
   "source": [
    "df.saledate.sort_values"
   ]
  },
  {
   "cell_type": "code",
   "execution_count": null,
   "id": "cb428200-c803-4427-a26b-4cd7d79aac93",
   "metadata": {},
   "outputs": [],
   "source": []
  }
 ],
 "metadata": {
  "kernelspec": {
   "display_name": "Python 3 (ipykernel)",
   "language": "python",
   "name": "python3"
  },
  "language_info": {
   "codemirror_mode": {
    "name": "ipython",
    "version": 3
   },
   "file_extension": ".py",
   "mimetype": "text/x-python",
   "name": "python",
   "nbconvert_exporter": "python",
   "pygments_lexer": "ipython3",
   "version": "3.12.4"
  }
 },
 "nbformat": 4,
 "nbformat_minor": 5
}
