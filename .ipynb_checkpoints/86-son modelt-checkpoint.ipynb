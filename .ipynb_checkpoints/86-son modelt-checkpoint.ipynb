{
 "cells": [
  {
   "cell_type": "markdown",
   "id": "55368dbe-f7ee-449c-a3a2-ed93ffb84bff",
   "metadata": {},
   "source": [
    "### Analysis Content\n",
    "* 1.Data Information\n",
    "* 2.Goal\n",
    "* 3.Features\n",
    "* 3.a.Target Variable\n",
    "* 4.Data Loading and Initial Overview\n",
    "* 5.Preparing Of The Data For Model\n",
    "* 5.a.Dropping Customer Id Column\n",
    "* 5.b.Converting Binary System Of The Target Column\n",
    "* 5.c.Converting Ordinal Type Of The Loan Grade Column\n",
    "* 5.d.Converting Integer Value Of The Customer Income Column\n",
    "* 5.e.Converting Integer Value Of The Loan Amount Column\n",
    "* 6.Filling Missing Values In The Dataset\n",
    "* 6.a.Removing Missing Value Of The Loan Amount Column\n",
    "* 6.b.Filling NA Values Of The Historical Default Column\n",
    "* 6.c.Filling Missing Values Of The Employement Duration Column\n",
    "* 6.d.Filling Missing Values Of The Loan In Rate Column\n",
    "* 6.e.Dropping Missing Values Of the Current Loan Status Column\n",
    "* 7.Model Building\n",
    "* 7.a.Preparing DataFrame Before Modelling\n",
    "* 7.b.Converting Binary Type Of The Categorical Values\n",
    "* 7.c.Splitting Test-Train Data Standardization\n",
    "* 7.d.Generate Model\n",
    "* 7.e.According To Accuracy Comparison Of Models\n",
    "* 7.e.a.Remodelling With Best Model (GradientBoostingClassifier)\n",
    "* 7.e.b.Display Confusion Matrix (GradientBoostingClassifier)\n",
    "* 7.e.c.Display Classification Report (GradientBoostingClassifier)\n",
    "* 7.e.d.Display ROC Curve (GradientBoostingClassifier)\n",
    "* 7.e.e.Remodelling With Top Models (XGBoost)\n",
    "* 7.e.f.Display Confusion Matrix (XGBoost)\n",
    "* 7.e.g.Display Classification Report (XGBoost)\n",
    "* 7.e.h.Remodelling With Top Model (RandomForestClassifier)\n",
    "* 7.e.i.Display Confusion Matrix (RandomForestClassifier)\n",
    "* 7.e.j.Display Classification Report (RandomForestClassifier)\n",
    "* 7.f.Interpreting Consequences\n",
    "* 8.Treshold Optimization (GradientBoostingClassifier)\n",
    "* 8.a.Customer Policy Analysis\n",
    "* 8.b.Conclusion and Comment"
   ]
  },
  {
   "cell_type": "markdown",
   "id": "0f8accf3-feb2-41a4-8588-61b39e28f646",
   "metadata": {},
   "source": [
    "### özet\n",
    "\n",
    "veri analizinden önceki adımlarda  object tipindeki sayısal verilerin dönüşmü yapılmıştır.\n",
    "ordinal veri tipinin durumu dataset informationda belirtilmemiş olsa da, bu durumda veri seti analizi yapılarak hangi değerin neye karşılık geldiğinin analizi yapılarak ordinal dönüşümü yapıılmıştır.\n",
    "missing value  işlemlerinde çokdüşük olan eksik veriler  silinmiştir. bununla birlikte her eksik veri içeren kolona ayrı yöntemlerle doldurlma işlemi yapıılmıştır.\n",
    "aykırı veriler incelenmiştir burada gerçekten yanlış veri girildiği düşünülen kolonlara işlem yapılmıştır. \n",
    "NeighborsClassifier\n",
    "RandomForestClassifier\n",
    "GradientBoostingClassifier\n",
    "LogisticRegression\n",
    "XGBClassifier modelleri dataset üzerinde GridSearch CV \n",
    "yöntemş kullanılarak denenmiş sonrasında bu modellerin yorumlanması yapılmıştır. en iyi model seçilmiş, bu model kullanılarak\n",
    "mevcut durum ile bankanın müşteri politikasını analiz etmek maksadıyla verisetindeki ortalama değerleri kullanarak kar zarar analizi yapılmıştır."
   ]
  },
  {
   "cell_type": "markdown",
   "id": "d8363c54",
   "metadata": {},
   "source": [
    "## 1. Data Information\n",
    "\n",
    "Loan Default Prediction Dataset This dataset contains information about customer loans, including customer demographics, loan details, and default status. The dataset can be used for various data analysis and machine learning tasks, such as predicting loan default risk. https://www.kaggle.com/datasets/prakashraushan/loan-dataset/data"
   ]
  },
  {
   "cell_type": "markdown",
   "id": "e9e553c8-ec9c-40a3-8137-3b9db7993f89",
   "metadata": {},
   "source": [
    "  ## 2. Goal\n",
    "\n",
    "* Building a machine learning model to predict DEFAULT and NO DEFAULT states based on Current_loan_status variable in the data set. \n",
    "\n",
    "\n",
    "* Examining the bank's profit situation in case the customer gives a loan considering the risk of default or rejects the customer's loan request.(customer policy analysis)"
   ]
  },
  {
   "cell_type": "markdown",
   "id": "9c29f525",
   "metadata": {},
   "source": [
    "## 3. Features\n",
    "\n",
    "* customer_id: Unique identifier for each customer \n",
    "* customer_age: Age of the customer\n",
    "* customer_income: Annual income of the customer \n",
    "* home_ownership: Home ownership status (e.g., RENT, OWN, MORTGAGE)\n",
    "* employment_duration: Duration of employment in months\n",
    "* loan_intent: Purpose of the loan (e.g., PERSONAL, EDUCATION, MEDICAL, VENTURE)\n",
    "* loan_grade: Grade assigned to the loan\n",
    "* loan_amnt: Loan amount requested\n",
    "* loan_int_rate: Interest rate of the loan\n",
    "* term_years: Loan term in years\n",
    "* historical_default: Indicates if the customer has a history of default (Y/N)\n",
    "* cred_hist_length: Length of the customer's credit history in years\n",
    "* Current_loan_status: Current status of the loan (DEFAULT, NO DEFAULT)"
   ]
  },
  {
   "cell_type": "markdown",
   "id": "dcbc1530-757e-4be4-99ab-b383b2754169",
   "metadata": {},
   "source": [
    "### 3.a. Targed Variable\n",
    "\n",
    "\"Current_loan_status\": This field indicates the current status of the debt.\n",
    "\n",
    "DEFAULT class: This value indicates that the customer either has not made the loan repayments or has problems with their payments.\n",
    "This could mean that the debt is not paid in full or there is a significant delay in payments.\n",
    "\n",
    "NO DEFAULT class: The debtor has paid his debt on time or there is no problem in paying the debt."
   ]
  },
  {
   "cell_type": "markdown",
   "id": "50aadfaa-87bb-45df-a763-10d3dfd8b19c",
   "metadata": {},
   "source": [
    "## 4. Data Loading and Initial Overview"
   ]
  },
  {
   "cell_type": "code",
   "execution_count": 314,
   "id": "7b8ca113",
   "metadata": {},
   "outputs": [],
   "source": [
    "# Import necessary libraries\n",
    "\n",
    "import pandas as pd\n",
    "import numpy as np\n",
    "import seaborn as sns\n",
    "import matplotlib.pyplot as plt\n",
    "from sklearn.preprocessing import StandardScaler\n",
    "from sklearn.model_selection import train_test_split\n",
    "from sklearn.neighbors import KNeighborsClassifier\n",
    "from sklearn.tree import DecisionTreeClassifier\n",
    "from sklearn.ensemble import RandomForestClassifier\n",
    "from sklearn.ensemble import BaggingClassifier\n",
    "from sklearn.ensemble import GradientBoostingClassifier\n",
    "from sklearn.ensemble import AdaBoostClassifier\n",
    "from sklearn.linear_model import LogisticRegression\n",
    "from xgboost import XGBClassifier\n",
    "from sklearn.pipeline import Pipeline\n",
    "from sklearn.model_selection import GridSearchCV\n",
    "from sklearn.model_selection import RandomizedSearchCV\n",
    "from sklearn.model_selection import StratifiedKFold\n",
    "from sklearn.metrics import confusion_matrix, ConfusionMatrixDisplay\n",
    "from sklearn.metrics import roc_auc_score, roc_curve, f1_score, classification_report\n",
    "\n",
    "\n",
    "ignore all warnings\n",
    "import warnings\n",
    "warnings.simplefilter(\"ignore\")\n"
   ]
  },
  {
   "cell_type": "code",
   "execution_count": 3,
   "id": "ad28aaa9",
   "metadata": {},
   "outputs": [],
   "source": [
    "# Load the dataset\n",
    "\n",
    "df = pd.read_csv(\"LoanDataset.csv\")"
   ]
  },
  {
   "cell_type": "code",
   "execution_count": 4,
   "id": "93632c8e",
   "metadata": {},
   "outputs": [
    {
     "data": {
      "text/html": [
       "<div>\n",
       "<style scoped>\n",
       "    .dataframe tbody tr th:only-of-type {\n",
       "        vertical-align: middle;\n",
       "    }\n",
       "\n",
       "    .dataframe tbody tr th {\n",
       "        vertical-align: top;\n",
       "    }\n",
       "\n",
       "    .dataframe thead th {\n",
       "        text-align: right;\n",
       "    }\n",
       "</style>\n",
       "<table border=\"1\" class=\"dataframe\">\n",
       "  <thead>\n",
       "    <tr style=\"text-align: right;\">\n",
       "      <th></th>\n",
       "      <th>customer_id</th>\n",
       "      <th>customer_age</th>\n",
       "      <th>customer_income</th>\n",
       "      <th>home_ownership</th>\n",
       "      <th>employment_duration</th>\n",
       "      <th>loan_intent</th>\n",
       "      <th>loan_grade</th>\n",
       "      <th>loan_amnt</th>\n",
       "      <th>loan_int_rate</th>\n",
       "      <th>term_years</th>\n",
       "      <th>historical_default</th>\n",
       "      <th>cred_hist_length</th>\n",
       "      <th>Current_loan_status</th>\n",
       "    </tr>\n",
       "  </thead>\n",
       "  <tbody>\n",
       "    <tr>\n",
       "      <th>0</th>\n",
       "      <td>1.0</td>\n",
       "      <td>22</td>\n",
       "      <td>59000</td>\n",
       "      <td>RENT</td>\n",
       "      <td>123.0</td>\n",
       "      <td>PERSONAL</td>\n",
       "      <td>C</td>\n",
       "      <td>£35,000.00</td>\n",
       "      <td>16.02</td>\n",
       "      <td>10</td>\n",
       "      <td>Y</td>\n",
       "      <td>3</td>\n",
       "      <td>DEFAULT</td>\n",
       "    </tr>\n",
       "    <tr>\n",
       "      <th>1</th>\n",
       "      <td>2.0</td>\n",
       "      <td>21</td>\n",
       "      <td>9600</td>\n",
       "      <td>OWN</td>\n",
       "      <td>5.0</td>\n",
       "      <td>EDUCATION</td>\n",
       "      <td>A</td>\n",
       "      <td>£1,000.00</td>\n",
       "      <td>11.14</td>\n",
       "      <td>1</td>\n",
       "      <td>NaN</td>\n",
       "      <td>2</td>\n",
       "      <td>NO DEFAULT</td>\n",
       "    </tr>\n",
       "    <tr>\n",
       "      <th>2</th>\n",
       "      <td>3.0</td>\n",
       "      <td>25</td>\n",
       "      <td>9600</td>\n",
       "      <td>MORTGAGE</td>\n",
       "      <td>1.0</td>\n",
       "      <td>MEDICAL</td>\n",
       "      <td>B</td>\n",
       "      <td>£5,500.00</td>\n",
       "      <td>12.87</td>\n",
       "      <td>5</td>\n",
       "      <td>N</td>\n",
       "      <td>3</td>\n",
       "      <td>DEFAULT</td>\n",
       "    </tr>\n",
       "    <tr>\n",
       "      <th>3</th>\n",
       "      <td>4.0</td>\n",
       "      <td>23</td>\n",
       "      <td>65500</td>\n",
       "      <td>RENT</td>\n",
       "      <td>4.0</td>\n",
       "      <td>MEDICAL</td>\n",
       "      <td>B</td>\n",
       "      <td>£35,000.00</td>\n",
       "      <td>15.23</td>\n",
       "      <td>10</td>\n",
       "      <td>N</td>\n",
       "      <td>2</td>\n",
       "      <td>DEFAULT</td>\n",
       "    </tr>\n",
       "    <tr>\n",
       "      <th>4</th>\n",
       "      <td>5.0</td>\n",
       "      <td>24</td>\n",
       "      <td>54400</td>\n",
       "      <td>RENT</td>\n",
       "      <td>8.0</td>\n",
       "      <td>MEDICAL</td>\n",
       "      <td>B</td>\n",
       "      <td>£35,000.00</td>\n",
       "      <td>14.27</td>\n",
       "      <td>10</td>\n",
       "      <td>Y</td>\n",
       "      <td>4</td>\n",
       "      <td>DEFAULT</td>\n",
       "    </tr>\n",
       "  </tbody>\n",
       "</table>\n",
       "</div>"
      ],
      "text/plain": [
       "   customer_id  customer_age customer_income home_ownership  \\\n",
       "0          1.0            22           59000           RENT   \n",
       "1          2.0            21            9600            OWN   \n",
       "2          3.0            25            9600       MORTGAGE   \n",
       "3          4.0            23           65500           RENT   \n",
       "4          5.0            24           54400           RENT   \n",
       "\n",
       "   employment_duration loan_intent loan_grade   loan_amnt  loan_int_rate  \\\n",
       "0                123.0    PERSONAL          C  £35,000.00          16.02   \n",
       "1                  5.0   EDUCATION          A   £1,000.00          11.14   \n",
       "2                  1.0     MEDICAL          B   £5,500.00          12.87   \n",
       "3                  4.0     MEDICAL          B  £35,000.00          15.23   \n",
       "4                  8.0     MEDICAL          B  £35,000.00          14.27   \n",
       "\n",
       "   term_years historical_default  cred_hist_length Current_loan_status  \n",
       "0          10                  Y                 3             DEFAULT  \n",
       "1           1                NaN                 2          NO DEFAULT  \n",
       "2           5                  N                 3             DEFAULT  \n",
       "3          10                  N                 2             DEFAULT  \n",
       "4          10                  Y                 4             DEFAULT  "
      ]
     },
     "execution_count": 4,
     "metadata": {},
     "output_type": "execute_result"
    }
   ],
   "source": [
    "# Display the first 5 rows of the dataset\n",
    "\n",
    "df.head()"
   ]
  },
  {
   "cell_type": "code",
   "execution_count": 5,
   "id": "3670e1ea-0d23-43d6-a4fc-dbec10674f01",
   "metadata": {},
   "outputs": [
    {
     "name": "stdout",
     "output_type": "stream",
     "text": [
      "<class 'pandas.core.frame.DataFrame'>\n",
      "RangeIndex: 32586 entries, 0 to 32585\n",
      "Data columns (total 13 columns):\n",
      " #   Column               Non-Null Count  Dtype  \n",
      "---  ------               --------------  -----  \n",
      " 0   customer_id          32583 non-null  float64\n",
      " 1   customer_age         32586 non-null  int64  \n",
      " 2   customer_income      32586 non-null  object \n",
      " 3   home_ownership       32586 non-null  object \n",
      " 4   employment_duration  31691 non-null  float64\n",
      " 5   loan_intent          32586 non-null  object \n",
      " 6   loan_grade           32586 non-null  object \n",
      " 7   loan_amnt            32585 non-null  object \n",
      " 8   loan_int_rate        29470 non-null  float64\n",
      " 9   term_years           32586 non-null  int64  \n",
      " 10  historical_default   11849 non-null  object \n",
      " 11  cred_hist_length     32586 non-null  int64  \n",
      " 12  Current_loan_status  32582 non-null  object \n",
      "dtypes: float64(3), int64(3), object(7)\n",
      "memory usage: 3.2+ MB\n"
     ]
    }
   ],
   "source": [
    "# Get a summary of the dataset\n",
    "\n",
    "df.info()"
   ]
  },
  {
   "cell_type": "markdown",
   "id": "d3c86bc5-9469-469e-ba08-81548c78f6c1",
   "metadata": {},
   "source": [
    "## 5. Preparing Of The Data For Model"
   ]
  },
  {
   "cell_type": "markdown",
   "id": "292a205f-ad6f-458a-bf56-558ac5b396e2",
   "metadata": {},
   "source": [
    "## 5.a. Dropping Customer Id Column"
   ]
  },
  {
   "cell_type": "code",
   "execution_count": 6,
   "id": "dceac7b7",
   "metadata": {},
   "outputs": [
    {
     "data": {
      "text/html": [
       "<div>\n",
       "<style scoped>\n",
       "    .dataframe tbody tr th:only-of-type {\n",
       "        vertical-align: middle;\n",
       "    }\n",
       "\n",
       "    .dataframe tbody tr th {\n",
       "        vertical-align: top;\n",
       "    }\n",
       "\n",
       "    .dataframe thead th {\n",
       "        text-align: right;\n",
       "    }\n",
       "</style>\n",
       "<table border=\"1\" class=\"dataframe\">\n",
       "  <thead>\n",
       "    <tr style=\"text-align: right;\">\n",
       "      <th></th>\n",
       "      <th>customer_age</th>\n",
       "      <th>customer_income</th>\n",
       "      <th>home_ownership</th>\n",
       "      <th>employment_duration</th>\n",
       "      <th>loan_intent</th>\n",
       "      <th>loan_grade</th>\n",
       "      <th>loan_amnt</th>\n",
       "      <th>loan_int_rate</th>\n",
       "      <th>term_years</th>\n",
       "      <th>historical_default</th>\n",
       "      <th>cred_hist_length</th>\n",
       "      <th>Current_loan_status</th>\n",
       "    </tr>\n",
       "  </thead>\n",
       "  <tbody>\n",
       "    <tr>\n",
       "      <th>0</th>\n",
       "      <td>22</td>\n",
       "      <td>59000</td>\n",
       "      <td>RENT</td>\n",
       "      <td>123.0</td>\n",
       "      <td>PERSONAL</td>\n",
       "      <td>C</td>\n",
       "      <td>£35,000.00</td>\n",
       "      <td>16.02</td>\n",
       "      <td>10</td>\n",
       "      <td>Y</td>\n",
       "      <td>3</td>\n",
       "      <td>DEFAULT</td>\n",
       "    </tr>\n",
       "    <tr>\n",
       "      <th>1</th>\n",
       "      <td>21</td>\n",
       "      <td>9600</td>\n",
       "      <td>OWN</td>\n",
       "      <td>5.0</td>\n",
       "      <td>EDUCATION</td>\n",
       "      <td>A</td>\n",
       "      <td>£1,000.00</td>\n",
       "      <td>11.14</td>\n",
       "      <td>1</td>\n",
       "      <td>NaN</td>\n",
       "      <td>2</td>\n",
       "      <td>NO DEFAULT</td>\n",
       "    </tr>\n",
       "    <tr>\n",
       "      <th>2</th>\n",
       "      <td>25</td>\n",
       "      <td>9600</td>\n",
       "      <td>MORTGAGE</td>\n",
       "      <td>1.0</td>\n",
       "      <td>MEDICAL</td>\n",
       "      <td>B</td>\n",
       "      <td>£5,500.00</td>\n",
       "      <td>12.87</td>\n",
       "      <td>5</td>\n",
       "      <td>N</td>\n",
       "      <td>3</td>\n",
       "      <td>DEFAULT</td>\n",
       "    </tr>\n",
       "    <tr>\n",
       "      <th>3</th>\n",
       "      <td>23</td>\n",
       "      <td>65500</td>\n",
       "      <td>RENT</td>\n",
       "      <td>4.0</td>\n",
       "      <td>MEDICAL</td>\n",
       "      <td>B</td>\n",
       "      <td>£35,000.00</td>\n",
       "      <td>15.23</td>\n",
       "      <td>10</td>\n",
       "      <td>N</td>\n",
       "      <td>2</td>\n",
       "      <td>DEFAULT</td>\n",
       "    </tr>\n",
       "    <tr>\n",
       "      <th>4</th>\n",
       "      <td>24</td>\n",
       "      <td>54400</td>\n",
       "      <td>RENT</td>\n",
       "      <td>8.0</td>\n",
       "      <td>MEDICAL</td>\n",
       "      <td>B</td>\n",
       "      <td>£35,000.00</td>\n",
       "      <td>14.27</td>\n",
       "      <td>10</td>\n",
       "      <td>Y</td>\n",
       "      <td>4</td>\n",
       "      <td>DEFAULT</td>\n",
       "    </tr>\n",
       "  </tbody>\n",
       "</table>\n",
       "</div>"
      ],
      "text/plain": [
       "   customer_age customer_income home_ownership  employment_duration  \\\n",
       "0            22           59000           RENT                123.0   \n",
       "1            21            9600            OWN                  5.0   \n",
       "2            25            9600       MORTGAGE                  1.0   \n",
       "3            23           65500           RENT                  4.0   \n",
       "4            24           54400           RENT                  8.0   \n",
       "\n",
       "  loan_intent loan_grade   loan_amnt  loan_int_rate  term_years  \\\n",
       "0    PERSONAL          C  £35,000.00          16.02          10   \n",
       "1   EDUCATION          A   £1,000.00          11.14           1   \n",
       "2     MEDICAL          B   £5,500.00          12.87           5   \n",
       "3     MEDICAL          B  £35,000.00          15.23          10   \n",
       "4     MEDICAL          B  £35,000.00          14.27          10   \n",
       "\n",
       "  historical_default  cred_hist_length Current_loan_status  \n",
       "0                  Y                 3             DEFAULT  \n",
       "1                NaN                 2          NO DEFAULT  \n",
       "2                  N                 3             DEFAULT  \n",
       "3                  N                 2             DEFAULT  \n",
       "4                  Y                 4             DEFAULT  "
      ]
     },
     "execution_count": 6,
     "metadata": {},
     "output_type": "execute_result"
    }
   ],
   "source": [
    "# Drop the \"customer_id\" column from the DataFrame\n",
    "df.drop(columns = \"customer_id\", inplace = True)\n",
    "\n",
    "# Display the first 5 rows of the dataset\n",
    "df.head()"
   ]
  },
  {
   "cell_type": "markdown",
   "id": "53cfc982-b16c-436e-af24-048a026f8d17",
   "metadata": {},
   "source": [
    "## 5.b. Converting Binary System Of The Target Column"
   ]
  },
  {
   "cell_type": "code",
   "execution_count": 7,
   "id": "72417088",
   "metadata": {},
   "outputs": [
    {
     "data": {
      "text/plain": [
       "0    1.0\n",
       "1    0.0\n",
       "2    1.0\n",
       "3    1.0\n",
       "4    1.0\n",
       "Name: Current_loan_status, dtype: float64"
      ]
     },
     "execution_count": 7,
     "metadata": {},
     "output_type": "execute_result"
    }
   ],
   "source": [
    "\n",
    "\n",
    "def binary_convert(df, col_name):\n",
    "    \n",
    "    \"\"\"\n",
    "    ##################################################################\n",
    "    \n",
    "    Converts the values of \"DEFAULT\" and \"\"DEFAULT NO\" to 1 and 0 in the specified \n",
    "    column in the given DataFrame.\n",
    "    \n",
    "    Args:\n",
    "    df (pd. DataFrame): The DataFrame to act on.\n",
    "    column_name (str): The name of the column to be transformed.\n",
    "\n",
    "    Returns:\n",
    "    Pd. DataFrame: The DataFrame to which the values are converted.\n",
    "    \n",
    "    #####################################################################\n",
    "    \"\"\"\n",
    "    # Convert categorical variables to numerical values\n",
    "    df[col_name] = df[col_name].map({\"DEFAULT\": 1 ,\"NO DEFAULT\": 0})\n",
    "    \n",
    "    return df[col_name].head()\n",
    "\n",
    "# Applying the function to the DataFrame\n",
    "binary_convert(df, \"Current_loan_status\")\n"
   ]
  },
  {
   "cell_type": "markdown",
   "id": "667d44e7-7edf-4f03-b412-9ca903a462ac",
   "metadata": {},
   "source": [
    "## 5.c. Converting Ordinal Type Of The Loan Grade Column"
   ]
  },
  {
   "cell_type": "code",
   "execution_count": 8,
   "id": "2b07354c-5adf-4f11-a0b4-361856a4aee5",
   "metadata": {},
   "outputs": [
    {
     "data": {
      "image/png": "[encoded data removed]",
      "text/plain": [
       "<Figure size 1000x600 with 1 Axes>"
      ]
     },
     "metadata": {},
     "output_type": "display_data"
    }
   ],
   "source": [
    "# Create a count plot\n",
    "plt.figure(figsize=(10, 6))\n",
    "sns.countplot(data=df, x = \"loan_grade\", hue = \"Current_loan_status\")\n",
    "plt.title(\"Loan Grade Distribution by Current Loan Status\")\n",
    "plt.xlabel(\"Loan Grade\")\n",
    "plt.ylabel(\"Count\")\n",
    "plt.show()"
   ]
  },
  {
   "cell_type": "code",
   "execution_count": 9,
   "id": "00b4d3a5",
   "metadata": {},
   "outputs": [
    {
     "data": {
      "text/plain": [
       "loan_grade\n",
       "A    15661\n",
       "B     9065\n",
       "C     4926\n",
       "D     2629\n",
       "E      305\n",
       "Name: count, dtype: int64"
      ]
     },
     "execution_count": 9,
     "metadata": {},
     "output_type": "execute_result"
    }
   ],
   "source": [
    "# Determine the number of loan grade groups\n",
    "\n",
    "df.loan_grade.value_counts()"
   ]
  },
  {
   "cell_type": "code",
   "execution_count": 10,
   "id": "fa4b4abc-f99e-4c36-b79f-4f00fb7c71ef",
   "metadata": {},
   "outputs": [
    {
     "data": {
      "text/plain": [
       "loan_grade\n",
       "A     8.557445\n",
       "B    11.788434\n",
       "C    14.235495\n",
       "D    15.959060\n",
       "E    18.964103\n",
       "Name: loan_int_rate, dtype: float64"
      ]
     },
     "execution_count": 10,
     "metadata": {},
     "output_type": "execute_result"
    }
   ],
   "source": [
    "# Determine average interest rates by groups\n",
    "\n",
    "df.groupby(\"loan_grade\")[\"loan_int_rate\"].mean()"
   ]
  },
  {
   "cell_type": "markdown",
   "id": "344a0228-6a98-410a-b105-bbc7565b682f",
   "metadata": {},
   "source": [
    "When we examine the table and the average interest rates, we observe that the system is structured as follows: \"A\": 5, \"B\": 4, \"C\": 3, \"D\": 2, \"E\": 1."
   ]
  },
  {
   "cell_type": "code",
   "execution_count": 11,
   "id": "03d8034a",
   "metadata": {},
   "outputs": [
    {
     "data": {
      "text/html": [
       "<div>\n",
       "<style scoped>\n",
       "    .dataframe tbody tr th:only-of-type {\n",
       "        vertical-align: middle;\n",
       "    }\n",
       "\n",
       "    .dataframe tbody tr th {\n",
       "        vertical-align: top;\n",
       "    }\n",
       "\n",
       "    .dataframe thead th {\n",
       "        text-align: right;\n",
       "    }\n",
       "</style>\n",
       "<table border=\"1\" class=\"dataframe\">\n",
       "  <thead>\n",
       "    <tr style=\"text-align: right;\">\n",
       "      <th></th>\n",
       "      <th>customer_age</th>\n",
       "      <th>customer_income</th>\n",
       "      <th>home_ownership</th>\n",
       "      <th>employment_duration</th>\n",
       "      <th>loan_intent</th>\n",
       "      <th>loan_grade</th>\n",
       "      <th>loan_amnt</th>\n",
       "      <th>loan_int_rate</th>\n",
       "      <th>term_years</th>\n",
       "      <th>historical_default</th>\n",
       "      <th>cred_hist_length</th>\n",
       "      <th>Current_loan_status</th>\n",
       "    </tr>\n",
       "  </thead>\n",
       "  <tbody>\n",
       "    <tr>\n",
       "      <th>0</th>\n",
       "      <td>22</td>\n",
       "      <td>59000</td>\n",
       "      <td>RENT</td>\n",
       "      <td>123.0</td>\n",
       "      <td>PERSONAL</td>\n",
       "      <td>3</td>\n",
       "      <td>£35,000.00</td>\n",
       "      <td>16.02</td>\n",
       "      <td>10</td>\n",
       "      <td>Y</td>\n",
       "      <td>3</td>\n",
       "      <td>1.0</td>\n",
       "    </tr>\n",
       "    <tr>\n",
       "      <th>1</th>\n",
       "      <td>21</td>\n",
       "      <td>9600</td>\n",
       "      <td>OWN</td>\n",
       "      <td>5.0</td>\n",
       "      <td>EDUCATION</td>\n",
       "      <td>5</td>\n",
       "      <td>£1,000.00</td>\n",
       "      <td>11.14</td>\n",
       "      <td>1</td>\n",
       "      <td>NaN</td>\n",
       "      <td>2</td>\n",
       "      <td>0.0</td>\n",
       "    </tr>\n",
       "    <tr>\n",
       "      <th>2</th>\n",
       "      <td>25</td>\n",
       "      <td>9600</td>\n",
       "      <td>MORTGAGE</td>\n",
       "      <td>1.0</td>\n",
       "      <td>MEDICAL</td>\n",
       "      <td>4</td>\n",
       "      <td>£5,500.00</td>\n",
       "      <td>12.87</td>\n",
       "      <td>5</td>\n",
       "      <td>N</td>\n",
       "      <td>3</td>\n",
       "      <td>1.0</td>\n",
       "    </tr>\n",
       "    <tr>\n",
       "      <th>3</th>\n",
       "      <td>23</td>\n",
       "      <td>65500</td>\n",
       "      <td>RENT</td>\n",
       "      <td>4.0</td>\n",
       "      <td>MEDICAL</td>\n",
       "      <td>4</td>\n",
       "      <td>£35,000.00</td>\n",
       "      <td>15.23</td>\n",
       "      <td>10</td>\n",
       "      <td>N</td>\n",
       "      <td>2</td>\n",
       "      <td>1.0</td>\n",
       "    </tr>\n",
       "    <tr>\n",
       "      <th>4</th>\n",
       "      <td>24</td>\n",
       "      <td>54400</td>\n",
       "      <td>RENT</td>\n",
       "      <td>8.0</td>\n",
       "      <td>MEDICAL</td>\n",
       "      <td>4</td>\n",
       "      <td>£35,000.00</td>\n",
       "      <td>14.27</td>\n",
       "      <td>10</td>\n",
       "      <td>Y</td>\n",
       "      <td>4</td>\n",
       "      <td>1.0</td>\n",
       "    </tr>\n",
       "  </tbody>\n",
       "</table>\n",
       "</div>"
      ],
      "text/plain": [
       "   customer_age customer_income home_ownership  employment_duration  \\\n",
       "0            22           59000           RENT                123.0   \n",
       "1            21            9600            OWN                  5.0   \n",
       "2            25            9600       MORTGAGE                  1.0   \n",
       "3            23           65500           RENT                  4.0   \n",
       "4            24           54400           RENT                  8.0   \n",
       "\n",
       "  loan_intent  loan_grade   loan_amnt  loan_int_rate  term_years  \\\n",
       "0    PERSONAL           3  £35,000.00          16.02          10   \n",
       "1   EDUCATION           5   £1,000.00          11.14           1   \n",
       "2     MEDICAL           4   £5,500.00          12.87           5   \n",
       "3     MEDICAL           4  £35,000.00          15.23          10   \n",
       "4     MEDICAL           4  £35,000.00          14.27          10   \n",
       "\n",
       "  historical_default  cred_hist_length  Current_loan_status  \n",
       "0                  Y                 3                  1.0  \n",
       "1                NaN                 2                  0.0  \n",
       "2                  N                 3                  1.0  \n",
       "3                  N                 2                  1.0  \n",
       "4                  Y                 4                  1.0  "
      ]
     },
     "execution_count": 11,
     "metadata": {},
     "output_type": "execute_result"
    }
   ],
   "source": [
    "def ordinary_convert(df, col_name):\n",
    "    \n",
    "    \"\"\"\n",
    "    ##################################################################\n",
    "    Converts the values of \"A,B,C,D,E\" to 5,4,3,2,1 in the specified \n",
    "    column in the given DataFrame.\n",
    "    \n",
    "    Args:\n",
    "    df (pd. DataFrame): The DataFrame to act on.\n",
    "    column_name (str): The name of the column to be transformed.\n",
    "\n",
    "    Returns:\n",
    "    Pd. DataFrame: The DataFrame to which the values are converted.\n",
    "    \n",
    "    ##################################################################\n",
    "    \"\"\"\n",
    "    # Convert string type values ​​to ordinary type values\n",
    "    df[col_name] = df[col_name].map({\"A\": 5, \"B\": 4, \"C\": 3, \"D\": 2, \"E\": 1})\n",
    "\n",
    "    # Return DataFrame\n",
    "    return df\n",
    "\n",
    "# Applying the function to the DataFrame\n",
    "ordinary_convert(df, \"loan_grade\").head()"
   ]
  },
  {
   "cell_type": "markdown",
   "id": "32e97a41-7ab9-43e4-a321-73506104e4ce",
   "metadata": {},
   "source": [
    "## 5.d. Converting Integer Value Of The Customer Income Column"
   ]
  },
  {
   "cell_type": "code",
   "execution_count": 12,
   "id": "4a8bfe63",
   "metadata": {},
   "outputs": [
    {
     "name": "stdout",
     "output_type": "stream",
     "text": [
      "customer_income data type:  int32\n"
     ]
    }
   ],
   "source": [
    "# Remove commas and whitespace from \"customer_income\" column\n",
    "df[\"customer_income\"] = df[\"customer_income\"].str.replace(\",\", \"\").str.strip()\n",
    "\n",
    "# Convert \"customer_income\" column to integers\n",
    "df[\"customer_income\"] = df[\"customer_income\"].astype(int)\n",
    "\n",
    "# Print the data type of \"customer_income\" column\n",
    "print(\"customer_income data type: \", df[\"customer_income\"].dtype)"
   ]
  },
  {
   "cell_type": "markdown",
   "id": "c6ec87fc-56c3-402a-9b8b-664751c9173d",
   "metadata": {},
   "source": [
    "## 5.e. Converting Integer Value Of The Loan Amount Column"
   ]
  },
  {
   "cell_type": "code",
   "execution_count": 13,
   "id": "318b35a2-fd60-4dc8-ba7e-200a4837448a",
   "metadata": {},
   "outputs": [
    {
     "name": "stdout",
     "output_type": "stream",
     "text": [
      "loan_amnt data type:  float64\n"
     ]
    }
   ],
   "source": [
    "# Remove commas and currency symbols from \"loan_amnt\" column\n",
    "df[\"loan_amnt\"] = df[\"loan_amnt\"].str.replace(\",\", \"\").str.strip(\"£\")\n",
    "\n",
    "# Convert \"loan_amnt\" column to float\n",
    "df[\"loan_amnt\"] = df[\"loan_amnt\"].astype(\"float64\")\n",
    "\n",
    "# Print the data type of \"customer_income\" column\n",
    "print(\"loan_amnt data type: \", df[\"loan_amnt\"].dtype)"
   ]
  },
  {
   "cell_type": "code",
   "execution_count": 304,
   "id": "922d486f-c4dd-43e4-9fcf-c4d050dda0ba",
   "metadata": {},
   "outputs": [
    {
     "data": {
      "image/png": "[encoded data removed]",
      "text/plain": [
       "<Figure size 640x480 with 1 Axes>"
      ]
     },
     "metadata": {},
     "output_type": "display_data"
    },
    {
     "data": {
      "image/png": "[encoded data removed]",
      "text/plain": [
       "<Figure size 640x480 with 1 Axes>"
      ]
     },
     "metadata": {},
     "output_type": "display_data"
    },
    {
     "data": {
      "image/png": "[encoded data removed]",
      "text/plain": [
       "<Figure size 640x480 with 1 Axes>"
      ]
     },
     "metadata": {},
     "output_type": "display_data"
    }
   ],
   "source": [
    "# Defining categorical columns\n",
    "cat_cols = [col for col in df.columns if df[col].dtypes == \"O\"]\n",
    "\n",
    "for i in cat_cols:\n",
    "    plt.figure()\n",
    "    sns.countplot(data = df, x = i, hue = i, palette = \"tab10\")\n",
    "    plt.title(i)\n",
    "    plt.ylabel(\"Count\")\n",
    "    plt.xticks(rotation = 45, ha = \"right\")\n",
    "    plt.tight_layout()\n",
    "    plt.show()\n",
    "    "
   ]
  },
  {
   "cell_type": "code",
   "execution_count": 384,
   "id": "68de2a83-577c-4b34-81cb-cc1868bdb2da",
   "metadata": {},
   "outputs": [
    {
     "data": {
      "text/html": [
       "<div>\n",
       "<style scoped>\n",
       "    .dataframe tbody tr th:only-of-type {\n",
       "        vertical-align: middle;\n",
       "    }\n",
       "\n",
       "    .dataframe tbody tr th {\n",
       "        vertical-align: top;\n",
       "    }\n",
       "\n",
       "    .dataframe thead th {\n",
       "        text-align: right;\n",
       "    }\n",
       "</style>\n",
       "<table border=\"1\" class=\"dataframe\">\n",
       "  <thead>\n",
       "    <tr style=\"text-align: right;\">\n",
       "      <th></th>\n",
       "      <th>count</th>\n",
       "      <th>mean</th>\n",
       "      <th>std</th>\n",
       "      <th>min</th>\n",
       "      <th>25%</th>\n",
       "      <th>50%</th>\n",
       "      <th>75%</th>\n",
       "      <th>max</th>\n",
       "    </tr>\n",
       "  </thead>\n",
       "  <tbody>\n",
       "    <tr>\n",
       "      <th>customer_age</th>\n",
       "      <td>32581.0</td>\n",
       "      <td>27.732850</td>\n",
       "      <td>6.360952</td>\n",
       "      <td>3.00</td>\n",
       "      <td>23.00</td>\n",
       "      <td>26.00</td>\n",
       "      <td>30.00</td>\n",
       "      <td>144.00</td>\n",
       "    </tr>\n",
       "    <tr>\n",
       "      <th>customer_income</th>\n",
       "      <td>32581.0</td>\n",
       "      <td>66076.536570</td>\n",
       "      <td>61984.923301</td>\n",
       "      <td>4000.00</td>\n",
       "      <td>38500.00</td>\n",
       "      <td>55000.00</td>\n",
       "      <td>79200.00</td>\n",
       "      <td>6000000.00</td>\n",
       "    </tr>\n",
       "    <tr>\n",
       "      <th>employment_duration</th>\n",
       "      <td>32581.0</td>\n",
       "      <td>4.759645</td>\n",
       "      <td>4.113509</td>\n",
       "      <td>0.00</td>\n",
       "      <td>2.00</td>\n",
       "      <td>4.00</td>\n",
       "      <td>7.00</td>\n",
       "      <td>123.00</td>\n",
       "    </tr>\n",
       "    <tr>\n",
       "      <th>loan_grade</th>\n",
       "      <td>32581.0</td>\n",
       "      <td>4.140082</td>\n",
       "      <td>1.009511</td>\n",
       "      <td>1.00</td>\n",
       "      <td>4.00</td>\n",
       "      <td>4.00</td>\n",
       "      <td>5.00</td>\n",
       "      <td>5.00</td>\n",
       "    </tr>\n",
       "    <tr>\n",
       "      <th>loan_amnt</th>\n",
       "      <td>32581.0</td>\n",
       "      <td>9756.385624</td>\n",
       "      <td>21773.170489</td>\n",
       "      <td>500.00</td>\n",
       "      <td>5000.00</td>\n",
       "      <td>8000.00</td>\n",
       "      <td>12200.00</td>\n",
       "      <td>3500000.00</td>\n",
       "    </tr>\n",
       "    <tr>\n",
       "      <th>loan_int_rate</th>\n",
       "      <td>32581.0</td>\n",
       "      <td>11.009005</td>\n",
       "      <td>3.187043</td>\n",
       "      <td>5.42</td>\n",
       "      <td>8.49</td>\n",
       "      <td>10.99</td>\n",
       "      <td>13.47</td>\n",
       "      <td>23.22</td>\n",
       "    </tr>\n",
       "    <tr>\n",
       "      <th>term_years</th>\n",
       "      <td>32581.0</td>\n",
       "      <td>4.761364</td>\n",
       "      <td>2.470958</td>\n",
       "      <td>1.00</td>\n",
       "      <td>3.00</td>\n",
       "      <td>4.00</td>\n",
       "      <td>7.00</td>\n",
       "      <td>10.00</td>\n",
       "    </tr>\n",
       "    <tr>\n",
       "      <th>cred_hist_length</th>\n",
       "      <td>32581.0</td>\n",
       "      <td>5.803843</td>\n",
       "      <td>4.055210</td>\n",
       "      <td>2.00</td>\n",
       "      <td>3.00</td>\n",
       "      <td>4.00</td>\n",
       "      <td>8.00</td>\n",
       "      <td>30.00</td>\n",
       "    </tr>\n",
       "    <tr>\n",
       "      <th>Current_loan_status</th>\n",
       "      <td>32581.0</td>\n",
       "      <td>0.209908</td>\n",
       "      <td>0.407249</td>\n",
       "      <td>0.00</td>\n",
       "      <td>0.00</td>\n",
       "      <td>0.00</td>\n",
       "      <td>0.00</td>\n",
       "      <td>1.00</td>\n",
       "    </tr>\n",
       "  </tbody>\n",
       "</table>\n",
       "</div>"
      ],
      "text/plain": [
       "                       count          mean           std      min       25%  \\\n",
       "customer_age         32581.0     27.732850      6.360952     3.00     23.00   \n",
       "customer_income      32581.0  66076.536570  61984.923301  4000.00  38500.00   \n",
       "employment_duration  32581.0      4.759645      4.113509     0.00      2.00   \n",
       "loan_grade           32581.0      4.140082      1.009511     1.00      4.00   \n",
       "loan_amnt            32581.0   9756.385624  21773.170489   500.00   5000.00   \n",
       "loan_int_rate        32581.0     11.009005      3.187043     5.42      8.49   \n",
       "term_years           32581.0      4.761364      2.470958     1.00      3.00   \n",
       "cred_hist_length     32581.0      5.803843      4.055210     2.00      3.00   \n",
       "Current_loan_status  32581.0      0.209908      0.407249     0.00      0.00   \n",
       "\n",
       "                          50%       75%         max  \n",
       "customer_age            26.00     30.00      144.00  \n",
       "customer_income      55000.00  79200.00  6000000.00  \n",
       "employment_duration      4.00      7.00      123.00  \n",
       "loan_grade               4.00      5.00        5.00  \n",
       "loan_amnt             8000.00  12200.00  3500000.00  \n",
       "loan_int_rate           10.99     13.47       23.22  \n",
       "term_years               4.00      7.00       10.00  \n",
       "cred_hist_length         4.00      8.00       30.00  \n",
       "Current_loan_status      0.00      0.00        1.00  "
      ]
     },
     "execution_count": 384,
     "metadata": {},
     "output_type": "execute_result"
    }
   ],
   "source": [
    "# Summary statistics of numerical data\n",
    "\n",
    "df.describe().T"
   ]
  },
  {
   "cell_type": "markdown",
   "id": "22a1c5fe-1d0f-4289-bc42-95b9c8cef102",
   "metadata": {},
   "source": [
    "Anormal Values:\n",
    "\n",
    "customer_age:\n",
    "\n",
    "Values such as 144 years are unusually high. Such values are often due to data entry errors.\n",
    "\n",
    "customer_income:\n",
    "\n",
    "Values like 6,000,000 are anomalously high. These values are typically due to data entry errors or outliers.\n",
    "\n",
    "\n",
    "employment_duration:\n",
    "\n",
    "A duration of 123 years is unrealistically long. A realistic employment duration cannot be this extensive.\n",
    "\n"
   ]
  },
  {
   "cell_type": "code",
   "execution_count": 387,
   "id": "b6c2605c-3db1-46e9-93dc-41c9897b743c",
   "metadata": {
    "scrolled": true
   },
   "outputs": [
    {
     "data": {
      "text/html": [
       "<div>\n",
       "<style scoped>\n",
       "    .dataframe tbody tr th:only-of-type {\n",
       "        vertical-align: middle;\n",
       "    }\n",
       "\n",
       "    .dataframe tbody tr th {\n",
       "        vertical-align: top;\n",
       "    }\n",
       "\n",
       "    .dataframe thead th {\n",
       "        text-align: right;\n",
       "    }\n",
       "</style>\n",
       "<table border=\"1\" class=\"dataframe\">\n",
       "  <thead>\n",
       "    <tr style=\"text-align: right;\">\n",
       "      <th></th>\n",
       "      <th>customer_age</th>\n",
       "      <th>customer_income</th>\n",
       "      <th>home_ownership</th>\n",
       "      <th>employment_duration</th>\n",
       "      <th>loan_intent</th>\n",
       "      <th>loan_grade</th>\n",
       "      <th>loan_amnt</th>\n",
       "      <th>loan_int_rate</th>\n",
       "      <th>term_years</th>\n",
       "      <th>historical_default</th>\n",
       "      <th>cred_hist_length</th>\n",
       "      <th>Current_loan_status</th>\n",
       "    </tr>\n",
       "  </thead>\n",
       "  <tbody>\n",
       "  </tbody>\n",
       "</table>\n",
       "</div>"
      ],
      "text/plain": [
       "Empty DataFrame\n",
       "Columns: [customer_age, customer_income, home_ownership, employment_duration, loan_intent, loan_grade, loan_amnt, loan_int_rate, term_years, historical_default, cred_hist_length, Current_loan_status]\n",
       "Index: []"
      ]
     },
     "execution_count": 387,
     "metadata": {},
     "output_type": "execute_result"
    }
   ],
   "source": [
    "# Checking customer age colums for outlier or wrong values\n",
    "\n",
    "df[df[\"customer_age\"] > 100]"
   ]
  },
  {
   "cell_type": "markdown",
   "id": "a1db1ecd-7dd6-406b-bf4e-35bb04deb957",
   "metadata": {},
   "source": [
    "When customer_age data is examined. IIt is seen that the people applying for the loan are very small and have very large values\n",
    " When examined in general, it is understood that it was entered incorrectly\n",
    "Customer_income and employment_duration data are also thought to have been entered as incorrect data.."
   ]
  },
  {
   "cell_type": "code",
   "execution_count": 386,
   "id": "ec716ef9-e29e-4c14-8bcf-f91c3018619f",
   "metadata": {},
   "outputs": [
    {
     "name": "stdout",
     "output_type": "stream",
     "text": [
      "max age: 40\n",
      "min age: 20\n"
     ]
    }
   ],
   "source": [
    " def remove_outliers(df, column):\n",
    "     \n",
    "    \"\"\"\n",
    "    \n",
    "    ##################################################################\n",
    "    Removes outliers from the specified column of the DataFrame using\n",
    "    the Interquartile Range (IQR) method.\n",
    "\n",
    "    Values outside these bounds are considered outliers and are removed from the DataFrame.\n",
    "\n",
    "    Returns:\n",
    "    DataFrame: The DataFrame with outliers removed from the specified column.\n",
    "    \n",
    "    ##################################################################\n",
    "\n",
    "    \n",
    "    \"\"\"\n",
    "    # lower quantile \n",
    "    Q1 = df[column].quantile(0.25)\n",
    "\n",
    "    # Upper quantile\n",
    "    Q3 = df[column].quantile(0.75)\n",
    "    IQR = Q3 - Q1\n",
    "    lower_bound = Q1 - 1.5 * IQR\n",
    "    upper_bound = Q3 + 1.5 * IQR\n",
    "\n",
    "    return df[(df[column] >= lower_bound) & (df[column] <= upper_bound)]\n",
    "\n",
    "\n",
    "\n",
    "# Apply the function to the required columns\n",
    "df = remove_outliers(df, \"customer_income\")\n",
    "df = remove_outliers(df, \"customer_age\")\n",
    "df = remove_outliers(df, \"employment_duration\")\n",
    "\n",
    "# Checking changes with customer_age column\n",
    "print(\"max age:\", df[\"customer_age\"].max())\n",
    "print(\"min age:\", df[\"customer_age\"].min())"
   ]
  },
  {
   "cell_type": "markdown",
   "id": "17570d75-3d3b-4a00-adad-a5b4c4a0c343",
   "metadata": {},
   "source": [
    "## 6. Filling Missing Values In The Dataset"
   ]
  },
  {
   "cell_type": "code",
   "execution_count": 14,
   "id": "b70abd6d",
   "metadata": {},
   "outputs": [
    {
     "data": {
      "text/plain": [
       "customer_age               0\n",
       "customer_income            0\n",
       "home_ownership             0\n",
       "employment_duration      895\n",
       "loan_intent                0\n",
       "loan_grade                 0\n",
       "loan_amnt                  1\n",
       "loan_int_rate           3116\n",
       "term_years                 0\n",
       "historical_default     20737\n",
       "cred_hist_length           0\n",
       "Current_loan_status        4\n",
       "dtype: int64"
      ]
     },
     "execution_count": 14,
     "metadata": {},
     "output_type": "execute_result"
    }
   ],
   "source": [
    "# Check the missing values in the dataset\n",
    "\n",
    "df.isnull().sum()"
   ]
  },
  {
   "cell_type": "markdown",
   "id": "025159ed-76bc-4d1b-a23a-d590870923dd",
   "metadata": {},
   "source": [
    "## 6.a. Removing Missing Value Of The Loan Amount Column"
   ]
  },
  {
   "cell_type": "markdown",
   "id": "36b59456-412a-4bc7-815e-d2e9210e2915",
   "metadata": {},
   "source": [
    "Since the number of missing values is small, the deletion method was used instead of other methods."
   ]
  },
  {
   "cell_type": "code",
   "execution_count": 15,
   "id": "723eb044",
   "metadata": {},
   "outputs": [],
   "source": [
    "# Remove missing values from the \"loan_amnt\" column\n",
    "# Count of missing value = 1\n",
    "\n",
    "df.dropna(subset = [\"loan_amnt\"], inplace = True)"
   ]
  },
  {
   "cell_type": "markdown",
   "id": "dbca7122-93ce-42ed-bb82-d89d354e32f3",
   "metadata": {},
   "source": [
    "## 6.b. Filling NA Values Of The Historical Default Column"
   ]
  },
  {
   "cell_type": "code",
   "execution_count": 16,
   "id": "722ef132-dfd8-4583-929f-81c492cc8a35",
   "metadata": {},
   "outputs": [
    {
     "name": "stdout",
     "output_type": "stream",
     "text": [
      "historical_default\n",
      "NaN    20737\n",
      "Y       6127\n",
      "N       5721\n",
      "Name: count, dtype: int64\n"
     ]
    }
   ],
   "source": [
    "# Count occurrences of \"Y\", \"N\", and missing values\n",
    "\n",
    "print(df[\"historical_default\"].value_counts(dropna = False))"
   ]
  },
  {
   "cell_type": "markdown",
   "id": "4a01bb17-23f3-42bc-b561-9657657b27a9",
   "metadata": {},
   "source": [
    "print(df[\"Current_default_status\"])"
   ]
  },
  {
   "cell_type": "code",
   "execution_count": 17,
   "id": "fb67a25a-e97d-4ef8-a135-1863b24cb36d",
   "metadata": {},
   "outputs": [
    {
     "name": "stdout",
     "output_type": "stream",
     "text": [
      "Current_loan_status\n",
      "0.0    25742\n",
      "1.0     6839\n",
      "NaN        4\n",
      "Name: count, dtype: int64\n"
     ]
    }
   ],
   "source": [
    "# Count of values of the Current loan status column\n",
    "\n",
    "print(df[\"Current_loan_status\"].value_counts(dropna = False))"
   ]
  },
  {
   "cell_type": "markdown",
   "id": "22609be4-65aa-45eb-83ca-ed68910f7ab4",
   "metadata": {},
   "source": [
    "The customer's past credit default status (YES/NO). When we look at the current situation, the data entries are recorded as \"Y\": 62128 and \"N\": 5721. Considering the values in the \"Current loan status\" column, it is observed that giving the value \"N\" to all the entries does not cause a proportional change. Therefore, the NaN values have been filled with \"N\".\""
   ]
  },
  {
   "cell_type": "code",
   "execution_count": 18,
   "id": "2c55b6a4",
   "metadata": {},
   "outputs": [],
   "source": [
    "# Filling missing values with \"N\"\n",
    "# Count of missing value = 20737\n",
    "\n",
    "df[\"historical_default\"] = df[\"historical_default\"].fillna(\"N\")"
   ]
  },
  {
   "cell_type": "markdown",
   "id": "9f66a1bc-b20c-4672-8df9-bcf3f261e8eb",
   "metadata": {},
   "source": [
    "## 6.c. Filling Missing Values Of The Employement Duration Column"
   ]
  },
  {
   "cell_type": "code",
   "execution_count": 20,
   "id": "5c1ed6a9-7624-4de9-a550-297774e2b0ad",
   "metadata": {},
   "outputs": [
    {
     "data": {
      "text/plain": [
       "employment_duration\n",
       "0.0    4105\n",
       "2.0    3849\n",
       "3.0    3457\n",
       "5.0    2946\n",
       "1.0    2915\n",
       "4.0    2873\n",
       "6.0    2669\n",
       "7.0    2196\n",
       "8.0    1687\n",
       "9.0    1367\n",
       "Name: count, dtype: int64"
      ]
     },
     "execution_count": 20,
     "metadata": {},
     "output_type": "execute_result"
    }
   ],
   "source": [
    "# Frequencies of values in the employment_duration column\n",
    "# Display most frequent 10 value\n",
    "# count of missing value = 895\n",
    "\n",
    "df[\"employment_duration\"].value_counts().head(10)"
   ]
  },
  {
   "cell_type": "markdown",
   "id": "3c220d2d-c4f6-427c-9c2b-dc12616eeced",
   "metadata": {},
   "source": [
    "The missing values in the employment_duration column have been filled by calculating the probabilities of the top 10 most frequent values."
   ]
  },
  {
   "cell_type": "code",
   "execution_count": 21,
   "id": "df0e6176",
   "metadata": {},
   "outputs": [
    {
     "name": "stdout",
     "output_type": "stream",
     "text": [
      "Sum values of employment duration column: 0\n"
     ]
    }
   ],
   "source": [
    "def fill_missing_employment_duration(df):\n",
    "    \n",
    "    \"\"\"\n",
    "     \n",
    "    ############################################################\n",
    "    \n",
    "    Fills missing values in \"employment_duration\" column using \n",
    "    the most frequent values and their probabilities.\n",
    "\n",
    "    Parameters:\n",
    "    df DataFrame containing the \"employment_duration\" column.\n",
    "\n",
    "    Returns:\n",
    "    df DataFrame with filled missing values in \"employment_duration\".\n",
    "    \n",
    "    ############################################################\n",
    "    \n",
    "    \"\"\"\n",
    "    \n",
    "     # Calculate the 10 most frequent values in the \"employment_duration\" column\n",
    "    most_freq_value = df[\"employment_duration\"].value_counts().head(10)\n",
    "    \n",
    "    # Calculate the sum of the frequencies of these 10 most frequent values\n",
    "    most_freq_value_sum = most_freq_value.sum()\n",
    "    \n",
    "    # Calculate the probability of each of the 10 most frequent values\n",
    "    most_freq_value_probability = most_freq_value.apply(lambda row: row / most_freq_value_sum)\n",
    "\n",
    "    # Get the indices of the rows with missing values in \"employment_duration\"\n",
    "    missing_indices = df[df[\"employment_duration\"].isnull()].index\n",
    "    \n",
    "    # Fill the missing values using a random choice based on the calculated probabilities\n",
    "    df.loc[missing_indices, \"employment_duration\"] = np.random.choice(\n",
    "                                                     most_freq_value.index,  \n",
    "                                                     size = len(missing_indices),  \n",
    "                                                     p = most_freq_value_probability)\n",
    "    # Return DataFrame\n",
    "    return df\n",
    "\n",
    "# Applying the function to the DataFrame\n",
    "df = fill_missing_employment_duration(df)\n",
    "\n",
    "print('sum values of employment duration column:\", df[\"employment_duration\"].isnull().sum())"
   ]
  },
  {
   "cell_type": "code",
   "execution_count": 22,
   "id": "6d0bcb73-e43d-4a21-a8be-83203f4d6118",
   "metadata": {},
   "outputs": [
    {
     "data": {
      "text/plain": [
       "employment_duration\n",
       "0.0    4233\n",
       "2.0    3966\n",
       "3.0    3579\n",
       "5.0    3031\n",
       "1.0    3011\n",
       "4.0    2977\n",
       "6.0    2748\n",
       "7.0    2270\n",
       "8.0    1726\n",
       "9.0    1418\n",
       "Name: count, dtype: int64"
      ]
     },
     "execution_count": 22,
     "metadata": {},
     "output_type": "execute_result"
    }
   ],
   "source": [
    "# Frequencies of values in the employment_duration column\n",
    "# count of missing value = 895\n",
    "\n",
    "df[\"employment_duration\"].value_counts().head(10)"
   ]
  },
  {
   "cell_type": "markdown",
   "id": "4053acc0-4ebf-4164-a9bf-0dcf879c1baf",
   "metadata": {},
   "source": [
    "## 6.d.Filling Missing Values Of The Loan In Rate Column"
   ]
  },
  {
   "cell_type": "markdown",
   "id": "efda534a-694e-410c-8b84-2bfe8521c8ad",
   "metadata": {},
   "source": [
    "Instead of filling missing values in the loan_int_rate column using the overall average, the average interest rates based on each loan_grade were used to fill the missing values."
   ]
  },
  {
   "cell_type": "code",
   "execution_count": 23,
   "id": "80f25c3c-ed3b-4ec4-a236-a4b7c7f8b348",
   "metadata": {},
   "outputs": [
    {
     "data": {
      "text/plain": [
       "loan_grade\n",
       "1    18.964103\n",
       "2    15.959060\n",
       "3    14.235495\n",
       "4    11.788434\n",
       "5     8.557445\n",
       "Name: loan_int_rate, dtype: float64"
      ]
     },
     "execution_count": 23,
     "metadata": {},
     "output_type": "execute_result"
    }
   ],
   "source": [
    "# Calculation of the average interest rates based on the average values for each loan grade\n",
    "\n",
    "df.groupby(\"loan_grade\")[\"loan_int_rate\"].mean()"
   ]
  },
  {
   "cell_type": "code",
   "execution_count": 24,
   "id": "6bb9a668-1043-432e-9f5b-2124dcd93d80",
   "metadata": {},
   "outputs": [],
   "source": [
    "def fill_missing_loan_int_rate(df):\n",
    "    \n",
    "    \"\"\"\n",
    "\n",
    "    ##################################################################\n",
    "    \n",
    "    Fills missing values in \"loan_int_rate\" column with the mean value\n",
    "    of \"loan_int_rate\" for each \"loan_grade\".\n",
    "\n",
    "    Parameters:\n",
    "    df DataFrame , \"loan_int_rate\" and \"loan_grade\" columns.\n",
    "\n",
    "    Returns:\n",
    "    df DataFrame with filled missing values in \"loan_int_rate\".\n",
    "    \n",
    "    ###################################################################\n",
    "    \n",
    "    \"\"\"\n",
    "    \n",
    "        \n",
    "    # Calculate mean values by loan_grade\n",
    "    mean_by_grade = df.groupby(\"loan_grade\")[\"loan_int_rate\"].mean()\n",
    "\n",
    "    # Fill missing values in loan_int_rate\n",
    "    df[\"loan_int_rate\"] = df.apply(\n",
    "        lambda row: mean_by_grade[row[\"loan_grade\"]] \n",
    "        if pd.isna(row[\"loan_int_rate\"]) else row[\"loan_int_rate\"],\n",
    "        axis=1\n",
    "    )\n",
    "    \n",
    "    # Return DataFrame\n",
    "    return df  \n",
    "    \n",
    "# Applying the function to the DataFrame\n",
    "df = fill_missing_loan_int_rate(df)"
   ]
  },
  {
   "cell_type": "markdown",
   "id": "eb10867d-6b43-45ab-a8a9-05c62d950388",
   "metadata": {},
   "source": [
    "## 6.e. Dropping Missing Values Of the Current Loan Status Column"
   ]
  },
  {
   "cell_type": "markdown",
   "id": "cf54b755-181b-4354-9933-430d448ad281",
   "metadata": {},
   "source": [
    "Since the number of missing values is small, the deletion method was used instead of other methods."
   ]
  },
  {
   "cell_type": "code",
   "execution_count": 25,
   "id": "9890e02d",
   "metadata": {},
   "outputs": [],
   "source": [
    "# Dropping missing values\n",
    "# Count of missing value = 4\n",
    "\n",
    "df.dropna(subset=[\"Current_loan_status\"], inplace = True)"
   ]
  },
  {
   "cell_type": "code",
   "execution_count": 26,
   "id": "f2722d99",
   "metadata": {},
   "outputs": [
    {
     "data": {
      "text/plain": [
       "customer_age           0\n",
       "customer_income        0\n",
       "home_ownership         0\n",
       "employment_duration    0\n",
       "loan_intent            0\n",
       "loan_grade             0\n",
       "loan_amnt              0\n",
       "loan_int_rate          0\n",
       "term_years             0\n",
       "historical_default     0\n",
       "cred_hist_length       0\n",
       "Current_loan_status    0\n",
       "dtype: int64"
      ]
     },
     "execution_count": 26,
     "metadata": {},
     "output_type": "execute_result"
    }
   ],
   "source": [
    "# Checking Missing values of dataframe\n",
    "\n",
    "df.isnull().sum()"
   ]
  },
  {
   "cell_type": "code",
   "execution_count": 27,
   "id": "3c1187f7",
   "metadata": {},
   "outputs": [
    {
     "data": {
      "text/html": [
       "<div>\n",
       "<style scoped>\n",
       "    .dataframe tbody tr th:only-of-type {\n",
       "        vertical-align: middle;\n",
       "    }\n",
       "\n",
       "    .dataframe tbody tr th {\n",
       "        vertical-align: top;\n",
       "    }\n",
       "\n",
       "    .dataframe thead th {\n",
       "        text-align: right;\n",
       "    }\n",
       "</style>\n",
       "<table border=\"1\" class=\"dataframe\">\n",
       "  <thead>\n",
       "    <tr style=\"text-align: right;\">\n",
       "      <th></th>\n",
       "      <th>customer_age</th>\n",
       "      <th>customer_income</th>\n",
       "      <th>home_ownership</th>\n",
       "      <th>employment_duration</th>\n",
       "      <th>loan_intent</th>\n",
       "      <th>loan_grade</th>\n",
       "      <th>loan_amnt</th>\n",
       "      <th>loan_int_rate</th>\n",
       "      <th>term_years</th>\n",
       "      <th>historical_default</th>\n",
       "      <th>cred_hist_length</th>\n",
       "      <th>Current_loan_status</th>\n",
       "    </tr>\n",
       "  </thead>\n",
       "  <tbody>\n",
       "    <tr>\n",
       "      <th>0</th>\n",
       "      <td>22</td>\n",
       "      <td>59000</td>\n",
       "      <td>RENT</td>\n",
       "      <td>123.0</td>\n",
       "      <td>PERSONAL</td>\n",
       "      <td>3</td>\n",
       "      <td>35000.0</td>\n",
       "      <td>16.02</td>\n",
       "      <td>10</td>\n",
       "      <td>Y</td>\n",
       "      <td>3</td>\n",
       "      <td>1.0</td>\n",
       "    </tr>\n",
       "    <tr>\n",
       "      <th>1</th>\n",
       "      <td>21</td>\n",
       "      <td>9600</td>\n",
       "      <td>OWN</td>\n",
       "      <td>5.0</td>\n",
       "      <td>EDUCATION</td>\n",
       "      <td>5</td>\n",
       "      <td>1000.0</td>\n",
       "      <td>11.14</td>\n",
       "      <td>1</td>\n",
       "      <td>N</td>\n",
       "      <td>2</td>\n",
       "      <td>0.0</td>\n",
       "    </tr>\n",
       "    <tr>\n",
       "      <th>2</th>\n",
       "      <td>25</td>\n",
       "      <td>9600</td>\n",
       "      <td>MORTGAGE</td>\n",
       "      <td>1.0</td>\n",
       "      <td>MEDICAL</td>\n",
       "      <td>4</td>\n",
       "      <td>5500.0</td>\n",
       "      <td>12.87</td>\n",
       "      <td>5</td>\n",
       "      <td>N</td>\n",
       "      <td>3</td>\n",
       "      <td>1.0</td>\n",
       "    </tr>\n",
       "    <tr>\n",
       "      <th>3</th>\n",
       "      <td>23</td>\n",
       "      <td>65500</td>\n",
       "      <td>RENT</td>\n",
       "      <td>4.0</td>\n",
       "      <td>MEDICAL</td>\n",
       "      <td>4</td>\n",
       "      <td>35000.0</td>\n",
       "      <td>15.23</td>\n",
       "      <td>10</td>\n",
       "      <td>N</td>\n",
       "      <td>2</td>\n",
       "      <td>1.0</td>\n",
       "    </tr>\n",
       "    <tr>\n",
       "      <th>4</th>\n",
       "      <td>24</td>\n",
       "      <td>54400</td>\n",
       "      <td>RENT</td>\n",
       "      <td>8.0</td>\n",
       "      <td>MEDICAL</td>\n",
       "      <td>4</td>\n",
       "      <td>35000.0</td>\n",
       "      <td>14.27</td>\n",
       "      <td>10</td>\n",
       "      <td>Y</td>\n",
       "      <td>4</td>\n",
       "      <td>1.0</td>\n",
       "    </tr>\n",
       "  </tbody>\n",
       "</table>\n",
       "</div>"
      ],
      "text/plain": [
       "   customer_age  customer_income home_ownership  employment_duration  \\\n",
       "0            22            59000           RENT                123.0   \n",
       "1            21             9600            OWN                  5.0   \n",
       "2            25             9600       MORTGAGE                  1.0   \n",
       "3            23            65500           RENT                  4.0   \n",
       "4            24            54400           RENT                  8.0   \n",
       "\n",
       "  loan_intent  loan_grade  loan_amnt  loan_int_rate  term_years  \\\n",
       "0    PERSONAL           3    35000.0          16.02          10   \n",
       "1   EDUCATION           5     1000.0          11.14           1   \n",
       "2     MEDICAL           4     5500.0          12.87           5   \n",
       "3     MEDICAL           4    35000.0          15.23          10   \n",
       "4     MEDICAL           4    35000.0          14.27          10   \n",
       "\n",
       "  historical_default  cred_hist_length  Current_loan_status  \n",
       "0                  Y                 3                  1.0  \n",
       "1                  N                 2                  0.0  \n",
       "2                  N                 3                  1.0  \n",
       "3                  N                 2                  1.0  \n",
       "4                  Y                 4                  1.0  "
      ]
     },
     "execution_count": 27,
     "metadata": {},
     "output_type": "execute_result"
    }
   ],
   "source": [
    "# Display the first 5 rows of the dataset\n",
    "\n",
    "df.head(5)"
   ]
  },
  {
   "cell_type": "markdown",
   "id": "8176513b-6b97-4c4c-9d4d-7d5da025e223",
   "metadata": {},
   "source": [
    "## 7. Model Building\n"
   ]
  },
  {
   "cell_type": "markdown",
   "id": "9698bfa3-7cfd-441c-bb33-62a54bf12692",
   "metadata": {},
   "source": [
    "## 7.a. Preparing DataFrame Before Modelling"
   ]
  },
  {
   "cell_type": "code",
   "execution_count": 514,
   "id": "3e317144",
   "metadata": {},
   "outputs": [],
   "source": [
    "# Defining  features and target variable\n",
    "\n",
    "X = df.drop(\"Current_loan_status\", axis = 1)\n",
    "y = df[\"Current_loan_status\"].astype(int)"
   ]
  },
  {
   "cell_type": "markdown",
   "id": "61e8d8d7-c6b8-44c5-b375-61092561243a",
   "metadata": {},
   "source": [
    "## 7.b. Converting Binary Type Of The Categorical Values"
   ]
  },
  {
   "cell_type": "code",
   "execution_count": 29,
   "id": "aedf1394",
   "metadata": {},
   "outputs": [
    {
     "name": "stdout",
     "output_type": "stream",
     "text": [
      "categorical columns : ['home_ownership', 'loan_intent', 'historical_default']\n"
     ]
    }
   ],
   "source": [
    "# Defining categorical columns\n",
    "cat_cols = [col for col in X.columns if X[col].dtypes == \"O\"]\n",
    "\n",
    "# Printing categorcal column names\n",
    "print(\"categorical columns :\", cat_cols)"
   ]
  },
  {
   "cell_type": "code",
   "execution_count": 30,
   "id": "f18d8e70",
   "metadata": {},
   "outputs": [
    {
     "data": {
      "text/html": [
       "<div>\n",
       "<style scoped>\n",
       "    .dataframe tbody tr th:only-of-type {\n",
       "        vertical-align: middle;\n",
       "    }\n",
       "\n",
       "    .dataframe tbody tr th {\n",
       "        vertical-align: top;\n",
       "    }\n",
       "\n",
       "    .dataframe thead th {\n",
       "        text-align: right;\n",
       "    }\n",
       "</style>\n",
       "<table border=\"1\" class=\"dataframe\">\n",
       "  <thead>\n",
       "    <tr style=\"text-align: right;\">\n",
       "      <th></th>\n",
       "      <th>home_ownership_OTHER</th>\n",
       "      <th>home_ownership_OWN</th>\n",
       "      <th>home_ownership_RENT</th>\n",
       "      <th>loan_intent_EDUCATION</th>\n",
       "      <th>loan_intent_HOMEIMPROVEMENT</th>\n",
       "      <th>loan_intent_MEDICAL</th>\n",
       "      <th>loan_intent_PERSONAL</th>\n",
       "      <th>loan_intent_VENTURE</th>\n",
       "      <th>historical_default_Y</th>\n",
       "    </tr>\n",
       "  </thead>\n",
       "  <tbody>\n",
       "    <tr>\n",
       "      <th>0</th>\n",
       "      <td>0</td>\n",
       "      <td>0</td>\n",
       "      <td>1</td>\n",
       "      <td>0</td>\n",
       "      <td>0</td>\n",
       "      <td>0</td>\n",
       "      <td>1</td>\n",
       "      <td>0</td>\n",
       "      <td>1</td>\n",
       "    </tr>\n",
       "    <tr>\n",
       "      <th>1</th>\n",
       "      <td>0</td>\n",
       "      <td>1</td>\n",
       "      <td>0</td>\n",
       "      <td>1</td>\n",
       "      <td>0</td>\n",
       "      <td>0</td>\n",
       "      <td>0</td>\n",
       "      <td>0</td>\n",
       "      <td>0</td>\n",
       "    </tr>\n",
       "    <tr>\n",
       "      <th>2</th>\n",
       "      <td>0</td>\n",
       "      <td>0</td>\n",
       "      <td>0</td>\n",
       "      <td>0</td>\n",
       "      <td>0</td>\n",
       "      <td>1</td>\n",
       "      <td>0</td>\n",
       "      <td>0</td>\n",
       "      <td>0</td>\n",
       "    </tr>\n",
       "    <tr>\n",
       "      <th>3</th>\n",
       "      <td>0</td>\n",
       "      <td>0</td>\n",
       "      <td>1</td>\n",
       "      <td>0</td>\n",
       "      <td>0</td>\n",
       "      <td>1</td>\n",
       "      <td>0</td>\n",
       "      <td>0</td>\n",
       "      <td>0</td>\n",
       "    </tr>\n",
       "    <tr>\n",
       "      <th>4</th>\n",
       "      <td>0</td>\n",
       "      <td>0</td>\n",
       "      <td>1</td>\n",
       "      <td>0</td>\n",
       "      <td>0</td>\n",
       "      <td>1</td>\n",
       "      <td>0</td>\n",
       "      <td>0</td>\n",
       "      <td>1</td>\n",
       "    </tr>\n",
       "  </tbody>\n",
       "</table>\n",
       "</div>"
      ],
      "text/plain": [
       "   home_ownership_OTHER  home_ownership_OWN  home_ownership_RENT  \\\n",
       "0                     0                   0                    1   \n",
       "1                     0                   1                    0   \n",
       "2                     0                   0                    0   \n",
       "3                     0                   0                    1   \n",
       "4                     0                   0                    1   \n",
       "\n",
       "   loan_intent_EDUCATION  loan_intent_HOMEIMPROVEMENT  loan_intent_MEDICAL  \\\n",
       "0                      0                            0                    0   \n",
       "1                      1                            0                    0   \n",
       "2                      0                            0                    1   \n",
       "3                      0                            0                    1   \n",
       "4                      0                            0                    1   \n",
       "\n",
       "   loan_intent_PERSONAL  loan_intent_VENTURE  historical_default_Y  \n",
       "0                     1                    0                     1  \n",
       "1                     0                    0                     0  \n",
       "2                     0                    0                     0  \n",
       "3                     0                    0                     0  \n",
       "4                     0                    0                     1  "
      ]
     },
     "execution_count": 30,
     "metadata": {},
     "output_type": "execute_result"
    }
   ],
   "source": [
    "# Convert categorical columns to numerical using one-hot encoding\n",
    "dummies = pd.get_dummies(X[cat_cols], drop_first = True).astype(int)\n",
    "\n",
    "# Display 5 rows\n",
    "dummies.head(5)"
   ]
  },
  {
   "cell_type": "code",
   "execution_count": 31,
   "id": "eeab79e6",
   "metadata": {},
   "outputs": [],
   "source": [
    "# Drop the categorical columns from the X\n",
    "\n",
    "X.drop(cat_cols, axis = 1, inplace = True)"
   ]
  },
  {
   "cell_type": "code",
   "execution_count": 32,
   "id": "3f396729",
   "metadata": {},
   "outputs": [
    {
     "data": {
      "text/html": [
       "<div>\n",
       "<style scoped>\n",
       "    .dataframe tbody tr th:only-of-type {\n",
       "        vertical-align: middle;\n",
       "    }\n",
       "\n",
       "    .dataframe tbody tr th {\n",
       "        vertical-align: top;\n",
       "    }\n",
       "\n",
       "    .dataframe thead th {\n",
       "        text-align: right;\n",
       "    }\n",
       "</style>\n",
       "<table border=\"1\" class=\"dataframe\">\n",
       "  <thead>\n",
       "    <tr style=\"text-align: right;\">\n",
       "      <th></th>\n",
       "      <th>customer_age</th>\n",
       "      <th>customer_income</th>\n",
       "      <th>employment_duration</th>\n",
       "      <th>loan_grade</th>\n",
       "      <th>loan_amnt</th>\n",
       "      <th>loan_int_rate</th>\n",
       "      <th>term_years</th>\n",
       "      <th>cred_hist_length</th>\n",
       "      <th>home_ownership_OTHER</th>\n",
       "      <th>home_ownership_OWN</th>\n",
       "      <th>home_ownership_RENT</th>\n",
       "      <th>loan_intent_EDUCATION</th>\n",
       "      <th>loan_intent_HOMEIMPROVEMENT</th>\n",
       "      <th>loan_intent_MEDICAL</th>\n",
       "      <th>loan_intent_PERSONAL</th>\n",
       "      <th>loan_intent_VENTURE</th>\n",
       "      <th>historical_default_Y</th>\n",
       "    </tr>\n",
       "  </thead>\n",
       "  <tbody>\n",
       "    <tr>\n",
       "      <th>0</th>\n",
       "      <td>22</td>\n",
       "      <td>59000</td>\n",
       "      <td>123.0</td>\n",
       "      <td>3</td>\n",
       "      <td>35000.0</td>\n",
       "      <td>16.02</td>\n",
       "      <td>10</td>\n",
       "      <td>3</td>\n",
       "      <td>0</td>\n",
       "      <td>0</td>\n",
       "      <td>1</td>\n",
       "      <td>0</td>\n",
       "      <td>0</td>\n",
       "      <td>0</td>\n",
       "      <td>1</td>\n",
       "      <td>0</td>\n",
       "      <td>1</td>\n",
       "    </tr>\n",
       "    <tr>\n",
       "      <th>1</th>\n",
       "      <td>21</td>\n",
       "      <td>9600</td>\n",
       "      <td>5.0</td>\n",
       "      <td>5</td>\n",
       "      <td>1000.0</td>\n",
       "      <td>11.14</td>\n",
       "      <td>1</td>\n",
       "      <td>2</td>\n",
       "      <td>0</td>\n",
       "      <td>1</td>\n",
       "      <td>0</td>\n",
       "      <td>1</td>\n",
       "      <td>0</td>\n",
       "      <td>0</td>\n",
       "      <td>0</td>\n",
       "      <td>0</td>\n",
       "      <td>0</td>\n",
       "    </tr>\n",
       "    <tr>\n",
       "      <th>2</th>\n",
       "      <td>25</td>\n",
       "      <td>9600</td>\n",
       "      <td>1.0</td>\n",
       "      <td>4</td>\n",
       "      <td>5500.0</td>\n",
       "      <td>12.87</td>\n",
       "      <td>5</td>\n",
       "      <td>3</td>\n",
       "      <td>0</td>\n",
       "      <td>0</td>\n",
       "      <td>0</td>\n",
       "      <td>0</td>\n",
       "      <td>0</td>\n",
       "      <td>1</td>\n",
       "      <td>0</td>\n",
       "      <td>0</td>\n",
       "      <td>0</td>\n",
       "    </tr>\n",
       "    <tr>\n",
       "      <th>3</th>\n",
       "      <td>23</td>\n",
       "      <td>65500</td>\n",
       "      <td>4.0</td>\n",
       "      <td>4</td>\n",
       "      <td>35000.0</td>\n",
       "      <td>15.23</td>\n",
       "      <td>10</td>\n",
       "      <td>2</td>\n",
       "      <td>0</td>\n",
       "      <td>0</td>\n",
       "      <td>1</td>\n",
       "      <td>0</td>\n",
       "      <td>0</td>\n",
       "      <td>1</td>\n",
       "      <td>0</td>\n",
       "      <td>0</td>\n",
       "      <td>0</td>\n",
       "    </tr>\n",
       "    <tr>\n",
       "      <th>4</th>\n",
       "      <td>24</td>\n",
       "      <td>54400</td>\n",
       "      <td>8.0</td>\n",
       "      <td>4</td>\n",
       "      <td>35000.0</td>\n",
       "      <td>14.27</td>\n",
       "      <td>10</td>\n",
       "      <td>4</td>\n",
       "      <td>0</td>\n",
       "      <td>0</td>\n",
       "      <td>1</td>\n",
       "      <td>0</td>\n",
       "      <td>0</td>\n",
       "      <td>1</td>\n",
       "      <td>0</td>\n",
       "      <td>0</td>\n",
       "      <td>1</td>\n",
       "    </tr>\n",
       "  </tbody>\n",
       "</table>\n",
       "</div>"
      ],
      "text/plain": [
       "   customer_age  customer_income  employment_duration  loan_grade  loan_amnt  \\\n",
       "0            22            59000                123.0           3    35000.0   \n",
       "1            21             9600                  5.0           5     1000.0   \n",
       "2            25             9600                  1.0           4     5500.0   \n",
       "3            23            65500                  4.0           4    35000.0   \n",
       "4            24            54400                  8.0           4    35000.0   \n",
       "\n",
       "   loan_int_rate  term_years  cred_hist_length  home_ownership_OTHER  \\\n",
       "0          16.02          10                 3                     0   \n",
       "1          11.14           1                 2                     0   \n",
       "2          12.87           5                 3                     0   \n",
       "3          15.23          10                 2                     0   \n",
       "4          14.27          10                 4                     0   \n",
       "\n",
       "   home_ownership_OWN  home_ownership_RENT  loan_intent_EDUCATION  \\\n",
       "0                   0                    1                      0   \n",
       "1                   1                    0                      1   \n",
       "2                   0                    0                      0   \n",
       "3                   0                    1                      0   \n",
       "4                   0                    1                      0   \n",
       "\n",
       "   loan_intent_HOMEIMPROVEMENT  loan_intent_MEDICAL  loan_intent_PERSONAL  \\\n",
       "0                            0                    0                     1   \n",
       "1                            0                    0                     0   \n",
       "2                            0                    1                     0   \n",
       "3                            0                    1                     0   \n",
       "4                            0                    1                     0   \n",
       "\n",
       "   loan_intent_VENTURE  historical_default_Y  \n",
       "0                    0                     1  \n",
       "1                    0                     0  \n",
       "2                    0                     0  \n",
       "3                    0                     0  \n",
       "4                    0                     1  "
      ]
     },
     "execution_count": 32,
     "metadata": {},
     "output_type": "execute_result"
    }
   ],
   "source": [
    "# Concatenate the DataFrame X with the dummies\n",
    "X = pd.concat([X, dummies], axis = 1)\n",
    "\n",
    "# Display 5 rows\n",
    "X.head(5)"
   ]
  },
  {
   "cell_type": "markdown",
   "id": "f1bd3f44-0210-49a6-b31e-47b52d8a9e29",
   "metadata": {},
   "source": [
    "## 7.c. Splitting Test-Train Data Standardization"
   ]
  },
  {
   "cell_type": "code",
   "execution_count": 35,
   "id": "b446ec3a-22a6-42cc-adac-f1a0333fdbb7",
   "metadata": {},
   "outputs": [],
   "source": [
    "# Splitting data into train and test data\n",
    "\n",
    "X_train, X_test, y_train, y_test = train_test_split(X, y, test_size = 0.2, random_state = 42)"
   ]
  },
  {
   "cell_type": "code",
   "execution_count": 425,
   "id": "5de2e95b-3d80-4f41-a6e7-be8d902b1193",
   "metadata": {},
   "outputs": [],
   "source": [
    "# Standatdization process\n",
    "scaler = StandardScaler()\n",
    "X_train = scaler.fit_transform(X_train) \n",
    "X_test = scaler.transform(X_test)    "
   ]
  },
  {
   "cell_type": "markdown",
   "id": "c68dbe3a-3aff-40bc-a31d-88615cff7247",
   "metadata": {},
   "source": [
    "## 7.d. Generate Model"
   ]
  },
  {
   "cell_type": "code",
   "execution_count": 324,
   "id": "ed783dfb-9242-43f9-8926-7a4792f36d13",
   "metadata": {},
   "outputs": [],
   "source": [
    "search_space = [\n",
    "                # Logistic Regression\n",
    "                {\n",
    "                    \"classifier\": [LogisticRegression(solver = \"liblinear\")],\n",
    "                    \"classifier__C\": [0.01, 0.1, 1.0, 10.0, 100],\n",
    "                    \"classifier__penalty\": [\"l1\", \"l2\"]\n",
    "                },\n",
    "                \n",
    "                # KNeighbors Classifier\n",
    "                {\n",
    "                    \"classifier\": [KNeighborsClassifier()],\n",
    "                    \"classifier__n_neighbors\": [3, 4, 5, 6, 7, 8, 9, 10, 11, 12]\n",
    "                },\n",
    "                \n",
    "                # Random Forest Classifier\n",
    "                {\n",
    "                    \"classifier\": [RandomForestClassifier(random_state = 42)],\n",
    "                    \"classifier__n_estimators\": [100, 200, 300, 500, 1000],\n",
    "                    \"classifier__max_depth\": [5, 10, 20, 50],\n",
    "                    \"classifier__min_samples_split\": [2, 4, 6, 10],\n",
    "                    \"classifier__min_samples_leaf\": [2, 4, 6, 10]\n",
    "                },\n",
    "                 \n",
    "                # GradientBoostingClassifier\n",
    "                {\n",
    "                   \n",
    "                    \"classifier\": [GradientBoostingClassifier(random_state = 42)],\n",
    "                    \"classifier__n_estimators\": [100, 200, 300, 500], \n",
    "                    \"classifier__learning_rate\": [0.001, 0.01, 0.1],  \n",
    "                    \"classifier__max_depth\": [3, 5, 7, 10] \n",
    "                   \n",
    "                },\n",
    "    \n",
    "                # AdaboostClassifier\n",
    "                {\n",
    "                   \n",
    "                    \"classifier\": [AdaBoostClassifier()],\n",
    "                    \"classifier__n_estimators\": [100, 500, 1000, 5000], \n",
    "                    \"classifier__learning_rate\": [0.001, 0.01, 0.1],  \n",
    "                   \n",
    "                },\n",
    "    \n",
    "                # XGBtClassifier\n",
    "                {\n",
    "                    \n",
    "                    \"classifier\": [XGBClassifier(random_state = 42)],\n",
    "                    \"classifier__n_estimators\": [100, 200, 300, 500],  \n",
    "                    \"classifier__learning_rate\": [0.001, 0.01, 0.1, 0.2],  \n",
    "                    \"classifier__max_depth\": [3, 5, 7, 10]  \n",
    "                }\n",
    "                \n",
    "                ]\n",
    "            \n",
    "                            "
   ]
  },
  {
   "cell_type": "code",
   "execution_count": 325,
   "id": "2deac402-6554-45f9-9d91-76a439d23caa",
   "metadata": {},
   "outputs": [],
   "source": [
    "# Creating a Pipeline for odels\n",
    "# In the pipeline there are data standardization and \"classifier\" model.\n",
    "\n",
    "pipe = Pipeline([('scaler\", StandardScaler()), (\"classifier\", RandomForestClassifier(random_state = 42))])"
   ]
  },
  {
   "cell_type": "code",
   "execution_count": 326,
   "id": "34299840-cd57-42c9-b748-4e11848a8d24",
   "metadata": {},
   "outputs": [
    {
     "name": "stdout",
     "output_type": "stream",
     "text": [
      "Fitting 5 folds for each of 2768 candidates, totalling 13840 fits\n"
     ]
    }
   ],
   "source": [
    "# Creating GridSearchCv \n",
    "# Using search_space variables\n",
    "# Selected StratifiedKFold cros validation. Maintains class proportions at each layer.\n",
    "\n",
    "clf = GridSearchCV(pipe, search_space, cv = StratifiedKFold(n_splits = 5, shuffle = True, random_state = 42),\n",
    "                                            scoring = \"accuracy\", verbose = 2, n_jobs = -1)\n",
    "\n",
    "\n",
    "# The GridSearchCV process is run on the training data.\n",
    "best_model = clf.fit(X_train, y_train)"
   ]
  },
  {
   "cell_type": "code",
   "execution_count": 50,
   "id": "27618943-8b17-49de-84b5-10baad8548e5",
   "metadata": {},
   "outputs": [
    {
     "data": {
      "text/plain": [
       "{'memory': None,\n",
       " 'steps': [('scaler', StandardScaler()),\n",
       "  ('classifier',\n",
       "   GradientBoostingClassifier(max_depth=10, n_estimators=500, random_state=42))],\n",
       " 'verbose': False,\n",
       " 'scaler': StandardScaler(),\n",
       " 'classifier': GradientBoostingClassifier(max_depth=10, n_estimators=500, random_state=42),\n",
       " 'scaler__copy': True,\n",
       " 'scaler__with_mean': True,\n",
       " 'scaler__with_std': True,\n",
       " 'classifier__ccp_alpha': 0.0,\n",
       " 'classifier__criterion': 'friedman_mse',\n",
       " 'classifier__init': None,\n",
       " 'classifier__learning_rate': 0.1,\n",
       " 'classifier__loss': 'log_loss',\n",
       " 'classifier__max_depth': 10,\n",
       " 'classifier__max_features': None,\n",
       " 'classifier__max_leaf_nodes': None,\n",
       " 'classifier__min_impurity_decrease': 0.0,\n",
       " 'classifier__min_samples_leaf': 1,\n",
       " 'classifier__min_samples_split': 2,\n",
       " 'classifier__min_weight_fraction_leaf': 0.0,\n",
       " 'classifier__n_estimators': 500,\n",
       " 'classifier__n_iter_no_change': None,\n",
       " 'classifier__random_state': 42,\n",
       " 'classifier__subsample': 1.0,\n",
       " 'classifier__tol': 0.0001,\n",
       " 'classifier__validation_fraction': 0.1,\n",
       " 'classifier__verbose': 0,\n",
       " 'classifier__warm_start': False}"
      ]
     },
     "execution_count": 50,
     "metadata": {},
     "output_type": "execute_result"
    }
   ],
   "source": [
    "# We get the hyperparameters of the best model selected by GridSearchCV.\n",
    "\n",
    "best_model.best_estimator_.get_params()"
   ]
  },
  {
   "cell_type": "markdown",
   "id": "ff91415f-39e4-4aba-96b8-55f9dd770c74",
   "metadata": {},
   "source": [
    "## 7.e. According To Accuracy Comparison Of Models"
   ]
  },
  {
   "cell_type": "markdown",
   "id": "c89b5ca9-a15f-4037-bd93-bee44103d6b3",
   "metadata": {},
   "source": [
    "We converted the accuracy results into a dataframe according to the selected parameters with GridSearchCv. We filtered the analysis results in this dataframe and reached the best parameters of each model."
   ]
  },
  {
   "cell_type": "code",
   "execution_count": 513,
   "id": "07daf0cb-3eb9-4548-8cf1-58b0c51ef076",
   "metadata": {},
   "outputs": [
    {
     "data": {
      "text/html": [
       "<div>\n",
       "<style scoped>\n",
       "    .dataframe tbody tr th:only-of-type {\n",
       "        vertical-align: middle;\n",
       "    }\n",
       "\n",
       "    .dataframe tbody tr th {\n",
       "        vertical-align: top;\n",
       "    }\n",
       "\n",
       "    .dataframe thead th {\n",
       "        text-align: right;\n",
       "    }\n",
       "</style>\n",
       "<table border=\"1\" class=\"dataframe\">\n",
       "  <thead>\n",
       "    <tr style=\"text-align: right;\">\n",
       "      <th></th>\n",
       "      <th>mean_fit_time</th>\n",
       "      <th>std_fit_time</th>\n",
       "      <th>mean_score_time</th>\n",
       "      <th>std_score_time</th>\n",
       "      <th>param_classifier</th>\n",
       "      <th>param_classifier__C</th>\n",
       "      <th>param_classifier__penalty</th>\n",
       "      <th>param_classifier__n_neighbors</th>\n",
       "      <th>param_classifier__max_depth</th>\n",
       "      <th>param_classifier__min_samples_leaf</th>\n",
       "      <th>...</th>\n",
       "      <th>param_classifier__learning_rate</th>\n",
       "      <th>params</th>\n",
       "      <th>split0_test_score</th>\n",
       "      <th>split1_test_score</th>\n",
       "      <th>split2_test_score</th>\n",
       "      <th>split3_test_score</th>\n",
       "      <th>split4_test_score</th>\n",
       "      <th>mean_test_score</th>\n",
       "      <th>std_test_score</th>\n",
       "      <th>rank_test_score</th>\n",
       "    </tr>\n",
       "  </thead>\n",
       "  <tbody>\n",
       "    <tr>\n",
       "      <th>0</th>\n",
       "      <td>0.233900</td>\n",
       "      <td>0.016163</td>\n",
       "      <td>0.676676</td>\n",
       "      <td>0.013373</td>\n",
       "      <td>LogisticRegression(solver='liblinear')</td>\n",
       "      <td>0.01</td>\n",
       "      <td>l1</td>\n",
       "      <td>NaN</td>\n",
       "      <td>NaN</td>\n",
       "      <td>NaN</td>\n",
       "      <td>...</td>\n",
       "      <td>NaN</td>\n",
       "      <td>{'classifier': LogisticRegression(solver='libl...</td>\n",
       "      <td>0.837138</td>\n",
       "      <td>0.838289</td>\n",
       "      <td>0.830232</td>\n",
       "      <td>0.837330</td>\n",
       "      <td>0.846892</td>\n",
       "      <td>0.837976</td>\n",
       "      <td>0.005304</td>\n",
       "      <td>429</td>\n",
       "    </tr>\n",
       "    <tr>\n",
       "      <th>1</th>\n",
       "      <td>0.246774</td>\n",
       "      <td>0.019842</td>\n",
       "      <td>0.385585</td>\n",
       "      <td>0.307861</td>\n",
       "      <td>LogisticRegression(solver='liblinear')</td>\n",
       "      <td>0.01</td>\n",
       "      <td>l2</td>\n",
       "      <td>NaN</td>\n",
       "      <td>NaN</td>\n",
       "      <td>NaN</td>\n",
       "      <td>...</td>\n",
       "      <td>NaN</td>\n",
       "      <td>{'classifier': LogisticRegression(solver='libl...</td>\n",
       "      <td>0.842125</td>\n",
       "      <td>0.841742</td>\n",
       "      <td>0.831575</td>\n",
       "      <td>0.839056</td>\n",
       "      <td>0.845549</td>\n",
       "      <td>0.840009</td>\n",
       "      <td>0.004695</td>\n",
       "      <td>426</td>\n",
       "    </tr>\n",
       "    <tr>\n",
       "      <th>2</th>\n",
       "      <td>0.249534</td>\n",
       "      <td>0.040703</td>\n",
       "      <td>0.005546</td>\n",
       "      <td>0.007199</td>\n",
       "      <td>LogisticRegression(solver='liblinear')</td>\n",
       "      <td>0.1</td>\n",
       "      <td>l1</td>\n",
       "      <td>NaN</td>\n",
       "      <td>NaN</td>\n",
       "      <td>NaN</td>\n",
       "      <td>...</td>\n",
       "      <td>NaN</td>\n",
       "      <td>{'classifier': LogisticRegression(solver='libl...</td>\n",
       "      <td>0.848264</td>\n",
       "      <td>0.843276</td>\n",
       "      <td>0.834261</td>\n",
       "      <td>0.841934</td>\n",
       "      <td>0.845741</td>\n",
       "      <td>0.842695</td>\n",
       "      <td>0.004740</td>\n",
       "      <td>423</td>\n",
       "    </tr>\n",
       "    <tr>\n",
       "      <th>3</th>\n",
       "      <td>0.286745</td>\n",
       "      <td>0.017472</td>\n",
       "      <td>0.000655</td>\n",
       "      <td>0.000802</td>\n",
       "      <td>LogisticRegression(solver='liblinear')</td>\n",
       "      <td>0.1</td>\n",
       "      <td>l2</td>\n",
       "      <td>NaN</td>\n",
       "      <td>NaN</td>\n",
       "      <td>NaN</td>\n",
       "      <td>...</td>\n",
       "      <td>NaN</td>\n",
       "      <td>{'classifier': LogisticRegression(solver='libl...</td>\n",
       "      <td>0.847688</td>\n",
       "      <td>0.843085</td>\n",
       "      <td>0.834261</td>\n",
       "      <td>0.842701</td>\n",
       "      <td>0.844589</td>\n",
       "      <td>0.842465</td>\n",
       "      <td>0.004462</td>\n",
       "      <td>424</td>\n",
       "    </tr>\n",
       "    <tr>\n",
       "      <th>4</th>\n",
       "      <td>0.265921</td>\n",
       "      <td>0.033048</td>\n",
       "      <td>0.008620</td>\n",
       "      <td>0.005615</td>\n",
       "      <td>LogisticRegression(solver='liblinear')</td>\n",
       "      <td>1.0</td>\n",
       "      <td>l1</td>\n",
       "      <td>NaN</td>\n",
       "      <td>NaN</td>\n",
       "      <td>NaN</td>\n",
       "      <td>...</td>\n",
       "      <td>NaN</td>\n",
       "      <td>{'classifier': LogisticRegression(solver='libl...</td>\n",
       "      <td>0.848072</td>\n",
       "      <td>0.843276</td>\n",
       "      <td>0.835795</td>\n",
       "      <td>0.843276</td>\n",
       "      <td>0.846124</td>\n",
       "      <td>0.843309</td>\n",
       "      <td>0.004173</td>\n",
       "      <td>420</td>\n",
       "    </tr>\n",
       "  </tbody>\n",
       "</table>\n",
       "<p>5 rows × 28 columns</p>\n",
       "</div>"
      ],
      "text/plain": [
       "   mean_fit_time  std_fit_time  mean_score_time  std_score_time  \\\n",
       "0       0.233900      0.016163         0.676676        0.013373   \n",
       "1       0.246774      0.019842         0.385585        0.307861   \n",
       "2       0.249534      0.040703         0.005546        0.007199   \n",
       "3       0.286745      0.017472         0.000655        0.000802   \n",
       "4       0.265921      0.033048         0.008620        0.005615   \n",
       "\n",
       "                         param_classifier param_classifier__C  \\\n",
       "0  LogisticRegression(solver='liblinear')                0.01   \n",
       "1  LogisticRegression(solver='liblinear')                0.01   \n",
       "2  LogisticRegression(solver='liblinear')                 0.1   \n",
       "3  LogisticRegression(solver='liblinear')                 0.1   \n",
       "4  LogisticRegression(solver='liblinear')                 1.0   \n",
       "\n",
       "  param_classifier__penalty param_classifier__n_neighbors  \\\n",
       "0                        l1                           NaN   \n",
       "1                        l2                           NaN   \n",
       "2                        l1                           NaN   \n",
       "3                        l2                           NaN   \n",
       "4                        l1                           NaN   \n",
       "\n",
       "  param_classifier__max_depth param_classifier__min_samples_leaf  ...  \\\n",
       "0                         NaN                                NaN  ...   \n",
       "1                         NaN                                NaN  ...   \n",
       "2                         NaN                                NaN  ...   \n",
       "3                         NaN                                NaN  ...   \n",
       "4                         NaN                                NaN  ...   \n",
       "\n",
       "  param_classifier__learning_rate  \\\n",
       "0                             NaN   \n",
       "1                             NaN   \n",
       "2                             NaN   \n",
       "3                             NaN   \n",
       "4                             NaN   \n",
       "\n",
       "                                              params split0_test_score  \\\n",
       "0  {'classifier': LogisticRegression(solver='libl...          0.837138   \n",
       "1  {'classifier': LogisticRegression(solver='libl...          0.842125   \n",
       "2  {'classifier': LogisticRegression(solver='libl...          0.848264   \n",
       "3  {'classifier': LogisticRegression(solver='libl...          0.847688   \n",
       "4  {'classifier': LogisticRegression(solver='libl...          0.848072   \n",
       "\n",
       "  split1_test_score split2_test_score split3_test_score split4_test_score  \\\n",
       "0          0.838289          0.830232          0.837330          0.846892   \n",
       "1          0.841742          0.831575          0.839056          0.845549   \n",
       "2          0.843276          0.834261          0.841934          0.845741   \n",
       "3          0.843085          0.834261          0.842701          0.844589   \n",
       "4          0.843276          0.835795          0.843276          0.846124   \n",
       "\n",
       "  mean_test_score std_test_score rank_test_score  \n",
       "0        0.837976       0.005304             429  \n",
       "1        0.840009       0.004695             426  \n",
       "2        0.842695       0.004740             423  \n",
       "3        0.842465       0.004462             424  \n",
       "4        0.843309       0.004173             420  \n",
       "\n",
       "[5 rows x 28 columns]"
      ]
     },
     "execution_count": 513,
     "metadata": {},
     "output_type": "execute_result"
    }
   ],
   "source": [
    "# Converting DataFrame best model results.\n",
    "models = pd.DataFrame(best_model.cv_results_)\n",
    "\n",
    "# Display 5 rows\n",
    "models.head()"
   ]
  },
  {
   "cell_type": "code",
   "execution_count": 367,
   "id": "b536228a-c53f-402f-92f3-36173444cdbe",
   "metadata": {
    "scrolled": true
   },
   "outputs": [
    {
     "data": {
      "text/html": [
       "<div>\n",
       "<style scoped>\n",
       "    .dataframe tbody tr th:only-of-type {\n",
       "        vertical-align: middle;\n",
       "    }\n",
       "\n",
       "    .dataframe tbody tr th {\n",
       "        vertical-align: top;\n",
       "    }\n",
       "\n",
       "    .dataframe thead th {\n",
       "        text-align: right;\n",
       "    }\n",
       "</style>\n",
       "<table border=\"1\" class=\"dataframe\">\n",
       "  <thead>\n",
       "    <tr style=\"text-align: right;\">\n",
       "      <th></th>\n",
       "      <th>param_classifier</th>\n",
       "      <th>mean_test_score</th>\n",
       "      <th>params</th>\n",
       "    </tr>\n",
       "  </thead>\n",
       "  <tbody>\n",
       "    <tr>\n",
       "      <th>1</th>\n",
       "      <td>GradientBoostingClassifier</td>\n",
       "      <td>0.930018</td>\n",
       "      <td>{'classifier': GradientBoostingClassifier(rand...</td>\n",
       "    </tr>\n",
       "    <tr>\n",
       "      <th>2</th>\n",
       "      <td>XGBClassifier</td>\n",
       "      <td>0.927371</td>\n",
       "      <td>{'classifier': XGBClassifier(base_score=None, ...</td>\n",
       "    </tr>\n",
       "    <tr>\n",
       "      <th>3</th>\n",
       "      <td>RandomForestClassifier</td>\n",
       "      <td>0.918393</td>\n",
       "      <td>{'classifier': RandomForestClassifier(random_s...</td>\n",
       "    </tr>\n",
       "    <tr>\n",
       "      <th>4</th>\n",
       "      <td>KNeighborsClassifier</td>\n",
       "      <td>0.861917</td>\n",
       "      <td>{'classifier': KNeighborsClassifier(), 'classi...</td>\n",
       "    </tr>\n",
       "    <tr>\n",
       "      <th>5</th>\n",
       "      <td>AdaBoostClassifier</td>\n",
       "      <td>0.860497</td>\n",
       "      <td>{'classifier': AdaBoostClassifier(), 'classifi...</td>\n",
       "    </tr>\n",
       "    <tr>\n",
       "      <th>6</th>\n",
       "      <td>LogisticRegression</td>\n",
       "      <td>0.843386</td>\n",
       "      <td>{'classifier': LogisticRegression(solver='libl...</td>\n",
       "    </tr>\n",
       "  </tbody>\n",
       "</table>\n",
       "</div>"
      ],
      "text/plain": [
       "             param_classifier  mean_test_score  \\\n",
       "1  GradientBoostingClassifier         0.930018   \n",
       "2               XGBClassifier         0.927371   \n",
       "3      RandomForestClassifier         0.918393   \n",
       "4        KNeighborsClassifier         0.861917   \n",
       "5          AdaBoostClassifier         0.860497   \n",
       "6          LogisticRegression         0.843386   \n",
       "\n",
       "                                              params  \n",
       "1  {'classifier': GradientBoostingClassifier(rand...  \n",
       "2  {'classifier': XGBClassifier(base_score=None, ...  \n",
       "3  {'classifier': RandomForestClassifier(random_s...  \n",
       "4  {'classifier': KNeighborsClassifier(), 'classi...  \n",
       "5  {'classifier': AdaBoostClassifier(), 'classifi...  \n",
       "6  {'classifier': LogisticRegression(solver='libl...  "
      ]
     },
     "execution_count": 367,
     "metadata": {},
     "output_type": "execute_result"
    }
   ],
   "source": [
    "\n",
    "def summarize_grid_search_results(grid_search):\n",
    "    \n",
    "    \"\"\"\n",
    "    \n",
    "    ##################################################################\n",
    "    \n",
    "    Summarizes the results of a GridSearchCV object by extracting \n",
    "    the mean test scores for each classifier and selecting the best \n",
    "    results based on accuracy score. \n",
    "\n",
    "    Parameters:\n",
    "    GridSearchCV object\n",
    "        The GridSearchCV object containing the cross-validation results.\n",
    "\n",
    "    Returns:\n",
    "    A DataFrame containing the classifier names and their corresponding \n",
    "    mean test scores.\n",
    "    \n",
    "    ###################################################################\n",
    "    \n",
    "    \"\"\"\n",
    "    \n",
    "    # Convert GridSearchCV results to DataFrame\n",
    "    models = pd.DataFrame(grid_search.cv_results_)\n",
    "    \n",
    "    # Drop rows with NaN in \"mean_test_score\" or \"param_classifier\"\n",
    "    models = models.dropna(subset=[\"mean_test_score\", \"param_classifier\", \"params\"])\n",
    "    \n",
    "    # convert str param classifier column\n",
    "    models[\"param_classifier\"] = models[\"param_classifier\"].astype(str)\n",
    "    \n",
    "    # Split model names to get just the classifier name (excluding parameters)\n",
    "    models[\"param_classifier\"] = models[\"param_classifier\"].apply(lambda x: x.split(\"(\")[0].strip())\n",
    "    \n",
    "    # Select columns of interest\n",
    "    columns_of_interest = [\"param_classifier\", \"mean_test_score\", \"params\"]\n",
    "    \n",
    "    # Ensure only these columns are kept\n",
    "    models = models[columns_of_interest]\n",
    "    \n",
    "    # Select best accuracy scores\n",
    "    best_results = models.loc[models.groupby(\"param_classifier\")[\"mean_test_score\"].idxmax()]\n",
    "    \n",
    "    # Sort by mean_test_score in descending order\n",
    "    best_results = best_results.sort_values(by=\"mean_test_score\", ascending=False).reset_index(drop=True)\n",
    "    \n",
    "    # Set index to start from 1\n",
    "    best_results.index = best_results.index + 1\n",
    "\n",
    "    return best_results\n",
    "\n",
    "# Applying the function to the GridSearchCV results\n",
    "best_summary_df = summarize_grid_search_results(best_model)\n",
    "best_summary_df"
   ]
  },
  {
   "cell_type": "code",
   "execution_count": 370,
   "id": "4a5a8ba6-aa2e-4f6e-9536-5d09eb280309",
   "metadata": {
    "scrolled": true
   },
   "outputs": [
    {
     "data": {
      "image/png": "[encoded data removed]",
      "text/plain": [
       "<Figure size 640x480 with 1 Axes>"
      ]
     },
     "metadata": {},
     "output_type": "display_data"
    }
   ],
   "source": [
    "# Create a bar plot to examine the models\n",
    "plt.figure()\n",
    "bar_plot = sns.barplot(data = best_summary_df, x = \"param_classifier\", y = \"mean_test_score\", hue = \"param_classifier\")\n",
    "plt.ylim(0.80, 0.95)\n",
    "plt.title(\"Model Comparison According To Accuracy\")\n",
    "plt.xlabel(\"Models\")\n",
    "plt.ylabel(\"Accuracy\")\n",
    "plt.xticks(rotation = 45, ha = \"right\")\n",
    "\n",
    "# Annotate each bar with its value\n",
    "for p in bar_plot.patches:\n",
    "    height = p.get_height()\n",
    "    bar_plot.annotate(f\"{height:.3}\", (p.get_x() + p.get_width() / 2, height),\n",
    "                      ha = \"center\", va = \"center\", fontsize = 10)\n",
    "\n",
    "plt.tight_layout()\n",
    "plt.show()\n"
   ]
  },
  {
   "cell_type": "markdown",
   "id": "11e7ae00-f934-46bb-a65e-8d13e7c0d125",
   "metadata": {},
   "source": [
    "GridSearchCV determined the best model as GradientBoostingClassifier. As a result of the modeling, the Accuracy score: 0.930018. \n",
    "* The best model parameters determined were: GradientBoostingClassifier(max_depth=10, n_estimators=500, random_state=42)."
   ]
  },
  {
   "cell_type": "code",
   "execution_count": 376,
   "id": "d159ff9a-d0b7-4b55-a425-6371df67c8ed",
   "metadata": {},
   "outputs": [
    {
     "data": {
      "text/plain": [
       "array([{'classifier': GradientBoostingClassifier(random_state=42), 'classifier__learning_rate': 0.1, 'classifier__max_depth': 10, 'classifier__n_estimators': 500},\n",
       "       {'classifier': XGBClassifier(base_score=None, booster=None, callbacks=None,\n",
       "                     colsample_bylevel=None, colsample_bynode=None,\n",
       "                     colsample_bytree=None, device=None, early_stopping_rounds=None,\n",
       "                     enable_categorical=False, eval_metric=None, feature_types=None,\n",
       "                     gamma=None, grow_policy=None, importance_type=None,\n",
       "                     interaction_constraints=None, learning_rate=None, max_bin=None,\n",
       "                     max_cat_threshold=None, max_cat_to_onehot=None,\n",
       "                     max_delta_step=None, max_depth=None, max_leaves=None,\n",
       "                     min_child_weight=None, missing=nan, monotone_constraints=None,\n",
       "                     multi_strategy=None, n_estimators=None, n_jobs=None,\n",
       "                     num_parallel_tree=None, random_state=42, ...), 'classifier__learning_rate': 0.1, 'classifier__max_depth': 10, 'classifier__n_estimators': 300},\n",
       "       {'classifier': RandomForestClassifier(random_state=42), 'classifier__max_depth': 50, 'classifier__min_samples_leaf': 2, 'classifier__min_samples_split': 2, 'classifier__n_estimators': 1000}],\n",
       "      dtype=object)"
      ]
     },
     "execution_count": 376,
     "metadata": {},
     "output_type": "execute_result"
    }
   ],
   "source": [
    "# Top  parameters of  best 3 models\n",
    "\n",
    "top_params = np.array(best_summary_df.iloc[:3][\"params\"])\n",
    "top_params"
   ]
  },
  {
   "cell_type": "markdown",
   "id": "b554a3f7-6563-4106-be80-467767327703",
   "metadata": {},
   "source": [
    "#### Top  parameters of  best 3 models and hypermarameters\n",
    "\n",
    "GradientBoostingClassifier(random_state=42, learning_rate = 0.1, max_depth = 10, n_estimators = 500)\n",
    "\n",
    "RandomForestClassifier(random_state=42, max_depth = 50, min_samples_leaf = 2, min_samples_split = 2, n_estimators = 1000)\n",
    "\n",
    "XGBClassifier( random_state=42,  learning_rate =  0.1, max_depth = 10, n_estimators = 300)\n",
    " "
   ]
  },
  {
   "cell_type": "markdown",
   "id": "ff66627d-2181-479f-b21e-32e38b5c5626",
   "metadata": {},
   "source": [
    "## 7.e.a. Remodelling With Best Model (GradientBoostingClassifier)"
   ]
  },
  {
   "cell_type": "code",
   "execution_count": 444,
   "id": "332c91cc-d227-4acd-a601-269298fced85",
   "metadata": {},
   "outputs": [],
   "source": [
    "# Build  GdradientBoostingClassifier model\n",
    "selected_model_gr = GradientBoostingClassifier(max_depth = 10, n_estimators = 500, random_state = 42)\n",
    "\n",
    "# Fit model\n",
    "selected_model_gr.fit(X_train, y_train)\n",
    "\n",
    "# Predicting y_pred using X_test values\n",
    "y_pred_gr = selected_model_gr.predict(X_test)\n",
    "\n",
    "# Calculate predicted probabilities\n",
    "y_proba_gr = selected_model_gr.predict_proba(X_test)"
   ]
  },
  {
   "cell_type": "markdown",
   "id": "4d39a2d8-5f0e-43c2-b99c-da36e662603f",
   "metadata": {},
   "source": [
    "## 7.e.b. Display Confusion Matrix (GradientBoostingClassifier)"
   ]
  },
  {
   "cell_type": "code",
   "execution_count": 445,
   "id": "6588445a-0ee7-42f1-9369-11dfb4709f32",
   "metadata": {},
   "outputs": [
    {
     "data": {
      "image/png": "[encoded data removed]",
      "text/plain": [
       "<Figure size 640x480 with 1 Axes>"
      ]
     },
     "metadata": {},
     "output_type": "display_data"
    }
   ],
   "source": [
    "# Create confusion matrix\n",
    "cm_gr = confusion_matrix(y_test, y_pred_gr)\n",
    "\n",
    "# Display confusion matrix \n",
    "disp = ConfusionMatrixDisplay(confusion_matrix = cm_gr, display_labels = selected_model.classes_)\n",
    "disp.plot(cmap = plt.cm.Reds, colorbar = False)\n",
    "plt.title(\"GradientBoostingClassifier\")\n",
    "plt.show()"
   ]
  },
  {
   "cell_type": "markdown",
   "id": "86516404-dd48-4765-a3b7-1d1651409cd6",
   "metadata": {},
   "source": [
    "## 7.e.c. Display Classification Report (GradientBoostingClassifier)"
   ]
  },
  {
   "cell_type": "code",
   "execution_count": 446,
   "id": "11aaa8fc-596d-4013-b7f1-868eb2e39979",
   "metadata": {},
   "outputs": [
    {
     "data": {
      "text/html": [
       "<div>\n",
       "<style scoped>\n",
       "    .dataframe tbody tr th:only-of-type {\n",
       "        vertical-align: middle;\n",
       "    }\n",
       "\n",
       "    .dataframe tbody tr th {\n",
       "        vertical-align: top;\n",
       "    }\n",
       "\n",
       "    .dataframe thead th {\n",
       "        text-align: right;\n",
       "    }\n",
       "</style>\n",
       "<table border=\"1\" class=\"dataframe\">\n",
       "  <thead>\n",
       "    <tr style=\"text-align: right;\">\n",
       "      <th></th>\n",
       "      <th>precision</th>\n",
       "      <th>recall</th>\n",
       "      <th>f1-score</th>\n",
       "      <th>support</th>\n",
       "    </tr>\n",
       "  </thead>\n",
       "  <tbody>\n",
       "    <tr>\n",
       "      <th>0</th>\n",
       "      <td>0.937071</td>\n",
       "      <td>0.980385</td>\n",
       "      <td>0.958238</td>\n",
       "      <td>5149.000000</td>\n",
       "    </tr>\n",
       "    <tr>\n",
       "      <th>1</th>\n",
       "      <td>0.910619</td>\n",
       "      <td>0.752193</td>\n",
       "      <td>0.823859</td>\n",
       "      <td>1368.000000</td>\n",
       "    </tr>\n",
       "    <tr>\n",
       "      <th>accuracy</th>\n",
       "      <td>0.932484</td>\n",
       "      <td>0.932484</td>\n",
       "      <td>0.932484</td>\n",
       "      <td>0.932484</td>\n",
       "    </tr>\n",
       "    <tr>\n",
       "      <th>macro avg</th>\n",
       "      <td>0.923845</td>\n",
       "      <td>0.866289</td>\n",
       "      <td>0.891049</td>\n",
       "      <td>6517.000000</td>\n",
       "    </tr>\n",
       "    <tr>\n",
       "      <th>weighted avg</th>\n",
       "      <td>0.931518</td>\n",
       "      <td>0.932484</td>\n",
       "      <td>0.930031</td>\n",
       "      <td>6517.000000</td>\n",
       "    </tr>\n",
       "  </tbody>\n",
       "</table>\n",
       "</div>"
      ],
      "text/plain": [
       "              precision    recall  f1-score      support\n",
       "0              0.937071  0.980385  0.958238  5149.000000\n",
       "1              0.910619  0.752193  0.823859  1368.000000\n",
       "accuracy       0.932484  0.932484  0.932484     0.932484\n",
       "macro avg      0.923845  0.866289  0.891049  6517.000000\n",
       "weighted avg   0.931518  0.932484  0.930031  6517.000000"
      ]
     },
     "execution_count": 446,
     "metadata": {},
     "output_type": "execute_result"
    }
   ],
   "source": [
    "# Create a classification report to interpret the results\n",
    "report_gr = classification_report(y_test, y_pred_gr, output_dict = True)\n",
    "\n",
    "# Convert DataFrame\n",
    "report_df = pd.DataFrame(report).transpose()\n",
    "report_df"
   ]
  },
  {
   "cell_type": "markdown",
   "id": "b737298e-6b00-4fc8-8504-23ad94eecca8",
   "metadata": {},
   "source": [
    "## 7.e.d. Display ROC Curve (GradientBoostingClassifier)"
   ]
  },
  {
   "cell_type": "code",
   "execution_count": 452,
   "id": "39a94a8f-6c8e-4a9e-9465-5cb5c80093cb",
   "metadata": {},
   "outputs": [
    {
     "data": {
      "image/png": "[encoded data removed]",
      "text/plain": [
       "<Figure size 640x480 with 1 Axes>"
      ]
     },
     "metadata": {},
     "output_type": "display_data"
    }
   ],
   "source": [
    "# Calculate ROC Curve\n",
    "fpr, tpr, thresholds = roc_curve(y_test, y_proba_gr[:, 1])\n",
    "roc_auc = auc(fpr, tpr)\n",
    "\n",
    "#  Drawing ROC curve \n",
    "plt.figure()\n",
    "plt.plot(fpr, tpr, color = \"orange\",  label = f\"ROC curve (area = {roc_auc:.2f})\")\n",
    "plt.plot([0, 1], [0, 1], color = \"blue\",  linestyle = \"--\")\n",
    "plt.xlim([0.0, 1.0])\n",
    "plt.ylim([0.0, 1.05])\n",
    "plt.xlabel(\"False Positive Rate\")\n",
    "plt.ylabel(\"True Positive Rate\")\n",
    "plt.title(\"Receiver Operating Characteristic (ROC)\")\n",
    "plt.legend(loc = \"lower right\")\n",
    "plt.show()"
   ]
  },
  {
   "cell_type": "markdown",
   "id": "d3e8772d-4a5b-44bf-9924-c8152305daf1",
   "metadata": {},
   "source": [
    "## 7.e.e. Remodelling With Top Models (XGBoost)"
   ]
  },
  {
   "cell_type": "code",
   "execution_count": 453,
   "id": "d517fb18-6443-4941-b047-a0ac563351e6",
   "metadata": {},
   "outputs": [],
   "source": [
    "# Building the XGBClassifier model\n",
    "selected_model_xg = XGBClassifier(random_state = 42, learning_rate = 0.1, max_depth = 10, n_estimators = 300)\n",
    "\n",
    "# Fitting the model\n",
    "selected_model_xg.fit(X_train, y_train)\n",
    "\n",
    "# Predicting y_pred using X_test values\n",
    "y_pred_xg = selected_model_xg.predict(X_test)\n",
    "\n",
    "# Calculate predicted probabilities\n",
    "y_proba_xg = selected_model_xg.predict_proba(X_test)"
   ]
  },
  {
   "cell_type": "markdown",
   "id": "ef82426c-e75d-4e84-a609-813025f5c041",
   "metadata": {},
   "source": [
    "## 7.e.f. Display Confusion Matrix (XGBoost)"
   ]
  },
  {
   "cell_type": "code",
   "execution_count": 454,
   "id": "468d33fe-0c6a-4187-aa09-af840b6242c2",
   "metadata": {},
   "outputs": [
    {
     "data": {
      "image/png": "[encoded data removed]",
      "text/plain": [
       "<Figure size 640x480 with 1 Axes>"
      ]
     },
     "metadata": {},
     "output_type": "display_data"
    }
   ],
   "source": [
    "# Create confusion matrix\n",
    "cm_xg = confusion_matrix(y_test, y_pred_xg)\n",
    "\n",
    "# Display confusion matrix \n",
    "disp = ConfusionMatrixDisplay(confusion_matrix = cm_xg, display_labels = selected_model_xg.classes_)\n",
    "disp.plot(cmap = plt.cm.Reds, colorbar = False)\n",
    "plt.title(\"XGBoost\")\n",
    "plt.show()"
   ]
  },
  {
   "cell_type": "markdown",
   "id": "f1e810d6-66d1-4592-a3d5-0b1bd44d4f8c",
   "metadata": {},
   "source": [
    "## 7.e.g. Display Classification Report (XGBoost)"
   ]
  },
  {
   "cell_type": "code",
   "execution_count": 455,
   "id": "312a0a26-02ab-4a4d-9e1a-109c96d50e58",
   "metadata": {},
   "outputs": [
    {
     "data": {
      "text/html": [
       "<div>\n",
       "<style scoped>\n",
       "    .dataframe tbody tr th:only-of-type {\n",
       "        vertical-align: middle;\n",
       "    }\n",
       "\n",
       "    .dataframe tbody tr th {\n",
       "        vertical-align: top;\n",
       "    }\n",
       "\n",
       "    .dataframe thead th {\n",
       "        text-align: right;\n",
       "    }\n",
       "</style>\n",
       "<table border=\"1\" class=\"dataframe\">\n",
       "  <thead>\n",
       "    <tr style=\"text-align: right;\">\n",
       "      <th></th>\n",
       "      <th>precision</th>\n",
       "      <th>recall</th>\n",
       "      <th>f1-score</th>\n",
       "      <th>support</th>\n",
       "    </tr>\n",
       "  </thead>\n",
       "  <tbody>\n",
       "    <tr>\n",
       "      <th>0</th>\n",
       "      <td>0.933506</td>\n",
       "      <td>0.981550</td>\n",
       "      <td>0.956925</td>\n",
       "      <td>5149.000000</td>\n",
       "    </tr>\n",
       "    <tr>\n",
       "      <th>1</th>\n",
       "      <td>0.913871</td>\n",
       "      <td>0.736842</td>\n",
       "      <td>0.815864</td>\n",
       "      <td>1368.000000</td>\n",
       "    </tr>\n",
       "    <tr>\n",
       "      <th>accuracy</th>\n",
       "      <td>0.930183</td>\n",
       "      <td>0.930183</td>\n",
       "      <td>0.930183</td>\n",
       "      <td>0.930183</td>\n",
       "    </tr>\n",
       "    <tr>\n",
       "      <th>macro avg</th>\n",
       "      <td>0.923688</td>\n",
       "      <td>0.859196</td>\n",
       "      <td>0.886395</td>\n",
       "      <td>6517.000000</td>\n",
       "    </tr>\n",
       "    <tr>\n",
       "      <th>weighted avg</th>\n",
       "      <td>0.929384</td>\n",
       "      <td>0.930183</td>\n",
       "      <td>0.927315</td>\n",
       "      <td>6517.000000</td>\n",
       "    </tr>\n",
       "  </tbody>\n",
       "</table>\n",
       "</div>"
      ],
      "text/plain": [
       "              precision    recall  f1-score      support\n",
       "0              0.933506  0.981550  0.956925  5149.000000\n",
       "1              0.913871  0.736842  0.815864  1368.000000\n",
       "accuracy       0.930183  0.930183  0.930183     0.930183\n",
       "macro avg      0.923688  0.859196  0.886395  6517.000000\n",
       "weighted avg   0.929384  0.930183  0.927315  6517.000000"
      ]
     },
     "execution_count": 455,
     "metadata": {},
     "output_type": "execute_result"
    }
   ],
   "source": [
    "# Create a classification report to interpret the results\n",
    "report_xg = classification_report(y_test, y_pred_xg, output_dict = True)\n",
    "\n",
    "# Convert DataFrame\n",
    "report_df_xg = pd.DataFrame(report_xg).transpose()\n",
    "report_df_xg"
   ]
  },
  {
   "cell_type": "markdown",
   "id": "08b3edd3-2b6c-409b-9614-2e9c5ce3f725",
   "metadata": {},
   "source": [
    "## 7.e.h. Remodelling With Top Model (RandomForestClassifier)"
   ]
  },
  {
   "cell_type": "code",
   "execution_count": 456,
   "id": "91385cf8-792d-459d-be77-9c30db52b8de",
   "metadata": {},
   "outputs": [],
   "source": [
    "# Build  RandomForestClassifier model\n",
    "selected_model_rf = RandomForestClassifier(random_state=42, max_depth = 50, min_samples_leaf = 2, min_samples_split = 2, n_estimators = 1000)\n",
    "\n",
    "# Fitting model\n",
    "selected_model_rf.fit(X_train, y_train)\n",
    "\n",
    "# Predicting y_pred using X_test values\n",
    "y_pred_rf = selected_model_rf.predict(X_test)\n",
    "\n",
    "# Calculate predicted probabilities\n",
    "y_proba_rf = selected_model_rf.predict_proba(X_test)"
   ]
  },
  {
   "cell_type": "markdown",
   "id": "dc49e9d1-1561-4bc4-ae30-9a91d1b81125",
   "metadata": {},
   "source": [
    "## 7.e.i. Display Confusion Matrix (RandomForestClassifier)"
   ]
  },
  {
   "cell_type": "code",
   "execution_count": 457,
   "id": "47ec7419-9e91-40ae-bb63-2bca94b69eec",
   "metadata": {
    "scrolled": true
   },
   "outputs": [
    {
     "data": {
      "image/png": "[encoded data removed]",
      "text/plain": [
       "<Figure size 640x480 with 1 Axes>"
      ]
     },
     "metadata": {},
     "output_type": "display_data"
    }
   ],
   "source": [
    "# Create confusion matrix\n",
    "cm_rf = confusion_matrix(y_test, y_pred_rf)\n",
    "\n",
    "# Display confusion matrix \n",
    "disp = ConfusionMatrixDisplay(confusion_matrix = cm_rf, display_labels = selected_model_rf.classes_)\n",
    "disp.plot(cmap = plt.cm.Reds, colorbar = False)\n",
    "plt.title(\"RandomForestClassifier\")\n",
    "plt.show()"
   ]
  },
  {
   "cell_type": "markdown",
   "id": "59825520-fc19-4ee3-93e0-e91e8ee97128",
   "metadata": {},
   "source": [
    "## 7.e.j. Display Classification Report (RandomForestClassifier)"
   ]
  },
  {
   "cell_type": "code",
   "execution_count": 458,
   "id": "0515b914-97d0-4208-b1e7-65431b61e4d4",
   "metadata": {},
   "outputs": [
    {
     "data": {
      "text/html": [
       "<div>\n",
       "<style scoped>\n",
       "    .dataframe tbody tr th:only-of-type {\n",
       "        vertical-align: middle;\n",
       "    }\n",
       "\n",
       "    .dataframe tbody tr th {\n",
       "        vertical-align: top;\n",
       "    }\n",
       "\n",
       "    .dataframe thead th {\n",
       "        text-align: right;\n",
       "    }\n",
       "</style>\n",
       "<table border=\"1\" class=\"dataframe\">\n",
       "  <thead>\n",
       "    <tr style=\"text-align: right;\">\n",
       "      <th></th>\n",
       "      <th>precision</th>\n",
       "      <th>recall</th>\n",
       "      <th>f1-score</th>\n",
       "      <th>support</th>\n",
       "    </tr>\n",
       "  </thead>\n",
       "  <tbody>\n",
       "    <tr>\n",
       "      <th>0</th>\n",
       "      <td>0.922993</td>\n",
       "      <td>0.984657</td>\n",
       "      <td>0.952828</td>\n",
       "      <td>5149.000000</td>\n",
       "    </tr>\n",
       "    <tr>\n",
       "      <th>1</th>\n",
       "      <td>0.922852</td>\n",
       "      <td>0.690789</td>\n",
       "      <td>0.790134</td>\n",
       "      <td>1368.000000</td>\n",
       "    </tr>\n",
       "    <tr>\n",
       "      <th>accuracy</th>\n",
       "      <td>0.922971</td>\n",
       "      <td>0.922971</td>\n",
       "      <td>0.922971</td>\n",
       "      <td>0.922971</td>\n",
       "    </tr>\n",
       "    <tr>\n",
       "      <th>macro avg</th>\n",
       "      <td>0.922922</td>\n",
       "      <td>0.837723</td>\n",
       "      <td>0.871481</td>\n",
       "      <td>6517.000000</td>\n",
       "    </tr>\n",
       "    <tr>\n",
       "      <th>weighted avg</th>\n",
       "      <td>0.922963</td>\n",
       "      <td>0.922971</td>\n",
       "      <td>0.918677</td>\n",
       "      <td>6517.000000</td>\n",
       "    </tr>\n",
       "  </tbody>\n",
       "</table>\n",
       "</div>"
      ],
      "text/plain": [
       "              precision    recall  f1-score      support\n",
       "0              0.922993  0.984657  0.952828  5149.000000\n",
       "1              0.922852  0.690789  0.790134  1368.000000\n",
       "accuracy       0.922971  0.922971  0.922971     0.922971\n",
       "macro avg      0.922922  0.837723  0.871481  6517.000000\n",
       "weighted avg   0.922963  0.922971  0.918677  6517.000000"
      ]
     },
     "execution_count": 458,
     "metadata": {},
     "output_type": "execute_result"
    }
   ],
   "source": [
    "# Create a classification report to interpret the results\n",
    "report_rf = classification_report(y_test, y_pred_rf, output_dict = True)\n",
    "\n",
    "# Convert DataFrame\n",
    "report_df = pd.DataFrame(report_rf).transpose()\n",
    "report_df"
   ]
  },
  {
   "cell_type": "markdown",
   "id": "b87e3acd-affc-47b1-be20-f629b8c646e8",
   "metadata": {},
   "source": [
    "## 7.f. Interpreting Consequences"
   ]
  },
  {
   "cell_type": "markdown",
   "id": "4bb310e7-6436-427c-9ace-b6a4e24e265e",
   "metadata": {},
   "source": [
    "When the results were examined, GradientBoostingClassifier was determined as the best model.\n",
    "\n",
    "\n",
    "Confusion matrix is ​​used to measure the performance of your classification model\n",
    "The confusion matrix used when determining a bank's lending strategy can be interpreted as follows:\n",
    "\n",
    "\n",
    "\n",
    "True Positives (TP): The model accurately predicts customers who will repay the loan.\n",
    "\n",
    "\n",
    "True Negatives (TN): The model accurately predicts customers who will not repay the loan.\n",
    "\n",
    "\n",
    "False Positives (FP): The model grants loans to customers who will not repay the loan (bad credit risk).\n",
    "\n",
    "\n",
    "False Negatives (FN): The model does not grant loans to customers who will repay the loan (loss of potential profits)."
   ]
  },
  {
   "cell_type": "markdown",
   "id": "54c9a321-41e4-48f6-bdd0-da7df800a16f",
   "metadata": {},
   "source": [
    "\r\n",
    "If we examine the values ​​above, we see that the best model is the GradientBoosting classifier\n",
    "\n",
    "\n",
    "* No Default Class\n",
    "  \n",
    "Precision (0.936056):\n",
    "Shows how accurate the model's positive predictions are for Class 0. The model is quite successful in predicting negative classes correctly.\n",
    "\r\n",
    "Recall (0.983686)\n",
    " Shows how well the model captures true negative examples for Class 0. The model showed a very high performance in capturing negative classes\n",
    "\n",
    "F1-Score (0.959280): \n",
    "This value indicates that the model has a balanced performance for Class 0.\n",
    "\n",
    "* Default Class\n",
    "\n",
    "Precision (0.924051): \n",
    "Shows the accuracy of the model's positive predictions for Class 1. The model is successful in predicting positive classes correctly.\n",
    "\r\n",
    "Recall (0.747076):\n",
    " Shows how well the model captures true positive examples for Class 1. The model showed moderate performance in capturing positive classes\n",
    "\n",
    "\n",
    "\r\n",
    "F1-Score (0.826192\n",
    "This value indicates a slightly lower performance in positive classes.\n",
    "s..."
   ]
  },
  {
   "cell_type": "markdown",
   "id": "09c276dc-e883-41ad-9158-66b2cf9a7374",
   "metadata": {},
   "source": [
    "## 8. Treshold Optimization (GradientBoostingClassifier)"
   ]
  },
  {
   "cell_type": "code",
   "execution_count": 477,
   "id": "1191992b-5018-4d0c-b52f-86c512600168",
   "metadata": {},
   "outputs": [
    {
     "name": "stdout",
     "output_type": "stream",
     "text": [
      "Optimal eşik değeri: 0.022290952030143734\n"
     ]
    }
   ],
   "source": [
    "fpr, tpr, thresholds = roc_curve(y_test, y_proba_gr[:, 1])\n",
    "\n",
    "# Finding optimum Treshold\n",
    "optimal_idx = np.argmax(tpr - fpr)\n",
    "optimal_threshold = thresholds[optimal_idx]\n",
    "\n",
    "# Print optimum treshold\n",
    "print(f\"Optimal eşik değeri: {optimal_threshold}\")"
   ]
  },
  {
   "cell_type": "code",
   "execution_count": 476,
   "id": "b6303812-f96a-4de6-a277-1c4cf5dfcf71",
   "metadata": {},
   "outputs": [
    {
     "data": {
      "image/png": "[encoded data removed]",
      "text/plain": [
       "<Figure size 640x480 with 1 Axes>"
      ]
     },
     "metadata": {},
     "output_type": "display_data"
    },
    {
     "name": "stdout",
     "output_type": "stream",
     "text": [
      "              precision    recall  f1-score     support\n",
      "0              0.957296  0.918625  0.937562  5149.00000\n",
      "1              0.734137  0.845760  0.786005  1368.00000\n",
      "accuracy       0.903330  0.903330  0.903330     0.90333\n",
      "macro avg      0.845717  0.882193  0.861784  6517.00000\n",
      "weighted avg   0.910452  0.903330  0.905748  6517.00000\n"
     ]
    }
   ],
   "source": [
    "\n",
    "# Using optimum  treshold for prediction\n",
    "y_pred_opt = np.where(y_proba_gr[:, 1] >= optimal_threshold, 1, 0)\n",
    "\n",
    "# Create confusion matrix and display\n",
    "cm_opt = confusion_matrix(y_test, y_pred_opt)\n",
    "disp = ConfusionMatrixDisplay(confusion_matrix = cm_opt, display_labels = selected_model_gr.classes_)\n",
    "disp.plot(cmap = plt.cm.Reds, colorbar=False)\n",
    "plt.plot(\"GradientBoosting with Optimizated Treshold\")\n",
    "plt.show()\n",
    "\n",
    "# Create classification report table\n",
    "report_opt = classification_report(y_test, y_pred_opt, output_dict=True)\n",
    "report_df_opt = pd.DataFrame(report_opt).transpose()\n",
    "print(report_df_opt)\n"
   ]
  },
  {
   "cell_type": "markdown",
   "id": "c2396c8f-ad3c-4a3c-b16f-794b94f4070a",
   "metadata": {
    "jp-MarkdownHeadingCollapsed": true
   },
   "source": [
    "When we examine the new confusion matrix and its associated metrics after threshold optimization, we can observe improvements in certain aspects of our model's performance.\n",
    "\n",
    "### Analysis of New Results\n",
    "\n",
    "* True Negatives (TN): Decreased from 5065 to 4730\n",
    "* False Positives (FP): Increased from 84 to 419\n",
    "* False Negatives (FN): Decreased from 346 to 211\n",
    "* True Positives (TP): Increased from 1022 to 1157\n",
    "\n",
    "Although the sensitivity of the model (correctly classifying positive samples) increased, its specificity (correctly classifying negative samples) decreased significantly. This caused the model to produce more false positives. In general, it can be said that there is a decrease in the performance of the model.\n",
    "\n",
    "\n"
   ]
  },
  {
   "cell_type": "markdown",
   "id": "a2b69655-9df2-4401-a422-de410a008147",
   "metadata": {},
   "source": [
    "## 8.a. Customer Policy Analysis"
   ]
  },
  {
   "cell_type": "markdown",
   "id": "e861276c-4ea7-4f1a-ab51-b8e5f76d0554",
   "metadata": {},
   "source": [
    "modelimizi optimizeederek False Negatif(FN) değerini düşürdüğümüzde:\n",
    "\n",
    "Yanlış kişiye kredi verme durumumuz False Negative  346 dan 211 e düşmüştür.\n",
    "\n",
    "Kredi verilebilir olarak değerlendirilen ama hatalı olan  kişi sayısı False Positive (FP) 84 den 419 a çıkmıştır.\n",
    "\n",
    "bu durumda hangi politikayı seçececeğimize kara vermek için:"
   ]
  },
  {
   "cell_type": "code",
   "execution_count": 511,
   "id": "523878a9-5443-4c22-8f20-5d87c66e6f0f",
   "metadata": {},
   "outputs": [
    {
     "data": {
      "text/html": [
       "<div>\n",
       "<style scoped>\n",
       "    .dataframe tbody tr th:only-of-type {\n",
       "        vertical-align: middle;\n",
       "    }\n",
       "\n",
       "    .dataframe tbody tr th {\n",
       "        vertical-align: top;\n",
       "    }\n",
       "\n",
       "    .dataframe thead th {\n",
       "        text-align: right;\n",
       "    }\n",
       "</style>\n",
       "<table border=\"1\" class=\"dataframe\">\n",
       "  <thead>\n",
       "    <tr style=\"text-align: right;\">\n",
       "      <th></th>\n",
       "      <th>customer_age</th>\n",
       "      <th>customer_income</th>\n",
       "      <th>home_ownership</th>\n",
       "      <th>employment_duration</th>\n",
       "      <th>loan_intent</th>\n",
       "      <th>loan_grade</th>\n",
       "      <th>loan_amnt</th>\n",
       "      <th>loan_int_rate</th>\n",
       "      <th>term_years</th>\n",
       "      <th>historical_default</th>\n",
       "      <th>cred_hist_length</th>\n",
       "      <th>Current_loan_status</th>\n",
       "    </tr>\n",
       "  </thead>\n",
       "  <tbody>\n",
       "    <tr>\n",
       "      <th>1</th>\n",
       "      <td>21</td>\n",
       "      <td>9600</td>\n",
       "      <td>OWN</td>\n",
       "      <td>5.0</td>\n",
       "      <td>EDUCATION</td>\n",
       "      <td>5</td>\n",
       "      <td>1000.0</td>\n",
       "      <td>11.14</td>\n",
       "      <td>1</td>\n",
       "      <td>N</td>\n",
       "      <td>2</td>\n",
       "      <td>0.0</td>\n",
       "    </tr>\n",
       "    <tr>\n",
       "      <th>2</th>\n",
       "      <td>25</td>\n",
       "      <td>9600</td>\n",
       "      <td>MORTGAGE</td>\n",
       "      <td>1.0</td>\n",
       "      <td>MEDICAL</td>\n",
       "      <td>4</td>\n",
       "      <td>5500.0</td>\n",
       "      <td>12.87</td>\n",
       "      <td>5</td>\n",
       "      <td>N</td>\n",
       "      <td>3</td>\n",
       "      <td>1.0</td>\n",
       "    </tr>\n",
       "    <tr>\n",
       "      <th>3</th>\n",
       "      <td>23</td>\n",
       "      <td>65500</td>\n",
       "      <td>RENT</td>\n",
       "      <td>4.0</td>\n",
       "      <td>MEDICAL</td>\n",
       "      <td>4</td>\n",
       "      <td>35000.0</td>\n",
       "      <td>15.23</td>\n",
       "      <td>10</td>\n",
       "      <td>N</td>\n",
       "      <td>2</td>\n",
       "      <td>1.0</td>\n",
       "    </tr>\n",
       "  </tbody>\n",
       "</table>\n",
       "</div>"
      ],
      "text/plain": [
       "   customer_age  customer_income home_ownership  employment_duration  \\\n",
       "1            21             9600            OWN                  5.0   \n",
       "2            25             9600       MORTGAGE                  1.0   \n",
       "3            23            65500           RENT                  4.0   \n",
       "\n",
       "  loan_intent  loan_grade  loan_amnt  loan_int_rate  term_years  \\\n",
       "1   EDUCATION           5     1000.0          11.14           1   \n",
       "2     MEDICAL           4     5500.0          12.87           5   \n",
       "3     MEDICAL           4    35000.0          15.23          10   \n",
       "\n",
       "  historical_default  cred_hist_length  Current_loan_status  \n",
       "1                  N                 2                  0.0  \n",
       "2                  N                 3                  1.0  \n",
       "3                  N                 2                  1.0  "
      ]
     },
     "execution_count": 511,
     "metadata": {},
     "output_type": "execute_result"
    }
   ],
   "source": [
    "# Display 3 rows of dataframe\n",
    "\n",
    "df.head(3)\n"
   ]
  },
  {
   "cell_type": "markdown",
   "id": "6886b877-fd34-416b-8530-74784cc7aef6",
   "metadata": {},
   "source": [
    "#### According To Mean Values Calculating Income\n",
    "\n",
    "Annual Interest Income = mean_loan_amount * mean_loan_int_rate / 100\n",
    "\n",
    "\n",
    "​Total Interest Income over Loan Term=Annual Interest Income * mean_loan_term_years\n",
    " "
   ]
  },
  {
   "cell_type": "code",
   "execution_count": 437,
   "id": "49ed06b1-5f8a-4d42-9e8a-960deb165d25",
   "metadata": {},
   "outputs": [
    {
     "name": "stdout",
     "output_type": "stream",
     "text": [
      "mean loan int rate : %10.99\n",
      "mean loan term years : 5.0\n",
      "mean loan amount : 9439.19£\n"
     ]
    }
   ],
   "source": [
    "# Mean values\n",
    "mean_loan_int_rate = df[\"loan_int_rate\"].mean()\n",
    "mean_loan_term_years = df[\"term_years\"].mean().round()\n",
    "mean_loan_amount = df[\"loan_amnt\"].mean()\n",
    "\n",
    "print(f\"mean loan int rate : %{mean_loan_int_rate:.2f}\")\n",
    "print(f\"mean loan term years : {mean_loan_term_years}\")\n",
    "print(f\"mean loan amount : {mean_loan_amount:.2f}£\")"
   ]
  },
  {
   "cell_type": "markdown",
   "id": "7be3a4e1-e467-4cc5-9af1-6532a66db728",
   "metadata": {},
   "source": [
    "aşağıdaki fonkisiyonun amacı:\n",
    "\n",
    "False negatif(FN) değerindeki iyileştirmenin bize sağladğı katkının ne yönde olabileceğinin analizini ortalama verilerle yapmaktır.\n",
    "\n",
    "We have accepted the value of \"charge_off_range = 0.2\" as an assumption. This value can be reduced or increased as a result of the bank's own risk analysis.\n"
   ]
  },
  {
   "cell_type": "code",
   "execution_count": 512,
   "id": "ce293662-6ec9-44d9-a4ea-a567b243811d",
   "metadata": {},
   "outputs": [
    {
     "name": "stdout",
     "output_type": "stream",
     "text": [
      "Annual Interest Income: 1037.66£\n",
      "Total Interest Income over Loan Term: 5188.29£\n",
      "Total Income Before: 5738250.94£\n",
      "Total Income After optimization: 8176748.17£\n",
      "Loss Before: 158578.39£\n",
      "Loss After optimization: 791004.11£\n",
      "Net Profit: 1806071.51£\n",
      "1806071.5135289596\n"
     ]
    }
   ],
   "source": [
    "\n",
    "def calculate_metrics_and_income(y_test, y_pred_old, y_pred_new, mean_loan_int_rate, mean_loan_term_years, mean_loan_amount):\n",
    "    \n",
    "    \"\"\"\n",
    "    \n",
    "    ##########################################################################\n",
    "    \n",
    "    Compares the prediction performance of two models and calculates loan interest income.\n",
    "    \n",
    "    This function compares the prediction performance of old and new models,\n",
    "    calculates interest income, loss, and net profit. It also determines the \n",
    "    differences in FPR and TPR.\n",
    "\n",
    "    Parameters:\n",
    "    y_test (array): True labels.\n",
    "    y_pred_old (array): Predictions from the old model.\n",
    "    y_pred_new (array): Predictions from the new model.\n",
    "    mean_loan_int_rate (float): Average loan interest rate (%).\n",
    "    mean_loan_term_years (float): Average loan term (years).\n",
    "    mean_loan_amount (float): Average loan amount.\n",
    "\n",
    "    Returns:\n",
    "    float: Net profit.\n",
    "\n",
    "    ##########################################################################\n",
    "    \n",
    "    \"\"\"\n",
    "\n",
    "    \n",
    "    # The situation of not being able to repay the loan at all rate\n",
    "    # Assumption value\n",
    "    charge_off_range = 0.2\n",
    "    \n",
    "    # Calculate confusion matrix and get TN, FP, FN, TP values\n",
    "    cm_old = confusion_matrix(y_test, y_pred_old)\n",
    "    tn_old, fp_old, fn_old, tp_old = cm_old.ravel()\n",
    "\n",
    "    cm_new = confusion_matrix(y_test, y_pred_new)\n",
    "    tn_new, fp_new, fn_new, tp_new = cm_new.ravel()\n",
    "\n",
    "    # Calculate interest income\n",
    "    annual_interest_income = mean_loan_amount * (mean_loan_int_rate / 100)\n",
    "    total_interest_income = annual_interest_income * mean_loan_term_years\n",
    "\n",
    "    print(f\"Annual Interest Income: {annual_interest_income:.2f}£\")\n",
    "    print(f\"Total Interest Income over Loan Term: {total_interest_income:.2f}£\")\n",
    "\n",
    "    # Interest Income Calculation\n",
    "    total_income_before = (tp_old + fp_old) * total_interest_income\n",
    "    total_income_after = (tp_new + fp_new) * total_interest_income\n",
    "\n",
    "    # Loss Calculation\n",
    "    loss_before = fp_old * mean_loan_amount * charge_off_range\n",
    "    loss_after = fp_new * mean_loan_amount * charge_off_range\n",
    "\n",
    "    # Net Profit Calculation\n",
    "    net_profit = (total_income_after - total_income_before) - (loss_after - loss_before)\n",
    "\n",
    "    print(f\"Total Income Before: {total_income_before:.2f}£\")\n",
    "    print(f\"Total Income After optimization: {total_income_after:.2f}£\")\n",
    "    print(f\"Loss Before: {loss_before:.2f}£\")\n",
    "    print(f\"Loss After optimization: {loss_after:.2f}£\")\n",
    "    print(f\"Net Profit: {net_profit:.2f}£\")\n",
    "\n",
    "    # Calculate differences in FPR and TPR\n",
    "    fp_diff = fp_new - fp_old\n",
    "    tp_diff = tp_new - tp_old\n",
    "\n",
    "    return net_profit\n",
    "\n",
    "# Call the function\n",
    "results = calculate_metrics_and_income(y_test, y_pred_gr, y_pred_opt, mean_loan_int_rate, mean_loan_term_years, mean_loan_amount)\n",
    "print(results)\n"
   ]
  },
  {
   "cell_type": "markdown",
   "id": "cb88dcf5-c63e-453d-ac1d-db3429d72903",
   "metadata": {},
   "source": [
    "## 8.b. Conclusion and Comment"
   ]
  },
  {
   "cell_type": "markdown",
   "id": "c114a45b-48de-45a1-99fa-bff3bdc11603",
   "metadata": {},
   "source": [
    "* As a result of False Negative(FN) decrease policies, the bank's annual interest income has increased, but the default risk has also increased due to false positives.\n",
    "\n",
    "* The increase in total interest income has offset the total loss and net profit has been achieved.\n",
    "\n",
    "* However, the increasing default rate may increase the bank's long-term risk. Therefore, additional measures should be taken to reduce default rates."
   ]
  },
  {
   "cell_type": "code",
   "execution_count": null,
   "id": "f399837e-7694-47fb-a3c0-5e40863a02e8",
   "metadata": {},
   "outputs": [],
   "source": []
  }
 ],
 "metadata": {
  "kernelspec": {
   "display_name": "Python 3 (ipykernel)",
   "language": "python",
   "name": "python3"
  },
  "language_info": {
   "codemirror_mode": {
    "name": "ipython",
    "version": 3
   },
   "file_extension": ".py",
   "mimetype": "text/x-python",
   "name": "python",
   "nbconvert_exporter": "python",
   "pygments_lexer": "ipython3",
   "version": "3.12.4"
  }
 },
 "nbformat": 4,
 "nbformat_minor": 5
}
