{
 "cells": [
  {
   "cell_type": "code",
   "execution_count": 22,
   "id": "cb29be63",
   "metadata": {},
   "outputs": [],
   "source": [
    "import pandas as pd\n",
    "import numpy as np\n",
    "\n"
   ]
  },
  {
   "cell_type": "code",
   "execution_count": 2,
   "id": "7366fbb4",
   "metadata": {},
   "outputs": [],
   "source": [
    "df = pd.read_csv(\"Auto.csv\")"
   ]
  },
  {
   "cell_type": "code",
   "execution_count": 3,
   "id": "160d0972",
   "metadata": {},
   "outputs": [
    {
     "data": {
      "text/html": [
       "<div>\n",
       "<style scoped>\n",
       "    .dataframe tbody tr th:only-of-type {\n",
       "        vertical-align: middle;\n",
       "    }\n",
       "\n",
       "    .dataframe tbody tr th {\n",
       "        vertical-align: top;\n",
       "    }\n",
       "\n",
       "    .dataframe thead th {\n",
       "        text-align: right;\n",
       "    }\n",
       "</style>\n",
       "<table border=\"1\" class=\"dataframe\">\n",
       "  <thead>\n",
       "    <tr style=\"text-align: right;\">\n",
       "      <th></th>\n",
       "      <th>mpg</th>\n",
       "      <th>horsepower</th>\n",
       "    </tr>\n",
       "  </thead>\n",
       "  <tbody>\n",
       "    <tr>\n",
       "      <th>0</th>\n",
       "      <td>18.0</td>\n",
       "      <td>130</td>\n",
       "    </tr>\n",
       "    <tr>\n",
       "      <th>1</th>\n",
       "      <td>15.0</td>\n",
       "      <td>165</td>\n",
       "    </tr>\n",
       "    <tr>\n",
       "      <th>2</th>\n",
       "      <td>18.0</td>\n",
       "      <td>150</td>\n",
       "    </tr>\n",
       "    <tr>\n",
       "      <th>3</th>\n",
       "      <td>16.0</td>\n",
       "      <td>150</td>\n",
       "    </tr>\n",
       "    <tr>\n",
       "      <th>4</th>\n",
       "      <td>17.0</td>\n",
       "      <td>140</td>\n",
       "    </tr>\n",
       "  </tbody>\n",
       "</table>\n",
       "</div>"
      ],
      "text/plain": [
       "    mpg  horsepower\n",
       "0  18.0         130\n",
       "1  15.0         165\n",
       "2  18.0         150\n",
       "3  16.0         150\n",
       "4  17.0         140"
      ]
     },
     "execution_count": 3,
     "metadata": {},
     "output_type": "execute_result"
    }
   ],
   "source": [
    "df.head()"
   ]
  },
  {
   "cell_type": "code",
   "execution_count": 4,
   "id": "754c8c28",
   "metadata": {},
   "outputs": [
    {
     "data": {
      "text/plain": [
       "array([[130],\n",
       "       [165],\n",
       "       [150],\n",
       "       [150],\n",
       "       [140]], dtype=int64)"
      ]
     },
     "execution_count": 4,
     "metadata": {},
     "output_type": "execute_result"
    }
   ],
   "source": [
    "X = np.array(df.horsepower).reshape(-1,1)\n",
    "X[:5]"
   ]
  },
  {
   "cell_type": "code",
   "execution_count": 5,
   "id": "40843c2c",
   "metadata": {},
   "outputs": [
    {
     "data": {
      "text/plain": [
       "array([18., 15., 18., 16., 17.])"
      ]
     },
     "execution_count": 5,
     "metadata": {},
     "output_type": "execute_result"
    }
   ],
   "source": [
    "y = np.array(df.mpg)\n",
    "\n",
    "y[:5]"
   ]
  },
  {
   "cell_type": "code",
   "execution_count": 6,
   "id": "0e721988",
   "metadata": {},
   "outputs": [],
   "source": [
    "from sklearn.model_selection import train_test_split\n",
    "\n",
    "X_train, X_test, y_train, y_test = train_test_split(X, y, test_size = 0.2, random_state = 42)"
   ]
  },
  {
   "cell_type": "code",
   "execution_count": 7,
   "id": "8c400a0d",
   "metadata": {},
   "outputs": [],
   "source": [
    "from sklearn.linear_model import LinearRegression\n",
    "\n",
    "model = LinearRegression()"
   ]
  },
  {
   "cell_type": "code",
   "execution_count": null,
   "id": "99e2b337",
   "metadata": {},
   "outputs": [],
   "source": []
  },
  {
   "cell_type": "code",
   "execution_count": 60,
   "id": "60ebfc29",
   "metadata": {},
   "outputs": [
    {
     "name": "stdout",
     "output_type": "stream",
     "text": [
      "Coefficions: [ 3.67099931e+00 -7.21169288e-02  6.07240004e-04 -2.36544467e-06\n",
      "  3.49370614e-09]\n",
      "Interceptions: -29.59874733732507\n"
     ]
    }
   ],
   "source": [
    "from sklearn.preprocessing import PolynomialFeatures\n",
    "\n",
    "poly_features = PolynomialFeatures(degree = 5, include_bias = False)\n",
    "\n",
    "X_poly_train = poly_features.fit_transform(X_train)\n",
    "X_poly_test = poly_features.fit_transform(X_test)\n",
    "\n",
    "\n",
    "\n",
    "model.fit(X_poly_train, y_train)\n",
    "\n",
    "\n",
    "print(\"Coefficions:\", model.coef_)\n",
    "print(\"Interceptions:\", model.intercept_)"
   ]
  },
  {
   "cell_type": "code",
   "execution_count": 61,
   "id": "d651c223",
   "metadata": {},
   "outputs": [
    {
     "data": {
      "text/plain": [
       "array([31.68175838, 18.90908803, 34.26465101, 31.35911948, 26.01261911,\n",
       "       29.6944332 , 14.07529786, 29.6944332 , 23.28998757, 35.91921944,\n",
       "       11.93425336, 20.16270869, 15.31490828, 29.6944332 , 16.8271256 ,\n",
       "       25.37553763, 23.28998757, 29.6944332 , 27.99929714, 25.37553763,\n",
       "       23.28998757, 35.70494153, 31.99937015, 17.08556438, 32.3112165 ,\n",
       "       24.75518998, 25.69212465, 20.79149798, 35.90251202, 29.35560605,\n",
       "       15.97575706, 24.75518998, 17.583095  , 30.032093  , 15.65220779,\n",
       "       32.3112165 , 16.30659701, 27.99929714, 16.30659701, 11.68799718,\n",
       "       17.08556438, 29.6944332 , 30.032093  , 28.67663367, 15.78217078,\n",
       "       11.68799718, 21.96449306, 31.68175838, 30.70157473, 31.35911948,\n",
       "       15.45268098, 23.28998757, 24.75518998, 25.37553763, 19.41064484,\n",
       "       19.774515  , 19.774515  , 21.96449306, 23.28998757, 23.28998757,\n",
       "       14.57077928, 24.75518998, 18.90908803, 25.37553763, 23.28998757,\n",
       "       27.66242454, 25.37553763, 31.35911948, 19.774515  , 11.23677161,\n",
       "       30.70157473, 13.56869081, 22.74208539, 24.75518998, 26.33671973,\n",
       "       27.99929714, 15.97575706, 15.65220779, 25.37553763])"
      ]
     },
     "execution_count": 61,
     "metadata": {},
     "output_type": "execute_result"
    }
   ],
   "source": [
    "y_poly_pred = model.predict(X_poly_test)\n",
    "y_poly_pred"
   ]
  },
  {
   "cell_type": "code",
   "execution_count": 62,
   "id": "8266c77f",
   "metadata": {},
   "outputs": [
    {
     "name": "stdout",
     "output_type": "stream",
     "text": [
      "MSE: 17.87701491266065\n",
      "r2: 0.6497490079874764\n"
     ]
    }
   ],
   "source": [
    "from sklearn.metrics import mean_squared_error, r2_score\n",
    "\n",
    "print(\"MSE:\", mean_squared_error(y_poly_pred, y_test))\n",
    "print(\"r2:\", r2_score(y_test, y_poly_pred))"
   ]
  },
  {
   "cell_type": "code",
   "execution_count": null,
   "id": "615f38ec",
   "metadata": {},
   "outputs": [],
   "source": []
  },
  {
   "cell_type": "code",
   "execution_count": null,
   "id": "44916e1a",
   "metadata": {},
   "outputs": [],
   "source": []
  }
 ],
 "metadata": {
  "kernelspec": {
   "display_name": "Python 3 (ipykernel)",
   "language": "python",
   "name": "python3"
  },
  "language_info": {
   "codemirror_mode": {
    "name": "ipython",
    "version": 3
   },
   "file_extension": ".py",
   "mimetype": "text/x-python",
   "name": "python",
   "nbconvert_exporter": "python",
   "pygments_lexer": "ipython3",
   "version": "3.11.5"
  }
 },
 "nbformat": 4,
 "nbformat_minor": 5
}
